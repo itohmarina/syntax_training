{
  "nbformat": 4,
  "nbformat_minor": 0,
  "metadata": {
    "colab": {
      "provenance": [],
      "authorship_tag": "ABX9TyPIy2KUqCRDmwrD1HWUym6H",
      "include_colab_link": true
    },
    "kernelspec": {
      "name": "python3",
      "display_name": "Python 3"
    },
    "language_info": {
      "name": "python"
    }
  },
  "cells": [
    {
      "cell_type": "markdown",
      "metadata": {
        "id": "view-in-github",
        "colab_type": "text"
      },
      "source": [
        "<a href=\"https://colab.research.google.com/github/itohmarina/syntax_training/blob/main/Python%E3%83%97%E3%83%AD%E3%82%B0%E3%83%A9%E3%83%9F%E3%83%B3%E3%82%B0%E5%85%A5%E9%96%806.ipynb\" target=\"_parent\"><img src=\"https://colab.research.google.com/assets/colab-badge.svg\" alt=\"Open In Colab\"/></a>"
      ]
    },
    {
      "cell_type": "code",
      "execution_count": 1,
      "metadata": {
        "colab": {
          "base_uri": "https://localhost:8080/"
        },
        "id": "csAOxbsivaNR",
        "outputId": "20622aa8-028f-4f51-cd98-e6a1001d39d1"
      },
      "outputs": [
        {
          "output_type": "stream",
          "name": "stdout",
          "text": [
            "点数は？70\n",
            "合格\n"
          ]
        }
      ],
      "source": [
        "score = int(input('点数は？'))\n",
        "if 80 <= score <= 100:\n",
        "    print('優')\n",
        "elif 60 <= score <80:\n",
        "    print('合格')\n",
        "else:\n",
        "    print('不合格')"
      ]
    },
    {
      "cell_type": "code",
      "source": [
        "momotaro = ['さる', 'きじ', 'いぬ']\n",
        "animal = input('動物?')\n",
        "if animal in momotaro:\n",
        "    print(f'桃太郎は{animal}を連れて行きました。')\n",
        "else:\n",
        "    print(f'桃太郎は{animal}を連れて行きませんでした。')"
      ],
      "metadata": {
        "colab": {
          "base_uri": "https://localhost:8080/"
        },
        "id": "Ft4OVR2dwBCJ",
        "outputId": "00eac951-4a78-4f8c-f4ae-757dd2ef2787"
      },
      "execution_count": 3,
      "outputs": [
        {
          "output_type": "stream",
          "name": "stdout",
          "text": [
            "動物?とり\n",
            "桃太郎はとりを連れて行きませんでした。\n"
          ]
        }
      ]
    },
    {
      "cell_type": "code",
      "source": [
        "a = int(input('整数を入力してください（正負とも可）：'))\n",
        "if a >= 0:\n",
        "  print('正')\n",
        "else:\n",
        "  print('負')"
      ],
      "metadata": {
        "colab": {
          "base_uri": "https://localhost:8080/"
        },
        "id": "_4fyhN79wyGl",
        "outputId": "fb190963-3643-459e-b6ae-582cf8c3a75f"
      },
      "execution_count": 5,
      "outputs": [
        {
          "output_type": "stream",
          "name": "stdout",
          "text": [
            "整数を入力してください（正負とも可）：3\n",
            "正\n"
          ]
        }
      ]
    },
    {
      "cell_type": "code",
      "source": [
        "a = int(input('整数を入力してください（正負とも可）：'))\n",
        "print('正') if a >= 0 else print('負')"
      ],
      "metadata": {
        "colab": {
          "base_uri": "https://localhost:8080/"
        },
        "id": "neSPku0bxR3p",
        "outputId": "6cf19a1e-bfe0-4b38-b08d-e1cce4cc61e4"
      },
      "execution_count": 8,
      "outputs": [
        {
          "output_type": "stream",
          "name": "stdout",
          "text": [
            "整数を入力してください（正負とも可）：８\n",
            "正\n"
          ]
        }
      ]
    },
    {
      "cell_type": "code",
      "source": [
        "a = int(input('整数を入力してください（正負とも可）：'))\n",
        "b = '正' if a >= 0 else '負'\n",
        "print(b)"
      ],
      "metadata": {
        "colab": {
          "base_uri": "https://localhost:8080/"
        },
        "id": "thgDctE4x1d4",
        "outputId": "487c767e-0d23-476d-cf62-ff14bca02bf8"
      },
      "execution_count": 11,
      "outputs": [
        {
          "output_type": "stream",
          "name": "stdout",
          "text": [
            "整数を入力してください（正負とも可）：7\n",
            "正\n"
          ]
        }
      ]
    },
    {
      "cell_type": "code",
      "source": [
        "values = [1,2,3,4,5]\n",
        "for value in values:\n",
        "  print(value)"
      ],
      "metadata": {
        "colab": {
          "base_uri": "https://localhost:8080/"
        },
        "id": "DSzBD1o3yQ6q",
        "outputId": "0532a5a7-290c-4427-c343-5c3babf25e62"
      },
      "execution_count": 13,
      "outputs": [
        {
          "output_type": "stream",
          "name": "stdout",
          "text": [
            "1\n",
            "2\n",
            "3\n",
            "4\n",
            "5\n"
          ]
        }
      ]
    },
    {
      "cell_type": "code",
      "source": [
        "values = [1,2,3,4,5]\n",
        "sum = 0\n",
        "for value in values:\n",
        "  sum += value\n",
        "\n",
        "print(sum)"
      ],
      "metadata": {
        "colab": {
          "base_uri": "https://localhost:8080/"
        },
        "id": "bQ22W8L4zTr1",
        "outputId": "1d13e2fa-cafe-471d-8ba4-81c47bbd06a6"
      },
      "execution_count": 14,
      "outputs": [
        {
          "output_type": "stream",
          "name": "stdout",
          "text": [
            "15\n"
          ]
        }
      ]
    },
    {
      "cell_type": "code",
      "source": [
        "a = list(range(5))\n",
        "b = list(range(2,6))\n",
        "print(f'list(range(5)) = {a}')\n",
        "print(f'list(range(2,6)) = {b}')"
      ],
      "metadata": {
        "colab": {
          "base_uri": "https://localhost:8080/"
        },
        "id": "xCDwYSUx0Vd5",
        "outputId": "83afec19-208a-4dc4-8b72-2f4336ac7766"
      },
      "execution_count": 15,
      "outputs": [
        {
          "output_type": "stream",
          "name": "stdout",
          "text": [
            "list(range(5)) = [0, 1, 2, 3, 4]\n",
            "list(range(2,6)) = [2, 3, 4, 5]\n"
          ]
        }
      ]
    },
    {
      "cell_type": "code",
      "source": [
        "for a in range(5):\n",
        "  b = a ** 2\n",
        "  print(b)"
      ],
      "metadata": {
        "colab": {
          "base_uri": "https://localhost:8080/"
        },
        "id": "YDAHl9LF03NC",
        "outputId": "4f32972d-166f-4ce0-f9f6-d0d1cf05a0f6"
      },
      "execution_count": 16,
      "outputs": [
        {
          "output_type": "stream",
          "name": "stdout",
          "text": [
            "0\n",
            "1\n",
            "4\n",
            "9\n",
            "16\n"
          ]
        }
      ]
    },
    {
      "cell_type": "code",
      "source": [
        "sum = 0\n",
        "a = range(2,10,2)\n",
        "for x in a :\n",
        "  sum += x\n",
        "ave = sum / len(a)\n",
        "print(ave)"
      ],
      "metadata": {
        "colab": {
          "base_uri": "https://localhost:8080/"
        },
        "id": "KCggtJPM1Tus",
        "outputId": "c68f4530-9888-4f13-81a5-7824b6c96f01"
      },
      "execution_count": 18,
      "outputs": [
        {
          "output_type": "stream",
          "name": "stdout",
          "text": [
            "5.0\n"
          ]
        }
      ]
    },
    {
      "cell_type": "code",
      "source": [],
      "metadata": {
        "id": "vIib4-q62DUB"
      },
      "execution_count": null,
      "outputs": []
    }
  ]
}
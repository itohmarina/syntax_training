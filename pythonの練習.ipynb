{
  "nbformat": 4,
  "nbformat_minor": 0,
  "metadata": {
    "colab": {
      "provenance": [],
      "authorship_tag": "ABX9TyMVlHjLYVez266gdB45sMeG",
      "include_colab_link": true
    },
    "kernelspec": {
      "name": "python3",
      "display_name": "Python 3"
    },
    "language_info": {
      "name": "python"
    }
  },
  "cells": [
    {
      "cell_type": "markdown",
      "metadata": {
        "id": "view-in-github",
        "colab_type": "text"
      },
      "source": [
        "<a href=\"https://colab.research.google.com/github/itohmarina/syntax_training/blob/main/python%E3%81%AE%E7%B7%B4%E7%BF%92.ipynb\" target=\"_parent\"><img src=\"https://colab.research.google.com/assets/colab-badge.svg\" alt=\"Open In Colab\"/></a>"
      ]
    },
    {
      "cell_type": "markdown",
      "source": [
        "pythonの練習。参考：https://mitani.cs.tsukuba.ac.jp/book_support/python/"
      ],
      "metadata": {
        "id": "aJO-h-z_RZLt"
      }
    },
    {
      "cell_type": "code",
      "execution_count": 1,
      "metadata": {
        "colab": {
          "base_uri": "https://localhost:8080/"
        },
        "id": "XSNgWlO_J1Fw",
        "outputId": "9921a22c-7953-4591-a8b8-2d8c8d844821"
      },
      "outputs": [
        {
          "output_type": "stream",
          "name": "stdout",
          "text": [
            "5050\n"
          ]
        }
      ],
      "source": [
        "total = 0\n",
        "for i in range(1, 101):\n",
        "  total += i\n",
        "print(total)"
      ]
    },
    {
      "cell_type": "markdown",
      "source": [
        "1~100まで足している。101は足していない"
      ],
      "metadata": {
        "id": "pT_ZoKX8KbOx"
      }
    },
    {
      "cell_type": "code",
      "source": [
        "print('Hello')"
      ],
      "metadata": {
        "colab": {
          "base_uri": "https://localhost:8080/"
        },
        "id": "buMchzk_Kg4F",
        "outputId": "fba4acf8-0950-4045-e262-9cc876c185cf"
      },
      "execution_count": 2,
      "outputs": [
        {
          "output_type": "stream",
          "name": "stdout",
          "text": [
            "Hello\n"
          ]
        }
      ]
    },
    {
      "cell_type": "code",
      "source": [
        "a = 'Hello'+'World'\n",
        "print(a)"
      ],
      "metadata": {
        "colab": {
          "base_uri": "https://localhost:8080/"
        },
        "id": "fGEHHq95Kvv_",
        "outputId": "194934e9-2afd-456f-bfd1-4742c0463b78"
      },
      "execution_count": 3,
      "outputs": [
        {
          "output_type": "stream",
          "name": "stdout",
          "text": [
            "HelloWorld\n"
          ]
        }
      ]
    },
    {
      "cell_type": "code",
      "source": [
        "a = 'Hello'\n",
        "b = 'World'\n",
        "c = '!'\n",
        "print(a, b, c)"
      ],
      "metadata": {
        "colab": {
          "base_uri": "https://localhost:8080/"
        },
        "id": "0yw_M--AK3un",
        "outputId": "06d0ce2f-b871-45ad-8fd8-ac2727788c2f"
      },
      "execution_count": 4,
      "outputs": [
        {
          "output_type": "stream",
          "name": "stdout",
          "text": [
            "Hello World !\n"
          ]
        }
      ]
    },
    {
      "cell_type": "code",
      "source": [
        "A='Good'\n",
        "print(a, A)"
      ],
      "metadata": {
        "colab": {
          "base_uri": "https://localhost:8080/"
        },
        "id": "pLTQdjyELGLH",
        "outputId": "921a527a-2130-4ae2-c95e-e9f73b7d0d99"
      },
      "execution_count": 5,
      "outputs": [
        {
          "output_type": "stream",
          "name": "stdout",
          "text": [
            "Hello Good\n"
          ]
        }
      ]
    },
    {
      "cell_type": "code",
      "source": [
        "1+2+3+4"
      ],
      "metadata": {
        "colab": {
          "base_uri": "https://localhost:8080/"
        },
        "id": "mmUMFjw3NH7X",
        "outputId": "ff872714-8f6b-40b6-df98-0ec680c68d71"
      },
      "execution_count": 6,
      "outputs": [
        {
          "output_type": "execute_result",
          "data": {
            "text/plain": [
              "10"
            ]
          },
          "metadata": {},
          "execution_count": 6
        }
      ]
    },
    {
      "cell_type": "code",
      "source": [
        "2+3*2"
      ],
      "metadata": {
        "colab": {
          "base_uri": "https://localhost:8080/"
        },
        "id": "52bd6j51NVow",
        "outputId": "5fdfd662-f481-4f68-94c3-3a5be84d9766"
      },
      "execution_count": 7,
      "outputs": [
        {
          "output_type": "execute_result",
          "data": {
            "text/plain": [
              "8"
            ]
          },
          "metadata": {},
          "execution_count": 7
        }
      ]
    },
    {
      "cell_type": "code",
      "source": [
        "(2+3)*2"
      ],
      "metadata": {
        "colab": {
          "base_uri": "https://localhost:8080/"
        },
        "id": "GGdAp4j6NYNC",
        "outputId": "ee14a28d-9691-4e63-b8e0-535235bb31d6"
      },
      "execution_count": 8,
      "outputs": [
        {
          "output_type": "execute_result",
          "data": {
            "text/plain": [
              "10"
            ]
          },
          "metadata": {},
          "execution_count": 8
        }
      ]
    },
    {
      "cell_type": "code",
      "source": [
        "10/2.5"
      ],
      "metadata": {
        "colab": {
          "base_uri": "https://localhost:8080/"
        },
        "id": "0K-qNG5ANcRL",
        "outputId": "d799a957-01b0-4529-d273-8b34b3f71ca7"
      },
      "execution_count": 9,
      "outputs": [
        {
          "output_type": "execute_result",
          "data": {
            "text/plain": [
              "4.0"
            ]
          },
          "metadata": {},
          "execution_count": 9
        }
      ]
    },
    {
      "cell_type": "code",
      "source": [
        "3/0.1"
      ],
      "metadata": {
        "colab": {
          "base_uri": "https://localhost:8080/"
        },
        "id": "5S4MoE3FNeZ0",
        "outputId": "7c4bb4db-5d34-4a56-fa4c-7c9e245396ad"
      },
      "execution_count": 11,
      "outputs": [
        {
          "output_type": "execute_result",
          "data": {
            "text/plain": [
              "30.0"
            ]
          },
          "metadata": {},
          "execution_count": 11
        }
      ]
    },
    {
      "cell_type": "code",
      "source": [
        "type(10)"
      ],
      "metadata": {
        "colab": {
          "base_uri": "https://localhost:8080/"
        },
        "id": "q9oO4saUNfn6",
        "outputId": "6ed0e0c7-2858-448a-ec51-4a4a9de7e6dd"
      },
      "execution_count": 12,
      "outputs": [
        {
          "output_type": "execute_result",
          "data": {
            "text/plain": [
              "int"
            ]
          },
          "metadata": {},
          "execution_count": 12
        }
      ]
    },
    {
      "cell_type": "code",
      "source": [
        "type(0.5)"
      ],
      "metadata": {
        "colab": {
          "base_uri": "https://localhost:8080/"
        },
        "id": "zRVw-CAfNvgt",
        "outputId": "4fcf4028-4f14-4670-be97-86fbb10cc38d"
      },
      "execution_count": 13,
      "outputs": [
        {
          "output_type": "execute_result",
          "data": {
            "text/plain": [
              "float"
            ]
          },
          "metadata": {},
          "execution_count": 13
        }
      ]
    },
    {
      "cell_type": "code",
      "source": [
        "type(True)"
      ],
      "metadata": {
        "colab": {
          "base_uri": "https://localhost:8080/"
        },
        "id": "VLRNh3IjNy0H",
        "outputId": "80a3ac1f-52fe-4e00-d9c0-8176d68923cd"
      },
      "execution_count": 14,
      "outputs": [
        {
          "output_type": "execute_result",
          "data": {
            "text/plain": [
              "bool"
            ]
          },
          "metadata": {},
          "execution_count": 14
        }
      ]
    },
    {
      "cell_type": "code",
      "source": [
        "print(a)\n",
        "type(a)"
      ],
      "metadata": {
        "colab": {
          "base_uri": "https://localhost:8080/"
        },
        "id": "PqCv9ClvN1pB",
        "outputId": "c2afd7ae-8136-426d-bca4-15a949a1aeaa"
      },
      "execution_count": 15,
      "outputs": [
        {
          "output_type": "stream",
          "name": "stdout",
          "text": [
            "Hello\n"
          ]
        },
        {
          "output_type": "execute_result",
          "data": {
            "text/plain": [
              "str"
            ]
          },
          "metadata": {},
          "execution_count": 15
        }
      ]
    },
    {
      "cell_type": "code",
      "source": [
        "4**2"
      ],
      "metadata": {
        "colab": {
          "base_uri": "https://localhost:8080/"
        },
        "id": "QcHDAFBUN5ps",
        "outputId": "778d0fe9-f784-46c6-8283-603773f9263d"
      },
      "execution_count": 16,
      "outputs": [
        {
          "output_type": "execute_result",
          "data": {
            "text/plain": [
              "16"
            ]
          },
          "metadata": {},
          "execution_count": 16
        }
      ]
    },
    {
      "cell_type": "code",
      "source": [
        "a = int(9.6)\n",
        "print(a)"
      ],
      "metadata": {
        "colab": {
          "base_uri": "https://localhost:8080/"
        },
        "id": "XTUXAx52N_h-",
        "outputId": "9f352f1f-ca85-4573-b2d7-4d8d6cc1301b"
      },
      "execution_count": 17,
      "outputs": [
        {
          "output_type": "stream",
          "name": "stdout",
          "text": [
            "9\n"
          ]
        }
      ]
    },
    {
      "cell_type": "code",
      "source": [
        "a = 'ABC'*3\n",
        "print(a)"
      ],
      "metadata": {
        "colab": {
          "base_uri": "https://localhost:8080/"
        },
        "id": "AKP21L2mOadJ",
        "outputId": "f5f9d223-fc09-4026-c19f-26dbfb6f5fda"
      },
      "execution_count": 19,
      "outputs": [
        {
          "output_type": "stream",
          "name": "stdout",
          "text": [
            "ABCABCABC\n"
          ]
        }
      ]
    },
    {
      "cell_type": "code",
      "source": [
        "a = str(500) + '円'\n",
        "print(a)"
      ],
      "metadata": {
        "colab": {
          "base_uri": "https://localhost:8080/"
        },
        "id": "Dt21eCapOfZU",
        "outputId": "f6237223-b679-4102-f52f-f6d31ea1c733"
      },
      "execution_count": 20,
      "outputs": [
        {
          "output_type": "stream",
          "name": "stdout",
          "text": [
            "500円\n"
          ]
        }
      ]
    },
    {
      "cell_type": "code",
      "source": [
        "year = 2023\n",
        "print(str(year)+'年')"
      ],
      "metadata": {
        "colab": {
          "base_uri": "https://localhost:8080/"
        },
        "id": "sGSE-ZCrOqxm",
        "outputId": "45626c5a-ee2a-4ada-b71f-bdb268ae2c87"
      },
      "execution_count": 21,
      "outputs": [
        {
          "output_type": "stream",
          "name": "stdout",
          "text": [
            "2023年\n"
          ]
        }
      ]
    },
    {
      "cell_type": "code",
      "source": [
        "price = 550\n",
        "print(f'この商品は{price}円です')"
      ],
      "metadata": {
        "colab": {
          "base_uri": "https://localhost:8080/"
        },
        "id": "f_k4FRUnOxqd",
        "outputId": "0c3539e0-6503-4a26-cc37-ef3cbdaf2373"
      },
      "execution_count": 22,
      "outputs": [
        {
          "output_type": "stream",
          "name": "stdout",
          "text": [
            "この商品は550円です\n"
          ]
        }
      ]
    },
    {
      "cell_type": "code",
      "source": [
        "a = 5\n",
        "b = 550\n",
        "print(f'１つ{b}円です。{a}個で{a*b}円です')"
      ],
      "metadata": {
        "colab": {
          "base_uri": "https://localhost:8080/"
        },
        "id": "IIL-OEnrPAa_",
        "outputId": "514e59a9-03a1-4329-8a42-3d639bf7a162"
      },
      "execution_count": 23,
      "outputs": [
        {
          "output_type": "stream",
          "name": "stdout",
          "text": [
            "１つ550円です。5個で2750円です\n"
          ]
        }
      ]
    },
    {
      "cell_type": "code",
      "source": [
        "a = 'Python'\n",
        "len(a)"
      ],
      "metadata": {
        "colab": {
          "base_uri": "https://localhost:8080/"
        },
        "id": "OBpINp4iPTDF",
        "outputId": "c855da3d-7bb0-4b7a-c7a8-31240e132f92"
      },
      "execution_count": 24,
      "outputs": [
        {
          "output_type": "execute_result",
          "data": {
            "text/plain": [
              "6"
            ]
          },
          "metadata": {},
          "execution_count": 24
        }
      ]
    },
    {
      "cell_type": "code",
      "source": [
        "print(2.5e-4)"
      ],
      "metadata": {
        "colab": {
          "base_uri": "https://localhost:8080/"
        },
        "id": "hwNYOuhrPfmA",
        "outputId": "5dd5adc6-88d3-459a-8ae8-3da4059e8772"
      },
      "execution_count": 33,
      "outputs": [
        {
          "output_type": "stream",
          "name": "stdout",
          "text": [
            "0.00025\n"
          ]
        }
      ]
    },
    {
      "cell_type": "markdown",
      "source": [
        "e-5はできない。指数部は-4以上。"
      ],
      "metadata": {
        "id": "zigy81ONQeH3"
      }
    },
    {
      "cell_type": "code",
      "source": [
        "a = [10, 20, 30, 40, 50]\n",
        "print(a[0])\n",
        "print(a[4])"
      ],
      "metadata": {
        "colab": {
          "base_uri": "https://localhost:8080/"
        },
        "id": "hNqZruD9P2IK",
        "outputId": "ac15b97a-b47d-4c6e-e373-dccb1f80496f"
      },
      "execution_count": 34,
      "outputs": [
        {
          "output_type": "stream",
          "name": "stdout",
          "text": [
            "10\n",
            "50\n"
          ]
        }
      ]
    },
    {
      "cell_type": "code",
      "source": [
        "print(a[-1])\n",
        "print(a[-5])"
      ],
      "metadata": {
        "colab": {
          "base_uri": "https://localhost:8080/"
        },
        "id": "pk-qZhclQ5XC",
        "outputId": "6616b6e4-8848-4c3e-cb86-2b6e6092bea0"
      },
      "execution_count": 35,
      "outputs": [
        {
          "output_type": "stream",
          "name": "stdout",
          "text": [
            "50\n",
            "10\n"
          ]
        }
      ]
    },
    {
      "cell_type": "code",
      "source": [
        "a[0] = 99\n",
        "print(a)"
      ],
      "metadata": {
        "colab": {
          "base_uri": "https://localhost:8080/"
        },
        "id": "kDG6P2GuRA8p",
        "outputId": "78cd913d-dab2-4fda-8716-464220c4d717"
      },
      "execution_count": 36,
      "outputs": [
        {
          "output_type": "stream",
          "name": "stdout",
          "text": [
            "[99, 20, 30, 40, 50]\n"
          ]
        }
      ]
    },
    {
      "cell_type": "code",
      "source": [
        "a[-1] = 'A'\n",
        "print(a)"
      ],
      "metadata": {
        "colab": {
          "base_uri": "https://localhost:8080/"
        },
        "id": "64kohBR0RIV9",
        "outputId": "bba6f51f-f959-45df-c336-7541021633da"
      },
      "execution_count": 37,
      "outputs": [
        {
          "output_type": "stream",
          "name": "stdout",
          "text": [
            "[99, 20, 30, 40, 'A']\n"
          ]
        }
      ]
    },
    {
      "cell_type": "code",
      "source": [
        "len(a)"
      ],
      "metadata": {
        "colab": {
          "base_uri": "https://localhost:8080/"
        },
        "id": "1djxo4v6RNY1",
        "outputId": "0228f378-3814-4953-fbbc-75ab09b0b58c"
      },
      "execution_count": 38,
      "outputs": [
        {
          "output_type": "execute_result",
          "data": {
            "text/plain": [
              "5"
            ]
          },
          "metadata": {},
          "execution_count": 38
        }
      ]
    },
    {
      "cell_type": "code",
      "source": [
        "import math"
      ],
      "metadata": {
        "id": "EvZ2847DRRsc"
      },
      "execution_count": 39,
      "outputs": []
    },
    {
      "cell_type": "code",
      "source": [
        "print(math.sqrt(2))"
      ],
      "metadata": {
        "colab": {
          "base_uri": "https://localhost:8080/"
        },
        "id": "woaeVKDURx0e",
        "outputId": "a34b4131-df67-4920-f4aa-cb54428875ea"
      },
      "execution_count": 41,
      "outputs": [
        {
          "output_type": "stream",
          "name": "stdout",
          "text": [
            "1.4142135623730951\n"
          ]
        }
      ]
    },
    {
      "cell_type": "code",
      "source": [
        "print(math.floor(12.345))"
      ],
      "metadata": {
        "colab": {
          "base_uri": "https://localhost:8080/"
        },
        "id": "4u5E1XqeSCcq",
        "outputId": "ea13d9a6-269c-4f43-9497-7ef0380b6261"
      },
      "execution_count": 42,
      "outputs": [
        {
          "output_type": "stream",
          "name": "stdout",
          "text": [
            "12\n"
          ]
        }
      ]
    },
    {
      "cell_type": "code",
      "source": [
        "print(math.sqrt(9))"
      ],
      "metadata": {
        "colab": {
          "base_uri": "https://localhost:8080/"
        },
        "id": "wGCntm4wSL6Z",
        "outputId": "d516ebb4-bc99-4ae5-d222-9e4107f662b8"
      },
      "execution_count": 43,
      "outputs": [
        {
          "output_type": "stream",
          "name": "stdout",
          "text": [
            "3.0\n"
          ]
        }
      ]
    },
    {
      "cell_type": "code",
      "source": [
        "print(math.pi)"
      ],
      "metadata": {
        "colab": {
          "base_uri": "https://localhost:8080/"
        },
        "id": "bLElGXjvSTbh",
        "outputId": "66107aab-ef74-4bb9-ea74-8d0f944adb85"
      },
      "execution_count": 44,
      "outputs": [
        {
          "output_type": "stream",
          "name": "stdout",
          "text": [
            "3.141592653589793\n"
          ]
        }
      ]
    },
    {
      "cell_type": "code",
      "source": [
        "import random"
      ],
      "metadata": {
        "id": "JPuQAIpCSYJp"
      },
      "execution_count": 45,
      "outputs": []
    },
    {
      "cell_type": "code",
      "source": [
        "random.randint(1,6)"
      ],
      "metadata": {
        "colab": {
          "base_uri": "https://localhost:8080/"
        },
        "id": "R4gBpIEWSiUq",
        "outputId": "497b017a-70a4-418d-8059-732589c2acd9"
      },
      "execution_count": 48,
      "outputs": [
        {
          "output_type": "execute_result",
          "data": {
            "text/plain": [
              "5"
            ]
          },
          "metadata": {},
          "execution_count": 48
        }
      ]
    },
    {
      "cell_type": "markdown",
      "source": [
        "整数のみ\n"
      ],
      "metadata": {
        "id": "Wqb8WitdStkL"
      }
    },
    {
      "cell_type": "code",
      "source": [
        "random.choice(a)"
      ],
      "metadata": {
        "colab": {
          "base_uri": "https://localhost:8080/"
        },
        "id": "15AKRBK0Slr_",
        "outputId": "06575bf2-8dc2-4d20-8e07-925d0ad6ab4f"
      },
      "execution_count": 50,
      "outputs": [
        {
          "output_type": "execute_result",
          "data": {
            "text/plain": [
              "40"
            ]
          },
          "metadata": {},
          "execution_count": 50
        }
      ]
    },
    {
      "cell_type": "code",
      "source": [
        "random.random()"
      ],
      "metadata": {
        "colab": {
          "base_uri": "https://localhost:8080/"
        },
        "id": "IjEkB7JDS0Je",
        "outputId": "fbf4fcd5-5e65-477f-936d-9e6eee742962"
      },
      "execution_count": 52,
      "outputs": [
        {
          "output_type": "execute_result",
          "data": {
            "text/plain": [
              "0.8519779378887035"
            ]
          },
          "metadata": {},
          "execution_count": 52
        }
      ]
    },
    {
      "cell_type": "code",
      "source": [
        "random.randrange(11)"
      ],
      "metadata": {
        "colab": {
          "base_uri": "https://localhost:8080/"
        },
        "id": "_tOqppZRS3Li",
        "outputId": "41db0188-5341-43a4-ae40-07c3468b0366"
      },
      "execution_count": 58,
      "outputs": [
        {
          "output_type": "execute_result",
          "data": {
            "text/plain": [
              "10"
            ]
          },
          "metadata": {},
          "execution_count": 58
        }
      ]
    },
    {
      "cell_type": "code",
      "source": [
        "janken = ['グー', 'チョキ', 'パー']\n",
        "random.choice(janken)"
      ],
      "metadata": {
        "colab": {
          "base_uri": "https://localhost:8080/",
          "height": 36
        },
        "id": "SxBJyP1US_yI",
        "outputId": "19cbf5e7-b3d7-4624-fb22-c8f0c30ad25d"
      },
      "execution_count": 61,
      "outputs": [
        {
          "output_type": "execute_result",
          "data": {
            "text/plain": [
              "'パー'"
            ],
            "application/vnd.google.colaboratory.intrinsic+json": {
              "type": "string"
            }
          },
          "metadata": {},
          "execution_count": 61
        }
      ]
    },
    {
      "cell_type": "code",
      "source": [
        "100/9"
      ],
      "metadata": {
        "colab": {
          "base_uri": "https://localhost:8080/"
        },
        "id": "UVtLlkjjTVXI",
        "outputId": "518d3fe7-cb14-4f4d-b1f5-32deba7be5ee"
      },
      "execution_count": 62,
      "outputs": [
        {
          "output_type": "execute_result",
          "data": {
            "text/plain": [
              "11.11111111111111"
            ]
          },
          "metadata": {},
          "execution_count": 62
        }
      ]
    },
    {
      "cell_type": "code",
      "source": [
        "1000%7"
      ],
      "metadata": {
        "colab": {
          "base_uri": "https://localhost:8080/"
        },
        "id": "DsYxu7viUl4N",
        "outputId": "2636ac06-2340-4943-d9c8-026a4a21e64c"
      },
      "execution_count": 63,
      "outputs": [
        {
          "output_type": "execute_result",
          "data": {
            "text/plain": [
              "6"
            ]
          },
          "metadata": {},
          "execution_count": 63
        }
      ]
    },
    {
      "cell_type": "code",
      "source": [
        "3**5"
      ],
      "metadata": {
        "colab": {
          "base_uri": "https://localhost:8080/"
        },
        "id": "8N104SJJUp84",
        "outputId": "7cf3a263-511d-44f1-8109-32701879c0f7"
      },
      "execution_count": 65,
      "outputs": [
        {
          "output_type": "execute_result",
          "data": {
            "text/plain": [
              "243"
            ]
          },
          "metadata": {},
          "execution_count": 65
        }
      ]
    },
    {
      "cell_type": "code",
      "source": [
        "a=1\n",
        "b=1\n",
        "c=1\n",
        "d=1\n",
        "e=1\n",
        "\n",
        "a += 5\n",
        "b -= 6\n",
        "c *= a\n",
        "d /= 3\n",
        "e %= 2\n",
        "\n",
        "print(a, b, c, d, e)"
      ],
      "metadata": {
        "colab": {
          "base_uri": "https://localhost:8080/"
        },
        "id": "n3CBwIVwUuMC",
        "outputId": "2c045136-7210-4766-a056-cf750a8f5ca6"
      },
      "execution_count": 67,
      "outputs": [
        {
          "output_type": "stream",
          "name": "stdout",
          "text": [
            "6 -5 6 0.3333333333333333 1\n"
          ]
        }
      ]
    },
    {
      "cell_type": "code",
      "source": [
        "age=21\n",
        "print('私は'+ str(age)+'歳です。')"
      ],
      "metadata": {
        "colab": {
          "base_uri": "https://localhost:8080/"
        },
        "id": "XuZos6CQVYb1",
        "outputId": "dc0b3ed5-c491-463b-f29d-9a18777d2872"
      },
      "execution_count": 68,
      "outputs": [
        {
          "output_type": "stream",
          "name": "stdout",
          "text": [
            "私は21歳です。\n"
          ]
        }
      ]
    },
    {
      "cell_type": "code",
      "source": [
        "print(f'私は{age}歳です。')"
      ],
      "metadata": {
        "colab": {
          "base_uri": "https://localhost:8080/"
        },
        "id": "KrplUSgmZyfR",
        "outputId": "cdb81bb3-ae52-47ab-a179-760b57b64fb8"
      },
      "execution_count": 69,
      "outputs": [
        {
          "output_type": "stream",
          "name": "stdout",
          "text": [
            "私は21歳です。\n"
          ]
        }
      ]
    },
    {
      "cell_type": "code",
      "source": [
        "print(math.cos(math.radians(120)))"
      ],
      "metadata": {
        "colab": {
          "base_uri": "https://localhost:8080/"
        },
        "id": "cfVvcSnyakxN",
        "outputId": "5df9feab-ad69-4554-eec5-2c8f31adc3ff"
      },
      "execution_count": 73,
      "outputs": [
        {
          "output_type": "stream",
          "name": "stdout",
          "text": [
            "-0.4999999999999998\n"
          ]
        }
      ]
    },
    {
      "cell_type": "code",
      "source": [
        "print(math.cos(2/3*math.pi))\n",
        "print(math.pi)"
      ],
      "metadata": {
        "colab": {
          "base_uri": "https://localhost:8080/"
        },
        "id": "A4R-ga6qasCK",
        "outputId": "10f04ab3-2f65-4528-9797-b3d028aa5d4e"
      },
      "execution_count": 74,
      "outputs": [
        {
          "output_type": "stream",
          "name": "stdout",
          "text": [
            "-0.4999999999999998\n",
            "3.141592653589793\n"
          ]
        }
      ]
    },
    {
      "cell_type": "markdown",
      "source": [
        "円の半径と、同じ長さの円弧がつくる角が1ラジアン。360°は2πラジアン。180°がπラジアン。"
      ],
      "metadata": {
        "id": "yvCqdgQbca8O"
      }
    },
    {
      "cell_type": "code",
      "source": [
        "name = input('名前を入力してください\\n')\n",
        "print(name+'さん、こんにちは。')"
      ],
      "metadata": {
        "colab": {
          "base_uri": "https://localhost:8080/"
        },
        "id": "gZ180EF9bmbm",
        "outputId": "7df21984-efb7-44a6-85d4-e5e001c8fec8"
      },
      "execution_count": 76,
      "outputs": [
        {
          "output_type": "stream",
          "name": "stdout",
          "text": [
            "名前を入力してください\n",
            "花子\n",
            "花子さん、こんにちは。\n"
          ]
        }
      ]
    },
    {
      "cell_type": "code",
      "source": [
        "height = float(input('高さを入力してください\\n'))\n",
        "width = float(input('幅を入力してください\\n'))\n",
        "print(f'面積は{height*width}です')"
      ],
      "metadata": {
        "colab": {
          "base_uri": "https://localhost:8080/"
        },
        "id": "bu3iGex7dHUE",
        "outputId": "101b031c-76cd-4ff0-c158-181e180d5e04"
      },
      "execution_count": 77,
      "outputs": [
        {
          "output_type": "stream",
          "name": "stdout",
          "text": [
            "高さを入力してください\n",
            "30\n",
            "幅を入力してください\n",
            "50\n",
            "面積は1500.0です\n"
          ]
        }
      ]
    },
    {
      "cell_type": "code",
      "source": [
        "age = 13\n",
        "if age < 18 :\n",
        "    print('まだ選挙権はありません。18歳以上になったら投票へいきましょう。')\n",
        "else:\n",
        "    print('選挙権があります。投票へ行きましょう。')\n"
      ],
      "metadata": {
        "colab": {
          "base_uri": "https://localhost:8080/"
        },
        "id": "EhGRTZsldpBt",
        "outputId": "d383fc31-4d32-49b4-ccb2-791b540988f2"
      },
      "execution_count": 83,
      "outputs": [
        {
          "output_type": "stream",
          "name": "stdout",
          "text": [
            "まだ選挙権はありません。18歳以上になったら投票へいきましょう。\n"
          ]
        }
      ]
    },
    {
      "cell_type": "code",
      "source": [
        "age = 10\n",
        "if age < 4:\n",
        "  print('入場料は無料です')\n",
        "elif age < 13 :\n",
        "  print('子ども料金で入場できます')\n",
        "else:\n",
        "  print('大人料金が必要です')"
      ],
      "metadata": {
        "colab": {
          "base_uri": "https://localhost:8080/"
        },
        "id": "kml1AF5Pegyc",
        "outputId": "a03c1380-ac1a-4f3e-e0f2-feccb118429c"
      },
      "execution_count": 86,
      "outputs": [
        {
          "output_type": "stream",
          "name": "stdout",
          "text": [
            "子ども料金で入場できます\n"
          ]
        }
      ]
    },
    {
      "cell_type": "code",
      "source": [
        "c = a if a>b else b\n",
        "print(a, b, c)"
      ],
      "metadata": {
        "colab": {
          "base_uri": "https://localhost:8080/"
        },
        "id": "jXJ8lfeMfY3h",
        "outputId": "3fc613c5-fc0d-4130-aa9e-befd3b2922e9"
      },
      "execution_count": 87,
      "outputs": [
        {
          "output_type": "stream",
          "name": "stdout",
          "text": [
            "6 -5 6\n"
          ]
        }
      ]
    },
    {
      "cell_type": "code",
      "source": [
        "age = 46\n",
        "if age < 13 or age >= 65:\n",
        "  print('入場料は無料です。')\n",
        "else:\n",
        "  print('料金が必要です。')"
      ],
      "metadata": {
        "colab": {
          "base_uri": "https://localhost:8080/"
        },
        "id": "dYj4SCYNfquE",
        "outputId": "ceb62ef9-48d5-408f-fcce-0b2c80693ac3"
      },
      "execution_count": 89,
      "outputs": [
        {
          "output_type": "stream",
          "name": "stdout",
          "text": [
            "料金が必要です。\n"
          ]
        }
      ]
    },
    {
      "cell_type": "code",
      "source": [
        "i = 0\n",
        "while i < 5:\n",
        "  print('こんにちは。')\n",
        "  i += 1"
      ],
      "metadata": {
        "colab": {
          "base_uri": "https://localhost:8080/"
        },
        "id": "YVyGR8S3gEPj",
        "outputId": "bde38dc0-038f-49c9-9725-1f3776618a5a"
      },
      "execution_count": 90,
      "outputs": [
        {
          "output_type": "stream",
          "name": "stdout",
          "text": [
            "こんにちは。\n",
            "こんにちは。\n",
            "こんにちは。\n",
            "こんにちは。\n",
            "こんにちは。\n"
          ]
        }
      ]
    },
    {
      "cell_type": "code",
      "source": [
        "i = 20\n",
        "while i > 0 :\n",
        "  print(i)\n",
        "  i -=5"
      ],
      "metadata": {
        "colab": {
          "base_uri": "https://localhost:8080/"
        },
        "id": "LPofKvkdi8u9",
        "outputId": "ab972481-18c1-4771-daa9-84e03d299343"
      },
      "execution_count": 91,
      "outputs": [
        {
          "output_type": "stream",
          "name": "stdout",
          "text": [
            "20\n",
            "15\n",
            "10\n",
            "5\n"
          ]
        }
      ]
    },
    {
      "cell_type": "code",
      "source": [
        "print(i)"
      ],
      "metadata": {
        "colab": {
          "base_uri": "https://localhost:8080/"
        },
        "id": "Bl6LHtK-jUZF",
        "outputId": "e13e7fec-a853-4b9c-f454-abb3fc92a2ca"
      },
      "execution_count": 92,
      "outputs": [
        {
          "output_type": "stream",
          "name": "stdout",
          "text": [
            "0\n"
          ]
        }
      ]
    },
    {
      "cell_type": "code",
      "source": [
        "for i in [10, 20, 30, 40, 50]:\n",
        "    print(i)"
      ],
      "metadata": {
        "colab": {
          "base_uri": "https://localhost:8080/"
        },
        "id": "APX_pEYhjY-P",
        "outputId": "594ed09f-7f9c-4cd5-cac6-edc5e67b6497"
      },
      "execution_count": 93,
      "outputs": [
        {
          "output_type": "stream",
          "name": "stdout",
          "text": [
            "10\n",
            "20\n",
            "30\n",
            "40\n",
            "50\n"
          ]
        }
      ]
    },
    {
      "cell_type": "code",
      "source": [
        "for i in range(10):\n",
        "  print(i)"
      ],
      "metadata": {
        "colab": {
          "base_uri": "https://localhost:8080/"
        },
        "id": "cnc3Dmpyjj6t",
        "outputId": "9a139157-6818-4f88-9456-9a6c9c9ca395"
      },
      "execution_count": 94,
      "outputs": [
        {
          "output_type": "stream",
          "name": "stdout",
          "text": [
            "0\n",
            "1\n",
            "2\n",
            "3\n",
            "4\n",
            "5\n",
            "6\n",
            "7\n",
            "8\n",
            "9\n"
          ]
        }
      ]
    },
    {
      "cell_type": "code",
      "source": [
        "list(range(10))"
      ],
      "metadata": {
        "colab": {
          "base_uri": "https://localhost:8080/"
        },
        "id": "4vrAhi6PjumS",
        "outputId": "ab469c1f-da63-4271-847f-9676dc0ac59d"
      },
      "execution_count": 95,
      "outputs": [
        {
          "output_type": "execute_result",
          "data": {
            "text/plain": [
              "[0, 1, 2, 3, 4, 5, 6, 7, 8, 9]"
            ]
          },
          "metadata": {},
          "execution_count": 95
        }
      ]
    },
    {
      "cell_type": "code",
      "source": [
        "list(range(3, 10))"
      ],
      "metadata": {
        "colab": {
          "base_uri": "https://localhost:8080/"
        },
        "id": "SMPNx1lDos3q",
        "outputId": "72aa7076-29b1-47c7-9bb1-77177f0e3930"
      },
      "execution_count": 96,
      "outputs": [
        {
          "output_type": "execute_result",
          "data": {
            "text/plain": [
              "[3, 4, 5, 6, 7, 8, 9]"
            ]
          },
          "metadata": {},
          "execution_count": 96
        }
      ]
    },
    {
      "cell_type": "code",
      "source": [
        "list(range(1, 30, 10))"
      ],
      "metadata": {
        "colab": {
          "base_uri": "https://localhost:8080/"
        },
        "id": "UWii0fVco4nP",
        "outputId": "f2b2f427-d027-42c4-9415-86ea9beb32b1"
      },
      "execution_count": 97,
      "outputs": [
        {
          "output_type": "execute_result",
          "data": {
            "text/plain": [
              "[1, 11, 21]"
            ]
          },
          "metadata": {},
          "execution_count": 97
        }
      ]
    },
    {
      "cell_type": "code",
      "source": [
        "for i in range(100, 201, 5):\n",
        "    print(i)"
      ],
      "metadata": {
        "colab": {
          "base_uri": "https://localhost:8080/"
        },
        "id": "AdCINgDvpIb5",
        "outputId": "a486d9c4-6591-453c-cfea-d66f73dd4a61"
      },
      "execution_count": 98,
      "outputs": [
        {
          "output_type": "stream",
          "name": "stdout",
          "text": [
            "100\n",
            "105\n",
            "110\n",
            "115\n",
            "120\n",
            "125\n",
            "130\n",
            "135\n",
            "140\n",
            "145\n",
            "150\n",
            "155\n",
            "160\n",
            "165\n",
            "170\n",
            "175\n",
            "180\n",
            "185\n",
            "190\n",
            "195\n",
            "200\n"
          ]
        }
      ]
    },
    {
      "cell_type": "code",
      "source": [
        "total = 0\n",
        "for i in range(10):\n",
        "    total += i\n",
        "    if total > 20:\n",
        "        break\n",
        "print(i, total)"
      ],
      "metadata": {
        "colab": {
          "base_uri": "https://localhost:8080/"
        },
        "id": "IppkGhVzpScd",
        "outputId": "68168f09-c02e-4f17-8eb0-e11beecd62cb"
      },
      "execution_count": 99,
      "outputs": [
        {
          "output_type": "stream",
          "name": "stdout",
          "text": [
            "6 21\n"
          ]
        }
      ]
    },
    {
      "cell_type": "code",
      "source": [
        "total = 0\n",
        "for i in range(100):\n",
        "    if i%3 == 0:\n",
        "        continue\n",
        "    print(i)\n",
        "    total += i\n",
        "\n",
        "print('合計は', total)"
      ],
      "metadata": {
        "colab": {
          "base_uri": "https://localhost:8080/"
        },
        "id": "Sbtkj5MOpnfa",
        "outputId": "32c4a6af-abde-4907-91be-581d8efa496a"
      },
      "execution_count": 100,
      "outputs": [
        {
          "output_type": "stream",
          "name": "stdout",
          "text": [
            "1\n",
            "2\n",
            "4\n",
            "5\n",
            "7\n",
            "8\n",
            "10\n",
            "11\n",
            "13\n",
            "14\n",
            "16\n",
            "17\n",
            "19\n",
            "20\n",
            "22\n",
            "23\n",
            "25\n",
            "26\n",
            "28\n",
            "29\n",
            "31\n",
            "32\n",
            "34\n",
            "35\n",
            "37\n",
            "38\n",
            "40\n",
            "41\n",
            "43\n",
            "44\n",
            "46\n",
            "47\n",
            "49\n",
            "50\n",
            "52\n",
            "53\n",
            "55\n",
            "56\n",
            "58\n",
            "59\n",
            "61\n",
            "62\n",
            "64\n",
            "65\n",
            "67\n",
            "68\n",
            "70\n",
            "71\n",
            "73\n",
            "74\n",
            "76\n",
            "77\n",
            "79\n",
            "80\n",
            "82\n",
            "83\n",
            "85\n",
            "86\n",
            "88\n",
            "89\n",
            "91\n",
            "92\n",
            "94\n",
            "95\n",
            "97\n",
            "98\n",
            "合計は 3267\n"
          ]
        }
      ]
    },
    {
      "cell_type": "markdown",
      "source": [
        "continueで、ループ内の処理をスキップする"
      ],
      "metadata": {
        "id": "ehT6ulm4rA8s"
      }
    },
    {
      "cell_type": "code",
      "source": [
        "for a in range(1, 4):\n",
        "  print('a=', a)\n",
        "  for b in range(1,4):\n",
        "    print('    b=', b)"
      ],
      "metadata": {
        "colab": {
          "base_uri": "https://localhost:8080/"
        },
        "id": "w9YhU8wrq_kc",
        "outputId": "87bf138d-0a2d-4094-cebd-7d1b6280330b"
      },
      "execution_count": 101,
      "outputs": [
        {
          "output_type": "stream",
          "name": "stdout",
          "text": [
            "a= 1\n",
            "    b= 1\n",
            "    b= 2\n",
            "    b= 3\n",
            "a= 2\n",
            "    b= 1\n",
            "    b= 2\n",
            "    b= 3\n",
            "a= 3\n",
            "    b= 1\n",
            "    b= 2\n",
            "    b= 3\n"
          ]
        }
      ]
    },
    {
      "cell_type": "code",
      "source": [
        "a = 2021\n",
        "if a%3 == 0:\n",
        "  print('3で割り切れます')\n",
        "else:\n",
        "  print('3で割り切れません')"
      ],
      "metadata": {
        "colab": {
          "base_uri": "https://localhost:8080/"
        },
        "id": "WVbzCgbOs2LQ",
        "outputId": "10f90255-c3f8-49de-de3e-e96f99933ffa"
      },
      "execution_count": 103,
      "outputs": [
        {
          "output_type": "stream",
          "name": "stdout",
          "text": [
            "3で割り切れません\n"
          ]
        }
      ]
    },
    {
      "cell_type": "code",
      "source": [
        "i = 0\n",
        "num = 0\n",
        "for i in range(10, 21):\n",
        "  num += i\n",
        "print(num)"
      ],
      "metadata": {
        "colab": {
          "base_uri": "https://localhost:8080/"
        },
        "id": "KjywIxyCtYbi",
        "outputId": "341ec221-be63-4735-8d7f-fcbb236858ee"
      },
      "execution_count": 105,
      "outputs": [
        {
          "output_type": "stream",
          "name": "stdout",
          "text": [
            "165\n"
          ]
        }
      ]
    },
    {
      "cell_type": "code",
      "source": [
        "i = 10\n",
        "num = 0\n",
        "while i < 21:\n",
        "  num += i\n",
        "  i += 1\n",
        "print(num)"
      ],
      "metadata": {
        "colab": {
          "base_uri": "https://localhost:8080/"
        },
        "id": "x3bQkHfMt1-l",
        "outputId": "eff1533d-6376-4bf7-9357-2bb5c907d306"
      },
      "execution_count": 107,
      "outputs": [
        {
          "output_type": "stream",
          "name": "stdout",
          "text": [
            "165\n"
          ]
        }
      ]
    },
    {
      "cell_type": "code",
      "source": [
        "total=0\n",
        "for i in range(10, 21):\n",
        "  if i==15:\n",
        "    continue\n",
        "  total += i\n",
        "print(total)"
      ],
      "metadata": {
        "colab": {
          "base_uri": "https://localhost:8080/"
        },
        "id": "LHG6T-wwueVB",
        "outputId": "663d9acb-05ad-48dd-a442-faea9d761e09"
      },
      "execution_count": 108,
      "outputs": [
        {
          "output_type": "stream",
          "name": "stdout",
          "text": [
            "150\n"
          ]
        }
      ]
    },
    {
      "cell_type": "code",
      "source": [
        "scores = [65, 80, 40, 92, 76, 52]\n",
        "count = 0\n",
        "for i in scores:\n",
        "  if i > 60:\n",
        "    count += 1\n",
        "print(count)"
      ],
      "metadata": {
        "colab": {
          "base_uri": "https://localhost:8080/"
        },
        "id": "svH-M5W1v_rW",
        "outputId": "cb96a9cb-1ee3-4d62-b21a-ba1aecd832ec"
      },
      "execution_count": 110,
      "outputs": [
        {
          "output_type": "stream",
          "name": "stdout",
          "text": [
            "4\n"
          ]
        }
      ]
    },
    {
      "cell_type": "markdown",
      "source": [
        "135ページまで終了"
      ],
      "metadata": {
        "id": "5xGYtb0J0DCV"
      }
    },
    {
      "cell_type": "code",
      "source": [],
      "metadata": {
        "id": "N-v1Yyo4w78I"
      },
      "execution_count": null,
      "outputs": []
    }
  ]
}
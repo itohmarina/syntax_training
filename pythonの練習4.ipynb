{
  "nbformat": 4,
  "nbformat_minor": 0,
  "metadata": {
    "colab": {
      "provenance": [],
      "authorship_tag": "ABX9TyNPVvBTjOR7CQNVKAMwZVPg",
      "include_colab_link": true
    },
    "kernelspec": {
      "name": "python3",
      "display_name": "Python 3"
    },
    "language_info": {
      "name": "python"
    }
  },
  "cells": [
    {
      "cell_type": "markdown",
      "metadata": {
        "id": "view-in-github",
        "colab_type": "text"
      },
      "source": [
        "<a href=\"https://colab.research.google.com/github/itohmarina/syntax_training/blob/main/python%E3%81%AE%E7%B7%B4%E7%BF%924.ipynb\" target=\"_parent\"><img src=\"https://colab.research.google.com/assets/colab-badge.svg\" alt=\"Open In Colab\"/></a>"
      ]
    },
    {
      "cell_type": "markdown",
      "source": [
        "pythonの練習。参考：https://mitani.cs.tsukuba.ac.jp/book_support/python/  240ページから。"
      ],
      "metadata": {
        "id": "56_4wUtTcbVA"
      }
    },
    {
      "cell_type": "markdown",
      "source": [
        "すべてのクラスがObjectクラスを直接または間接的に継承する。1つのクラスが、2つのクラスを継承できる(多重継承)"
      ],
      "metadata": {
        "id": "QIkEL0W-c8cL"
      }
    },
    {
      "cell_type": "markdown",
      "source": [
        "class クラス名(親クラス名):\n",
        "  クラスの定義\n",
        "\n",
        "ex.\n",
        "\n",
        "class A:\n",
        "  クラスの定義\n",
        "\n",
        "class B(A):\n",
        "  クラスの定義"
      ],
      "metadata": {
        "id": "Q02Dhvl8dSDj"
      }
    },
    {
      "cell_type": "code",
      "execution_count": 1,
      "metadata": {
        "colab": {
          "base_uri": "https://localhost:8080/"
        },
        "id": "x4JJ1D8OcTuX",
        "outputId": "44bf0398-d410-40fe-e163-c856060cdb8d"
      },
      "outputs": [
        {
          "output_type": "stream",
          "name": "stdout",
          "text": [
            "名前 高橋太郎\n",
            "年齢 19\n"
          ]
        }
      ],
      "source": [
        "class Person:\n",
        "  def __init__(self, name, age):\n",
        "    self.name = name\n",
        "    self.age = age\n",
        "\n",
        "def print_info(p):\n",
        "  print('名前', p.name)\n",
        "  print('年齢', p.age)\n",
        "\n",
        "a = Person(\"高橋太郎\", 19)\n",
        "b = Person(\"小林花子\", 18)\n",
        "\n",
        "print_info(a)"
      ]
    },
    {
      "cell_type": "code",
      "source": [
        "class Person:\n",
        "  def __init__(self, name, age):\n",
        "    self.name = name\n",
        "    self.age = age\n",
        "\n",
        "def age_check(p, i):\n",
        "  if p.age > i :\n",
        "    return True\n",
        "  else:\n",
        "    return False\n",
        "\n",
        "a = Person(\"高橋太郎\", 19)\n",
        "b = Person(\"小林花子\", 18)\n",
        "\n",
        "age_check(a, 20)"
      ],
      "metadata": {
        "colab": {
          "base_uri": "https://localhost:8080/"
        },
        "id": "MhglqPC2gaWi",
        "outputId": "a01ad111-4891-41f6-ca2f-294578a8c3c9"
      },
      "execution_count": 2,
      "outputs": [
        {
          "output_type": "execute_result",
          "data": {
            "text/plain": [
              "False"
            ]
          },
          "metadata": {},
          "execution_count": 2
        }
      ]
    },
    {
      "cell_type": "code",
      "source": [
        "class Person:\n",
        "  def __init__(self, name, age):\n",
        "    self.name = name\n",
        "    self.age = age\n",
        "\n",
        "def age_check(p, i):\n",
        "  return p.age > i\n",
        "\n",
        "a = Person(\"高橋太郎\", 19)\n",
        "b = Person(\"小林花子\", 18)\n",
        "\n",
        "print(age_check(a, 20))"
      ],
      "metadata": {
        "colab": {
          "base_uri": "https://localhost:8080/"
        },
        "id": "luEhq09DhI5D",
        "outputId": "6e336f93-fb98-4ca7-8e01-238be35a9f95"
      },
      "execution_count": 3,
      "outputs": [
        {
          "output_type": "stream",
          "name": "stdout",
          "text": [
            "False\n"
          ]
        }
      ]
    },
    {
      "cell_type": "code",
      "source": [
        "class Person:\n",
        "  def __init__(self, name, age):\n",
        "    self.name = name\n",
        "    self.age = age\n",
        "\n",
        "def print_younger_person_name(p1, p2):\n",
        "  if p1.age <= p2.age:\n",
        "    print(p1.name)\n",
        "  else:\n",
        "    print(p2.name)\n",
        "\n",
        "a = Person(\"高橋太郎\", 19)\n",
        "b = Person(\"小林花子\", 18)\n",
        "\n",
        "print_younger_person_name(a, b)"
      ],
      "metadata": {
        "colab": {
          "base_uri": "https://localhost:8080/"
        },
        "id": "hGwz6WA5hThl",
        "outputId": "4bcd6dbf-f35c-4953-ea8e-d3f2af19427e"
      },
      "execution_count": 6,
      "outputs": [
        {
          "output_type": "stream",
          "name": "stdout",
          "text": [
            "小林花子\n"
          ]
        }
      ]
    },
    {
      "cell_type": "code",
      "source": [
        "class Person:\n",
        "  def __init__(self, name, age):\n",
        "    self.name = name\n",
        "    self.age = age\n",
        "\n",
        "def get_total_age(p1, p2):\n",
        "  return p1.age + p2.age\n",
        "\n",
        "a = Person(\"高橋太郎\", 19)\n",
        "b = Person(\"小林花子\", 18)\n",
        "\n",
        "get_total_age(a, b)"
      ],
      "metadata": {
        "colab": {
          "base_uri": "https://localhost:8080/"
        },
        "id": "u1tgvBzOiZ4T",
        "outputId": "c3501836-6897-4281-d3a5-09a05ac2a78b"
      },
      "execution_count": 7,
      "outputs": [
        {
          "output_type": "execute_result",
          "data": {
            "text/plain": [
              "37"
            ]
          },
          "metadata": {},
          "execution_count": 7
        }
      ]
    },
    {
      "cell_type": "code",
      "source": [
        "class Rectangle:\n",
        "  def __init__(self, width, height):\n",
        "    self.width = width\n",
        "    self.height = height\n",
        "  \n",
        "  def get_area(self):\n",
        "    return self.width*self.height\n",
        "\n",
        "rec0 = Rectangle(5, 8)\n",
        "rec1 = Rectangle(4, 6)\n",
        "\n",
        "print('rec0の面積', rec0.get_area())\n",
        "print('rec1の面積', rec1.get_area())\n"
      ],
      "metadata": {
        "colab": {
          "base_uri": "https://localhost:8080/"
        },
        "id": "q759UxgjjHeE",
        "outputId": "01a585f2-b8c1-4248-bca3-e6f46d9b10b6"
      },
      "execution_count": 8,
      "outputs": [
        {
          "output_type": "stream",
          "name": "stdout",
          "text": [
            "rec0の面積 40\n",
            "rec1の面積 24\n"
          ]
        }
      ]
    },
    {
      "cell_type": "markdown",
      "source": [
        "super()は、親クラスを呼び出す"
      ],
      "metadata": {
        "id": "Jlt17sCGlxU7"
      }
    },
    {
      "cell_type": "markdown",
      "source": [
        "例外処理、try:本来実行したい処理、except:例外が発生したときの処理"
      ],
      "metadata": {
        "id": "_3L8YxwlmW96"
      }
    },
    {
      "cell_type": "code",
      "source": [
        "print('a÷bの計算をします')\n",
        "try:\n",
        "  a = input('aの値を入力してください: ')\n",
        "  b = input('bの値を入力してください: ')\n",
        "  c = float(a) / float(b)\n",
        "  print('答えは', c)\n",
        "except:\n",
        "  print('入力が適切ではありません')\n",
        "\n",
        "print('処理を終わります')"
      ],
      "metadata": {
        "colab": {
          "base_uri": "https://localhost:8080/"
        },
        "id": "25Thr-BtmLRp",
        "outputId": "74a89ab1-8545-40fe-f6f8-14053143957a"
      },
      "execution_count": 9,
      "outputs": [
        {
          "output_type": "stream",
          "name": "stdout",
          "text": [
            "a÷bの計算をします\n",
            "aの値を入力してください: ss\n",
            "bの値を入力してください: gg\n",
            "入力が適切ではありません\n",
            "処理を終わります\n"
          ]
        }
      ]
    },
    {
      "cell_type": "code",
      "source": [
        "print('a÷bの計算をします')\n",
        "try:\n",
        "  a = input('aの値を入力してください: ')\n",
        "  b = input('bの値を入力してください: ')\n",
        "  c = float(a) / float(b)\n",
        "  print('答えは', c)\n",
        "except ValueError:\n",
        "  print('入力が数字ではありません')\n",
        "except ZeroDivisionError:\n",
        "  print('ゼロで割ることはできません')\n",
        "\n",
        "print('処理を終わります')"
      ],
      "metadata": {
        "colab": {
          "base_uri": "https://localhost:8080/"
        },
        "id": "dDt0F6ZonZtw",
        "outputId": "9e6e07d3-45b7-443d-f0cc-8d4da91e2793"
      },
      "execution_count": 11,
      "outputs": [
        {
          "output_type": "stream",
          "name": "stdout",
          "text": [
            "a÷bの計算をします\n",
            "aの値を入力してください: 4\n",
            "bの値を入力してください: 0\n",
            "ゼロで割ることはできません\n",
            "処理を終わります\n"
          ]
        }
      ]
    },
    {
      "cell_type": "markdown",
      "source": [
        "try:例外が発生するかもしれない処理、except:例外が発生したときの処理、else:例外が発生しなかったときの処理、finally:例外の有無にかかわらず実行される処理"
      ],
      "metadata": {
        "id": "MKlyviTctUKf"
      }
    },
    {
      "cell_type": "markdown",
      "source": [
        "テキストファイルにおいて、データをカンマ区切りで記述する形式をCSV形式とよぶ。1行分のデータを1つのレコードとよぶ。"
      ],
      "metadata": {
        "id": "fXeL6XUJtqUe"
      }
    },
    {
      "cell_type": "markdown",
      "source": [
        "open関数:ファイルの読み書きをする"
      ],
      "metadata": {
        "id": "zlDQnMxmt_Ez"
      }
    },
    {
      "cell_type": "code",
      "source": [
        "f = open(ファイルパス, 'r', encoding='UTF-8')\n",
        "lines = f.readlines()\n",
        "\n",
        "  for l in lines:\n",
        "    print(l)\n",
        "\n",
        "f.close()"
      ],
      "metadata": {
        "id": "IyPeojCWtmn6"
      },
      "execution_count": null,
      "outputs": []
    },
    {
      "cell_type": "code",
      "source": [
        "with open(ファイルパス, 'r', encoding='UTF-8') as f:\n",
        "\n",
        "  for l in f:\n",
        "    print(l)"
      ],
      "metadata": {
        "id": "HVa0deLquqj3"
      },
      "execution_count": null,
      "outputs": []
    },
    {
      "cell_type": "markdown",
      "source": [
        "テキストファイルの書き出し"
      ],
      "metadata": {
        "id": "VdOSdyfYvLzG"
      }
    },
    {
      "cell_type": "code",
      "source": [
        "f = open(ファイルパス, 'w', encoding = 'UTF-8')\n",
        "\n",
        "for i in range(0, 100):\n",
        "  f.write(str(i) + '\\n')\n",
        "\n",
        "close(f)"
      ],
      "metadata": {
        "id": "aXfK9-nFvPPL"
      },
      "execution_count": null,
      "outputs": []
    },
    {
      "cell_type": "markdown",
      "source": [
        "'\\n'で改行を書き出す"
      ],
      "metadata": {
        "id": "Z0vTuCC9vrAa"
      }
    },
    {
      "cell_type": "code",
      "source": [
        "with open(ファイルパス, 'w', encoding='UTF-8') as f:\n",
        "\n",
        "for i in range(0, 100):\n",
        "    f.write(str(i) + '\\n')"
      ],
      "metadata": {
        "id": "VN33yJ76v3yI"
      },
      "execution_count": null,
      "outputs": []
    },
    {
      "cell_type": "markdown",
      "source": [
        "mode='r'は読み込みように開く、mode='w'は書き込みように開く"
      ],
      "metadata": {
        "id": "uV30J2bCwMo5"
      }
    },
    {
      "cell_type": "code",
      "source": [
        "with open(出力のファイルパス, 'w', encoding='UTF-8') as out_f:\n",
        "  with open(入力のファイルパス, 'w', encoding='UTF-8') as in_f:\n",
        "    for line in in_f:\n",
        "      if '東京都' in line:\n",
        "        out_f.write(line)"
      ],
      "metadata": {
        "id": "EDGm3gZYwWcA"
      },
      "execution_count": null,
      "outputs": []
    },
    {
      "cell_type": "markdown",
      "source": [
        "276ページまで。"
      ],
      "metadata": {
        "id": "JI92pRfh5lEF"
      }
    }
  ]
}
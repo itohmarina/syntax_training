{
  "nbformat": 4,
  "nbformat_minor": 0,
  "metadata": {
    "colab": {
      "provenance": [],
      "authorship_tag": "ABX9TyPUmjE0eIsdrhRoznjAK+9T",
      "include_colab_link": true
    },
    "kernelspec": {
      "name": "python3",
      "display_name": "Python 3"
    },
    "language_info": {
      "name": "python"
    }
  },
  "cells": [
    {
      "cell_type": "markdown",
      "metadata": {
        "id": "view-in-github",
        "colab_type": "text"
      },
      "source": [
        "<a href=\"https://colab.research.google.com/github/itohmarina/syntax_training/blob/main/Python%E3%83%97%E3%83%AD%E3%82%B0%E3%83%A9%E3%83%9F%E3%83%B3%E3%82%B0%E5%85%A5%E9%96%807.ipynb\" target=\"_parent\"><img src=\"https://colab.research.google.com/assets/colab-badge.svg\" alt=\"Open In Colab\"/></a>"
      ]
    },
    {
      "cell_type": "code",
      "execution_count": 2,
      "metadata": {
        "colab": {
          "base_uri": "https://localhost:8080/"
        },
        "id": "k79ZENzpnwQj",
        "outputId": "e64d5ace-92ca-4d13-9893-92489166de6f"
      },
      "outputs": [
        {
          "output_type": "stream",
          "name": "stdout",
          "text": [
            "1 2 3 4 5 6 7 8 9 \n",
            "2 4 6 8 10 12 14 16 18 \n",
            "3 6 9 12 15 18 21 24 27 \n",
            "4 8 12 16 20 24 28 32 36 \n",
            "5 10 15 20 25 30 35 40 45 \n",
            "6 12 18 24 30 36 42 48 54 \n",
            "7 14 21 28 35 42 49 56 63 \n",
            "8 16 24 32 40 48 56 64 72 \n",
            "9 18 27 36 45 54 63 72 81 \n"
          ]
        }
      ],
      "source": [
        "for i in range(1,10):\n",
        "  for j in range(1,10):\n",
        "    print(i*j, end = ' ')\n",
        "  print()\n"
      ]
    },
    {
      "cell_type": "code",
      "source": [
        "menus = ['カレーライス', 'カツ丼', 'ラーメン', '終わり', 'チャーハン', 'ハンバーグ']\n",
        "for menu in menus:\n",
        "  if menu == '終わり':\n",
        "    print('お腹いっぱい')\n",
        "    break\n",
        "  print(menu)"
      ],
      "metadata": {
        "colab": {
          "base_uri": "https://localhost:8080/"
        },
        "id": "SQx6_pDXoWkp",
        "outputId": "11128e09-4c07-49bc-bc9a-39f3b4c36795"
      },
      "execution_count": 3,
      "outputs": [
        {
          "output_type": "stream",
          "name": "stdout",
          "text": [
            "カレーライス\n",
            "カツ丼\n",
            "ラーメン\n",
            "お腹いっぱい\n"
          ]
        }
      ]
    },
    {
      "cell_type": "code",
      "source": [
        "menus = ['カレーライス', 'カツ丼', 'ラーメン', '終わり', 'チャーハン', 'ハンバーグ']\n",
        "for menu in menus:\n",
        "  if menu == '終わり':\n",
        "    print('まだまだ頑張るぞ')\n",
        "    continue\n",
        "  print(menu)"
      ],
      "metadata": {
        "colab": {
          "base_uri": "https://localhost:8080/"
        },
        "id": "QzP7Ck-CpPcn",
        "outputId": "f5a34faf-77f4-44b6-ba71-c85a6a49de4c"
      },
      "execution_count": 4,
      "outputs": [
        {
          "output_type": "stream",
          "name": "stdout",
          "text": [
            "カレーライス\n",
            "カツ丼\n",
            "ラーメン\n",
            "まだまだ頑張るぞ\n",
            "チャーハン\n",
            "ハンバーグ\n"
          ]
        }
      ]
    },
    {
      "cell_type": "code",
      "source": [
        "trio = ['violin', 'cello', 'piano']\n",
        "for a in trio:\n",
        "  print(f'{a}の音が入りました')\n",
        "  if a == 'quit':\n",
        "    print('もう一回やり直し')\n",
        "    break\n",
        "else:\n",
        "  print('すてきな三重奏です')"
      ],
      "metadata": {
        "colab": {
          "base_uri": "https://localhost:8080/"
        },
        "id": "J0NbBzk7phgE",
        "outputId": "be059113-73b2-49a4-b44f-b7ea1429cddd"
      },
      "execution_count": 8,
      "outputs": [
        {
          "output_type": "stream",
          "name": "stdout",
          "text": [
            "violinの音が入りました\n",
            "celloの音が入りました\n",
            "pianoの音が入りました\n",
            "すてきな三重奏です\n"
          ]
        }
      ]
    },
    {
      "cell_type": "markdown",
      "source": [
        "for文が最後まで終わると、else文が実行されます。"
      ],
      "metadata": {
        "id": "JmzoaNEuqitw"
      }
    },
    {
      "cell_type": "code",
      "source": [
        "sum = 0\n",
        "inc = 0\n",
        "while inc <= 100:\n",
        "  sum += inc\n",
        "  inc += 1\n",
        "print(f'sum = {sum}')"
      ],
      "metadata": {
        "colab": {
          "base_uri": "https://localhost:8080/"
        },
        "id": "lRrO6R6WqdxD",
        "outputId": "fd3a6476-1e07-4790-c8a6-07b93c18b978"
      },
      "execution_count": 9,
      "outputs": [
        {
          "output_type": "stream",
          "name": "stdout",
          "text": [
            "sum = 5050\n"
          ]
        }
      ]
    },
    {
      "cell_type": "code",
      "source": [
        "while b != 0:\n",
        "  a = int(input('整数を入力してください'))\n",
        "  b = a % 3\n",
        "  if b == 0:\n",
        "    print('大吉')\n",
        "  elif b == 1:\n",
        "    print('中吉')\n",
        "  else:\n",
        "    print('小吉')"
      ],
      "metadata": {
        "colab": {
          "base_uri": "https://localhost:8080/"
        },
        "id": "HmVBs2WiqEuo",
        "outputId": "a454c213-4463-4c25-8b1e-1ac287de1e17"
      },
      "execution_count": 12,
      "outputs": [
        {
          "output_type": "stream",
          "name": "stdout",
          "text": [
            "整数を入力してください7\n",
            "中吉\n",
            "整数を入力してください4\n",
            "中吉\n",
            "整数を入力してください70\n",
            "中吉\n",
            "整数を入力してください59\n",
            "小吉\n",
            "整数を入力してください70\n",
            "中吉\n",
            "整数を入力してください37\n",
            "中吉\n",
            "整数を入力してください59\n",
            "小吉\n",
            "整数を入力してください78\n",
            "大吉\n"
          ]
        }
      ]
    },
    {
      "cell_type": "code",
      "source": [],
      "metadata": {
        "id": "-_QIYd1Qr5w2"
      },
      "execution_count": null,
      "outputs": []
    }
  ]
}
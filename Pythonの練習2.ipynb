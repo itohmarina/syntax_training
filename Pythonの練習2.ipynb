{
  "nbformat": 4,
  "nbformat_minor": 0,
  "metadata": {
    "colab": {
      "provenance": [],
      "authorship_tag": "ABX9TyPXcMkm4vToFlt9+UsMk1cU",
      "include_colab_link": true
    },
    "kernelspec": {
      "name": "python3",
      "display_name": "Python 3"
    },
    "language_info": {
      "name": "python"
    }
  },
  "cells": [
    {
      "cell_type": "markdown",
      "metadata": {
        "id": "view-in-github",
        "colab_type": "text"
      },
      "source": [
        "<a href=\"https://colab.research.google.com/github/itohmarina/syntax_training/blob/main/Python%E3%81%AE%E7%B7%B4%E7%BF%922.ipynb\" target=\"_parent\"><img src=\"https://colab.research.google.com/assets/colab-badge.svg\" alt=\"Open In Colab\"/></a>"
      ]
    },
    {
      "cell_type": "markdown",
      "source": [
        "pythonの練習。参考：https://mitani.cs.tsukuba.ac.jp/book_support/python/\n",
        "135ページから"
      ],
      "metadata": {
        "id": "VKnrpDCgzY1D"
      }
    },
    {
      "cell_type": "markdown",
      "source": [
        "Pythonはオブジェクト指向言語。ひとつひとつのオブジェクトにIDを割り当てている"
      ],
      "metadata": {
        "id": "egfQs73F0tJl"
      }
    },
    {
      "cell_type": "markdown",
      "source": [
        "IDの異なるインスタンスを参照していると、同値であっても、同一でない\n",
        "a==bでTrueであっても、a is bはFalseになる。"
      ],
      "metadata": {
        "id": "mLBgrQAK0-zO"
      }
    },
    {
      "cell_type": "code",
      "execution_count": 1,
      "metadata": {
        "colab": {
          "base_uri": "https://localhost:8080/"
        },
        "id": "0CnRVOp1zPCV",
        "outputId": "84a7481e-4c93-47b7-8e54-e8370303d71c"
      },
      "outputs": [
        {
          "output_type": "execute_result",
          "data": {
            "text/plain": [
              "3"
            ]
          },
          "metadata": {},
          "execution_count": 1
        }
      ],
      "source": [
        "'Hello, Python, coan'.count('o')"
      ]
    },
    {
      "cell_type": "markdown",
      "source": [
        "'o'が文字列にいくつ含まれるかを返す"
      ],
      "metadata": {
        "id": "y-EZRqFz1t2X"
      }
    },
    {
      "cell_type": "code",
      "source": [
        "'PYTHON'.lower()"
      ],
      "metadata": {
        "colab": {
          "base_uri": "https://localhost:8080/",
          "height": 36
        },
        "id": "0fbpkWwj1ska",
        "outputId": "9e343f8e-0dbb-4d08-d9d2-31d972cc8bbe"
      },
      "execution_count": 2,
      "outputs": [
        {
          "output_type": "execute_result",
          "data": {
            "text/plain": [
              "'python'"
            ],
            "application/vnd.google.colaboratory.intrinsic+json": {
              "type": "string"
            }
          },
          "metadata": {},
          "execution_count": 2
        }
      ]
    },
    {
      "cell_type": "code",
      "source": [
        "'python'.upper()"
      ],
      "metadata": {
        "colab": {
          "base_uri": "https://localhost:8080/",
          "height": 36
        },
        "id": "3zr8nlrM15fK",
        "outputId": "81d61adf-7e30-43ed-e18c-ac34ee613953"
      },
      "execution_count": 3,
      "outputs": [
        {
          "output_type": "execute_result",
          "data": {
            "text/plain": [
              "'PYTHON'"
            ],
            "application/vnd.google.colaboratory.intrinsic+json": {
              "type": "string"
            }
          },
          "metadata": {},
          "execution_count": 3
        }
      ]
    },
    {
      "cell_type": "code",
      "source": [
        "'2021-12-31'.split('-')"
      ],
      "metadata": {
        "colab": {
          "base_uri": "https://localhost:8080/"
        },
        "id": "PVXplOSj18Ua",
        "outputId": "113f7f33-651f-41d3-f6b6-dc7532b23dc7"
      },
      "execution_count": 4,
      "outputs": [
        {
          "output_type": "execute_result",
          "data": {
            "text/plain": [
              "['2021', '12', '31']"
            ]
          },
          "metadata": {},
          "execution_count": 4
        }
      ]
    },
    {
      "cell_type": "markdown",
      "source": [
        "文字列を'-'で分割した結果をリストで返す"
      ],
      "metadata": {
        "id": "Ct61E1IF2HqG"
      }
    },
    {
      "cell_type": "code",
      "source": [
        "'Java言語'.replace('Java', 'Python')"
      ],
      "metadata": {
        "colab": {
          "base_uri": "https://localhost:8080/",
          "height": 36
        },
        "id": "Z2L1eadl2Cu8",
        "outputId": "0bb96068-10b6-4275-82a5-5f9f9384b2b8"
      },
      "execution_count": 5,
      "outputs": [
        {
          "output_type": "execute_result",
          "data": {
            "text/plain": [
              "'Python言語'"
            ],
            "application/vnd.google.colaboratory.intrinsic+json": {
              "type": "string"
            }
          },
          "metadata": {},
          "execution_count": 5
        }
      ]
    },
    {
      "cell_type": "code",
      "source": [
        "year=2021\n",
        "month=4\n",
        "day=10\n",
        "message='今日は{}年{}月{}日です'.format(year, month, day)\n",
        "print(message)"
      ],
      "metadata": {
        "colab": {
          "base_uri": "https://localhost:8080/"
        },
        "id": "qQoK09Gi2SGe",
        "outputId": "c870fd25-16cf-48d4-e23a-dbe937abd403"
      },
      "execution_count": 6,
      "outputs": [
        {
          "output_type": "stream",
          "name": "stdout",
          "text": [
            "今日は2021年4月10日です\n"
          ]
        }
      ]
    },
    {
      "cell_type": "markdown",
      "source": [
        "文字列の中の{}に数字を埋め込む"
      ],
      "metadata": {
        "id": "YVpQu2FK2oRK"
      }
    },
    {
      "cell_type": "code",
      "source": [
        "year=2021\n",
        "month=4\n",
        "day=10\n",
        "message='今日は{1}月{2}日です。西暦{0}年です。'.format(year,month,day)\n",
        "print(message)"
      ],
      "metadata": {
        "colab": {
          "base_uri": "https://localhost:8080/"
        },
        "id": "AQrMoYz02m_j",
        "outputId": "949f3627-648f-42d9-a60e-cf62752f7f7e"
      },
      "execution_count": 7,
      "outputs": [
        {
          "output_type": "stream",
          "name": "stdout",
          "text": [
            "今日は4月10日です。西暦2021年です。\n"
          ]
        }
      ]
    },
    {
      "cell_type": "markdown",
      "source": [
        "formatは、0,1,2...とインデックスが指定できる"
      ],
      "metadata": {
        "id": "E6ZAyfbr3A2V"
      }
    },
    {
      "cell_type": "code",
      "source": [
        "'1/3={:.3f}'.format(1/3)"
      ],
      "metadata": {
        "colab": {
          "base_uri": "https://localhost:8080/",
          "height": 36
        },
        "id": "mdTvui1a2_mh",
        "outputId": "7b31382e-6fa4-4d73-baea-3fa0ca03010a"
      },
      "execution_count": 8,
      "outputs": [
        {
          "output_type": "execute_result",
          "data": {
            "text/plain": [
              "'1/3=0.333'"
            ],
            "application/vnd.google.colaboratory.intrinsic+json": {
              "type": "string"
            }
          },
          "metadata": {},
          "execution_count": 8
        }
      ]
    },
    {
      "cell_type": "markdown",
      "source": [
        "{}を1/3で置き換え、.3f（小数点以下3桁まで）で出力する。左の:は、インデックスで、省略されている。"
      ],
      "metadata": {
        "id": "KBJZzLYL3xVG"
      }
    },
    {
      "cell_type": "code",
      "source": [
        "'{:,}円'.format(1000000)"
      ],
      "metadata": {
        "colab": {
          "base_uri": "https://localhost:8080/",
          "height": 36
        },
        "id": "1OccnaTY3f4z",
        "outputId": "4adb0e69-066b-449c-a74d-68a7747d3a0c"
      },
      "execution_count": 9,
      "outputs": [
        {
          "output_type": "execute_result",
          "data": {
            "text/plain": [
              "'1,000,000円'"
            ],
            "application/vnd.google.colaboratory.intrinsic+json": {
              "type": "string"
            }
          },
          "metadata": {},
          "execution_count": 9
        }
      ]
    },
    {
      "cell_type": "markdown",
      "source": [
        "{}内の,は、3桁ごとにカンマで区切る"
      ],
      "metadata": {
        "id": "M2orBCza4EiD"
      }
    },
    {
      "cell_type": "code",
      "source": [
        "'{:>5}'.format(123)"
      ],
      "metadata": {
        "colab": {
          "base_uri": "https://localhost:8080/",
          "height": 36
        },
        "id": "sHPkesEn4CV8",
        "outputId": "85341975-67d6-4242-a249-51ab437c85ab"
      },
      "execution_count": 10,
      "outputs": [
        {
          "output_type": "execute_result",
          "data": {
            "text/plain": [
              "'  123'"
            ],
            "application/vnd.google.colaboratory.intrinsic+json": {
              "type": "string"
            }
          },
          "metadata": {},
          "execution_count": 10
        }
      ]
    },
    {
      "cell_type": "markdown",
      "source": [
        ">5は、5文字分の幅に右寄せする"
      ],
      "metadata": {
        "id": "KAZer8Ej4bP9"
      }
    },
    {
      "cell_type": "code",
      "source": [
        "'cat' in 'catch'"
      ],
      "metadata": {
        "colab": {
          "base_uri": "https://localhost:8080/"
        },
        "id": "0upOGPO74Yfd",
        "outputId": "ef037b99-7e82-4a63-d84a-89565700b3b1"
      },
      "execution_count": 11,
      "outputs": [
        {
          "output_type": "execute_result",
          "data": {
            "text/plain": [
              "True"
            ]
          },
          "metadata": {},
          "execution_count": 11
        }
      ]
    },
    {
      "cell_type": "code",
      "source": [
        "'Z' in 'ABCDE'"
      ],
      "metadata": {
        "colab": {
          "base_uri": "https://localhost:8080/"
        },
        "id": "hVwKVkrU4vjd",
        "outputId": "fee44274-5501-4c56-d393-0fa858c67d66"
      },
      "execution_count": 12,
      "outputs": [
        {
          "output_type": "execute_result",
          "data": {
            "text/plain": [
              "False"
            ]
          },
          "metadata": {},
          "execution_count": 12
        }
      ]
    },
    {
      "cell_type": "code",
      "source": [
        "s1='py'\n",
        "s2='python'\n",
        "s1 in s2"
      ],
      "metadata": {
        "colab": {
          "base_uri": "https://localhost:8080/"
        },
        "id": "4aGUaDdh4yrm",
        "outputId": "a2810051-c927-4a08-dde9-aac9c1ebcdfe"
      },
      "execution_count": 13,
      "outputs": [
        {
          "output_type": "execute_result",
          "data": {
            "text/plain": [
              "True"
            ]
          },
          "metadata": {},
          "execution_count": 13
        }
      ]
    },
    {
      "cell_type": "code",
      "source": [
        "a=[10,20,30,40]\n",
        "a.append(100)\n",
        "a"
      ],
      "metadata": {
        "colab": {
          "base_uri": "https://localhost:8080/"
        },
        "id": "iHjB6vKf45yz",
        "outputId": "cd3e473a-e45c-4785-cdaa-ad1e2a540021"
      },
      "execution_count": 14,
      "outputs": [
        {
          "output_type": "execute_result",
          "data": {
            "text/plain": [
              "[10, 20, 30, 40, 100]"
            ]
          },
          "metadata": {},
          "execution_count": 14
        }
      ]
    },
    {
      "cell_type": "markdown",
      "source": [
        "appendで、末尾に要素を追加する"
      ],
      "metadata": {
        "id": "3XWQlCyY5F_9"
      }
    },
    {
      "cell_type": "code",
      "source": [
        "a.pop()"
      ],
      "metadata": {
        "colab": {
          "base_uri": "https://localhost:8080/"
        },
        "id": "CMORmfAU5EFs",
        "outputId": "1eb00d84-383c-4cdb-84b9-8d907f0e0c6b"
      },
      "execution_count": 17,
      "outputs": [
        {
          "output_type": "execute_result",
          "data": {
            "text/plain": [
              "100"
            ]
          },
          "metadata": {},
          "execution_count": 17
        }
      ]
    },
    {
      "cell_type": "markdown",
      "source": [
        "popで、末尾にある要素を返し、削除する"
      ],
      "metadata": {
        "id": "7kwSdAxX5SQL"
      }
    },
    {
      "cell_type": "code",
      "source": [
        "a"
      ],
      "metadata": {
        "colab": {
          "base_uri": "https://localhost:8080/"
        },
        "id": "mnFKubYf5N3i",
        "outputId": "75eb3e5b-cb11-4599-ffaf-c7a1f0f11808"
      },
      "execution_count": 18,
      "outputs": [
        {
          "output_type": "execute_result",
          "data": {
            "text/plain": [
              "[10, 20, 30, 40]"
            ]
          },
          "metadata": {},
          "execution_count": 18
        }
      ]
    },
    {
      "cell_type": "code",
      "source": [
        "a.reverse()"
      ],
      "metadata": {
        "id": "DlCsb7UV5ZQs"
      },
      "execution_count": 19,
      "outputs": []
    },
    {
      "cell_type": "code",
      "source": [
        "a"
      ],
      "metadata": {
        "colab": {
          "base_uri": "https://localhost:8080/"
        },
        "id": "JTCRoAno5cJf",
        "outputId": "6447bdb3-cf82-4513-dc08-d1050dbef96b"
      },
      "execution_count": 20,
      "outputs": [
        {
          "output_type": "execute_result",
          "data": {
            "text/plain": [
              "[40, 30, 20, 10]"
            ]
          },
          "metadata": {},
          "execution_count": 20
        }
      ]
    },
    {
      "cell_type": "code",
      "source": [
        "a.index(20)"
      ],
      "metadata": {
        "colab": {
          "base_uri": "https://localhost:8080/"
        },
        "id": "dcODnY-o5c18",
        "outputId": "c7de22a1-3a6c-49d9-c3ba-ff1b36dfc10e"
      },
      "execution_count": 21,
      "outputs": [
        {
          "output_type": "execute_result",
          "data": {
            "text/plain": [
              "2"
            ]
          },
          "metadata": {},
          "execution_count": 21
        }
      ]
    },
    {
      "cell_type": "markdown",
      "source": [
        "最初に見つかった、値がおなじ要素のインデックスを返す"
      ],
      "metadata": {
        "id": "ywCXoh-x5jod"
      }
    },
    {
      "cell_type": "code",
      "source": [
        "a=[10,20,30,40]\n",
        "del a[1]"
      ],
      "metadata": {
        "id": "EtUAzoNW5feM"
      },
      "execution_count": 22,
      "outputs": []
    },
    {
      "cell_type": "markdown",
      "source": [
        "インデックスを指定して要素を削除する"
      ],
      "metadata": {
        "id": "_zPBIPKP53oS"
      }
    },
    {
      "cell_type": "code",
      "source": [
        "a"
      ],
      "metadata": {
        "colab": {
          "base_uri": "https://localhost:8080/"
        },
        "id": "vjIKOSKr5xgl",
        "outputId": "5d57b25b-8ffd-44cb-aa0a-3bb67cc6ae04"
      },
      "execution_count": 23,
      "outputs": [
        {
          "output_type": "execute_result",
          "data": {
            "text/plain": [
              "[10, 30, 40]"
            ]
          },
          "metadata": {},
          "execution_count": 23
        }
      ]
    },
    {
      "cell_type": "code",
      "source": [
        "a=a+[0,1]\n",
        "a"
      ],
      "metadata": {
        "colab": {
          "base_uri": "https://localhost:8080/"
        },
        "id": "wXDjwj8P5yLr",
        "outputId": "1a3a7d00-c0ad-4380-ad8a-ea95eb3b7dda"
      },
      "execution_count": 24,
      "outputs": [
        {
          "output_type": "execute_result",
          "data": {
            "text/plain": [
              "[10, 30, 40, 0, 1]"
            ]
          },
          "metadata": {},
          "execution_count": 24
        }
      ]
    },
    {
      "cell_type": "code",
      "source": [
        "1 in a"
      ],
      "metadata": {
        "colab": {
          "base_uri": "https://localhost:8080/"
        },
        "id": "viVp_2MH6BT4",
        "outputId": "95dc48cf-e1d0-4e3c-e8ef-e566cc43935c"
      },
      "execution_count": 25,
      "outputs": [
        {
          "output_type": "execute_result",
          "data": {
            "text/plain": [
              "True"
            ]
          },
          "metadata": {},
          "execution_count": 25
        }
      ]
    },
    {
      "cell_type": "code",
      "source": [
        "2 in a"
      ],
      "metadata": {
        "colab": {
          "base_uri": "https://localhost:8080/"
        },
        "id": "EnUtcOUG6Fo5",
        "outputId": "dd3d67e2-9a5d-4b22-865c-adee1cce5b8e"
      },
      "execution_count": 26,
      "outputs": [
        {
          "output_type": "execute_result",
          "data": {
            "text/plain": [
              "False"
            ]
          },
          "metadata": {},
          "execution_count": 26
        }
      ]
    },
    {
      "cell_type": "code",
      "source": [
        "len(a)"
      ],
      "metadata": {
        "colab": {
          "base_uri": "https://localhost:8080/"
        },
        "id": "Kb1FSDxI6Hej",
        "outputId": "0e2ffd8d-2011-43b1-a6b8-728dc36d53b6"
      },
      "execution_count": 27,
      "outputs": [
        {
          "output_type": "execute_result",
          "data": {
            "text/plain": [
              "5"
            ]
          },
          "metadata": {},
          "execution_count": 27
        }
      ]
    },
    {
      "cell_type": "code",
      "source": [
        "sorted(a)"
      ],
      "metadata": {
        "colab": {
          "base_uri": "https://localhost:8080/"
        },
        "id": "_zRRrPy16KbG",
        "outputId": "ac9fee2d-b981-4a58-d7c0-a82b9cf7f3c9"
      },
      "execution_count": 28,
      "outputs": [
        {
          "output_type": "execute_result",
          "data": {
            "text/plain": [
              "[0, 1, 10, 30, 40]"
            ]
          },
          "metadata": {},
          "execution_count": 28
        }
      ]
    },
    {
      "cell_type": "markdown",
      "source": [
        "昇順に並び替え"
      ],
      "metadata": {
        "id": "daAVH1vn6TpV"
      }
    },
    {
      "cell_type": "code",
      "source": [
        "sorted(a, reverse=True)"
      ],
      "metadata": {
        "colab": {
          "base_uri": "https://localhost:8080/"
        },
        "id": "sUhVzQIA6R0H",
        "outputId": "7fa57b82-4e3f-4591-ede6-0090841f199a"
      },
      "execution_count": 29,
      "outputs": [
        {
          "output_type": "execute_result",
          "data": {
            "text/plain": [
              "[40, 30, 10, 1, 0]"
            ]
          },
          "metadata": {},
          "execution_count": 29
        }
      ]
    },
    {
      "cell_type": "markdown",
      "source": [
        "[式　for 変数 in 反復可能なオブジェクト]"
      ],
      "metadata": {
        "id": "KDV2u60r6jpx"
      }
    },
    {
      "cell_type": "code",
      "source": [
        "data = [2**n for n in range(1, 11)]\n",
        "data"
      ],
      "metadata": {
        "colab": {
          "base_uri": "https://localhost:8080/"
        },
        "id": "Hmg5ADrK6cLs",
        "outputId": "8150c7bc-ae1a-4977-d346-87c772b19155"
      },
      "execution_count": 30,
      "outputs": [
        {
          "output_type": "execute_result",
          "data": {
            "text/plain": [
              "[2, 4, 8, 16, 32, 64, 128, 256, 512, 1024]"
            ]
          },
          "metadata": {},
          "execution_count": 30
        }
      ]
    },
    {
      "cell_type": "markdown",
      "source": [
        "2のn乗、nは1から10まで"
      ],
      "metadata": {
        "id": "XSkig2RW64PW"
      }
    },
    {
      "cell_type": "code",
      "source": [
        "[str(n)+'月' for n in range(1, 13)]"
      ],
      "metadata": {
        "colab": {
          "base_uri": "https://localhost:8080/"
        },
        "id": "ko2nur7a6wWa",
        "outputId": "49e1e702-b620-476c-fc5f-8a8bdc57b98a"
      },
      "execution_count": 31,
      "outputs": [
        {
          "output_type": "execute_result",
          "data": {
            "text/plain": [
              "['1月', '2月', '3月', '4月', '5月', '6月', '7月', '8月', '9月', '10月', '11月', '12月']"
            ]
          },
          "metadata": {},
          "execution_count": 31
        }
      ]
    },
    {
      "cell_type": "code",
      "source": [
        "data0 = ['apple', 'orange', 'banana', 'avocado']\n",
        "data1 = [s for s in data0 if s[0] == 'a']\n",
        "print(data1)"
      ],
      "metadata": {
        "colab": {
          "base_uri": "https://localhost:8080/"
        },
        "id": "HGyXmgA17IVR",
        "outputId": "4d470edc-5e50-4d30-adaa-33a810dc74d8"
      },
      "execution_count": 32,
      "outputs": [
        {
          "output_type": "stream",
          "name": "stdout",
          "text": [
            "['apple', 'avocado']\n"
          ]
        }
      ]
    },
    {
      "cell_type": "markdown",
      "source": [
        "aで始まる単語だけが格納されている"
      ],
      "metadata": {
        "id": "6v9Rbto97ta8"
      }
    },
    {
      "cell_type": "code",
      "source": [
        "data2 = [s for s in data0 if s[-1] == 'e']\n",
        "print(data2)"
      ],
      "metadata": {
        "colab": {
          "base_uri": "https://localhost:8080/"
        },
        "id": "YO2oJOm_7sXP",
        "outputId": "04c3fe09-37f3-4f26-fed3-604f5686bcf9"
      },
      "execution_count": 33,
      "outputs": [
        {
          "output_type": "stream",
          "name": "stdout",
          "text": [
            "['apple', 'orange']\n"
          ]
        }
      ]
    },
    {
      "cell_type": "code",
      "source": [
        "data = [[1,2], [3,4,5]]\n",
        "data[0][0]"
      ],
      "metadata": {
        "colab": {
          "base_uri": "https://localhost:8080/"
        },
        "id": "GKNCrlCC7-NA",
        "outputId": "03b657f5-9e95-47a6-b044-a256c5977e36"
      },
      "execution_count": 34,
      "outputs": [
        {
          "output_type": "execute_result",
          "data": {
            "text/plain": [
              "1"
            ]
          },
          "metadata": {},
          "execution_count": 34
        }
      ]
    },
    {
      "cell_type": "code",
      "source": [
        "data[0][1]"
      ],
      "metadata": {
        "colab": {
          "base_uri": "https://localhost:8080/"
        },
        "id": "WjGxUsVc8Hbc",
        "outputId": "7feeba0b-5e2e-4731-9816-485439dcf49f"
      },
      "execution_count": 35,
      "outputs": [
        {
          "output_type": "execute_result",
          "data": {
            "text/plain": [
              "2"
            ]
          },
          "metadata": {},
          "execution_count": 35
        }
      ]
    },
    {
      "cell_type": "code",
      "source": [
        "data[1][0]"
      ],
      "metadata": {
        "colab": {
          "base_uri": "https://localhost:8080/"
        },
        "id": "Xr8ye0Nz8OPR",
        "outputId": "723089bc-f0df-4074-8eed-a725ded711ab"
      },
      "execution_count": 36,
      "outputs": [
        {
          "output_type": "execute_result",
          "data": {
            "text/plain": [
              "3"
            ]
          },
          "metadata": {},
          "execution_count": 36
        }
      ]
    },
    {
      "cell_type": "code",
      "source": [
        "data[1][1]"
      ],
      "metadata": {
        "colab": {
          "base_uri": "https://localhost:8080/"
        },
        "id": "4gb_zmaB8R6C",
        "outputId": "594f413e-0811-4976-b467-e609674f5589"
      },
      "execution_count": 37,
      "outputs": [
        {
          "output_type": "execute_result",
          "data": {
            "text/plain": [
              "4"
            ]
          },
          "metadata": {},
          "execution_count": 37
        }
      ]
    },
    {
      "cell_type": "code",
      "source": [
        "data[1][2]"
      ],
      "metadata": {
        "colab": {
          "base_uri": "https://localhost:8080/"
        },
        "id": "pQduw4Zq8UxB",
        "outputId": "172dd523-16ff-4490-8052-45f861a9c12d"
      },
      "execution_count": 38,
      "outputs": [
        {
          "output_type": "execute_result",
          "data": {
            "text/plain": [
              "5"
            ]
          },
          "metadata": {},
          "execution_count": 38
        }
      ]
    },
    {
      "cell_type": "code",
      "source": [
        "a=[1,2,3,4]\n",
        "a"
      ],
      "metadata": {
        "colab": {
          "base_uri": "https://localhost:8080/"
        },
        "id": "kVzmAXXz8WfO",
        "outputId": "ee1d8820-1f34-4162-9dab-cd091bf5e271"
      },
      "execution_count": 39,
      "outputs": [
        {
          "output_type": "execute_result",
          "data": {
            "text/plain": [
              "[1, 2, 3, 4]"
            ]
          },
          "metadata": {},
          "execution_count": 39
        }
      ]
    },
    {
      "cell_type": "code",
      "source": [
        "a[0]=99\n",
        "a"
      ],
      "metadata": {
        "colab": {
          "base_uri": "https://localhost:8080/"
        },
        "id": "LLTyY-hm8iDt",
        "outputId": "8f0fb086-c1c9-4fce-d76c-b29b5045a7bb"
      },
      "execution_count": 40,
      "outputs": [
        {
          "output_type": "execute_result",
          "data": {
            "text/plain": [
              "[99, 2, 3, 4]"
            ]
          },
          "metadata": {},
          "execution_count": 40
        }
      ]
    },
    {
      "cell_type": "code",
      "source": [
        "a=(1,2,3,4)\n",
        "a"
      ],
      "metadata": {
        "colab": {
          "base_uri": "https://localhost:8080/"
        },
        "id": "7XP3yhhw8k2W",
        "outputId": "17067955-9e48-49bf-a049-427218f0bb07"
      },
      "execution_count": 41,
      "outputs": [
        {
          "output_type": "execute_result",
          "data": {
            "text/plain": [
              "(1, 2, 3, 4)"
            ]
          },
          "metadata": {},
          "execution_count": 41
        }
      ]
    },
    {
      "cell_type": "code",
      "source": [
        "a[0]"
      ],
      "metadata": {
        "colab": {
          "base_uri": "https://localhost:8080/"
        },
        "id": "aW6SWBKZ8otc",
        "outputId": "981f58c3-4214-46bd-fda3-cc96b04463fd"
      },
      "execution_count": 42,
      "outputs": [
        {
          "output_type": "execute_result",
          "data": {
            "text/plain": [
              "1"
            ]
          },
          "metadata": {},
          "execution_count": 42
        }
      ]
    },
    {
      "cell_type": "code",
      "source": [
        "a[0]=99"
      ],
      "metadata": {
        "colab": {
          "base_uri": "https://localhost:8080/",
          "height": 175
        },
        "id": "kcoCnOxQ8q3c",
        "outputId": "67c58797-8a9b-40d4-8d31-5c5bbc9cec39"
      },
      "execution_count": 43,
      "outputs": [
        {
          "output_type": "error",
          "ename": "TypeError",
          "evalue": "ignored",
          "traceback": [
            "\u001b[0;31m---------------------------------------------------------------------------\u001b[0m",
            "\u001b[0;31mTypeError\u001b[0m                                 Traceback (most recent call last)",
            "\u001b[0;32m<ipython-input-43-ca0b5cb9723c>\u001b[0m in \u001b[0;36m<module>\u001b[0;34m\u001b[0m\n\u001b[0;32m----> 1\u001b[0;31m \u001b[0ma\u001b[0m\u001b[0;34m[\u001b[0m\u001b[0;36m0\u001b[0m\u001b[0;34m]\u001b[0m\u001b[0;34m=\u001b[0m\u001b[0;36m99\u001b[0m\u001b[0;34m\u001b[0m\u001b[0;34m\u001b[0m\u001b[0m\n\u001b[0m",
            "\u001b[0;31mTypeError\u001b[0m: 'tuple' object does not support item assignment"
          ]
        }
      ]
    },
    {
      "cell_type": "markdown",
      "source": [
        "タプルは要素の値を変更できない"
      ],
      "metadata": {
        "id": "B4XFujE98uAH"
      }
    },
    {
      "cell_type": "code",
      "source": [
        "a = 1,2,3,4\n",
        "a"
      ],
      "metadata": {
        "colab": {
          "base_uri": "https://localhost:8080/"
        },
        "id": "LBhyzMXp8sg-",
        "outputId": "95a7a8ab-2d3a-47e7-9057-3c9835a0f04f"
      },
      "execution_count": 44,
      "outputs": [
        {
          "output_type": "execute_result",
          "data": {
            "text/plain": [
              "(1, 2, 3, 4)"
            ]
          },
          "metadata": {},
          "execution_count": 44
        }
      ]
    },
    {
      "cell_type": "code",
      "source": [
        "a,b,c = (1,2,3)\n",
        "a"
      ],
      "metadata": {
        "colab": {
          "base_uri": "https://localhost:8080/"
        },
        "id": "JF6_3C-R80_w",
        "outputId": "90d41fbf-5063-4a3a-9619-b1eab6331c39"
      },
      "execution_count": 45,
      "outputs": [
        {
          "output_type": "execute_result",
          "data": {
            "text/plain": [
              "1"
            ]
          },
          "metadata": {},
          "execution_count": 45
        }
      ]
    },
    {
      "cell_type": "markdown",
      "source": [
        "複数の変数へ1つずつ値を代入できる(アンパック代入)"
      ],
      "metadata": {
        "id": "rOli3wfJ9Ddv"
      }
    },
    {
      "cell_type": "code",
      "source": [
        "c"
      ],
      "metadata": {
        "colab": {
          "base_uri": "https://localhost:8080/"
        },
        "id": "jBqB2KQ285H8",
        "outputId": "05df0110-9a63-4c6d-dfbe-3354b59357ad"
      },
      "execution_count": 46,
      "outputs": [
        {
          "output_type": "execute_result",
          "data": {
            "text/plain": [
              "3"
            ]
          },
          "metadata": {},
          "execution_count": 46
        }
      ]
    },
    {
      "cell_type": "code",
      "source": [
        "x,y,z=1,3,9\n",
        "x"
      ],
      "metadata": {
        "colab": {
          "base_uri": "https://localhost:8080/"
        },
        "id": "Pk2gNJUq9HjN",
        "outputId": "6e18bd14-3c0b-43c3-fa35-3ef275c9d32d"
      },
      "execution_count": 47,
      "outputs": [
        {
          "output_type": "execute_result",
          "data": {
            "text/plain": [
              "1"
            ]
          },
          "metadata": {},
          "execution_count": 47
        }
      ]
    },
    {
      "cell_type": "code",
      "source": [
        "y"
      ],
      "metadata": {
        "colab": {
          "base_uri": "https://localhost:8080/"
        },
        "id": "oOWhLyNy9MYa",
        "outputId": "a7cc8ad8-724a-4f1d-e1c4-38d2d148dc6c"
      },
      "execution_count": 48,
      "outputs": [
        {
          "output_type": "execute_result",
          "data": {
            "text/plain": [
              "3"
            ]
          },
          "metadata": {},
          "execution_count": 48
        }
      ]
    },
    {
      "cell_type": "code",
      "source": [
        "z"
      ],
      "metadata": {
        "colab": {
          "base_uri": "https://localhost:8080/"
        },
        "id": "JHt3Jsih9NIr",
        "outputId": "382ea436-37ef-4aec-a8e2-a038bdf198eb"
      },
      "execution_count": 49,
      "outputs": [
        {
          "output_type": "execute_result",
          "data": {
            "text/plain": [
              "9"
            ]
          },
          "metadata": {},
          "execution_count": 49
        }
      ]
    },
    {
      "cell_type": "markdown",
      "source": [
        "辞書\n",
        "{キー1: 値1, キー2:値2, キー3:値3, ･･･}"
      ],
      "metadata": {
        "id": "LYDZzXJD9S80"
      }
    },
    {
      "cell_type": "code",
      "source": [
        "info={'firstname':'太郎', 'lastname':'山田', 'address':'茨城県つくば市 99-99'}"
      ],
      "metadata": {
        "id": "no9wkerd9N49"
      },
      "execution_count": 50,
      "outputs": []
    },
    {
      "cell_type": "code",
      "source": [
        "info['firstname']"
      ],
      "metadata": {
        "colab": {
          "base_uri": "https://localhost:8080/",
          "height": 36
        },
        "id": "G1B0SHup9sh7",
        "outputId": "bec096a7-2013-405d-ff7d-275ebe0db917"
      },
      "execution_count": 51,
      "outputs": [
        {
          "output_type": "execute_result",
          "data": {
            "text/plain": [
              "'太郎'"
            ],
            "application/vnd.google.colaboratory.intrinsic+json": {
              "type": "string"
            }
          },
          "metadata": {},
          "execution_count": 51
        }
      ]
    },
    {
      "cell_type": "code",
      "source": [
        "for k in info.keys():\n",
        "  print(k)"
      ],
      "metadata": {
        "colab": {
          "base_uri": "https://localhost:8080/"
        },
        "id": "73yfTbBS9wWr",
        "outputId": "b13787e0-947d-4f33-b5fc-410f274b8f2c"
      },
      "execution_count": 52,
      "outputs": [
        {
          "output_type": "stream",
          "name": "stdout",
          "text": [
            "firstname\n",
            "lastname\n",
            "address\n"
          ]
        }
      ]
    },
    {
      "cell_type": "markdown",
      "source": [
        "keysメソッドによるすべてのキーの取得"
      ],
      "metadata": {
        "id": "qkhrd6l19-Wr"
      }
    },
    {
      "cell_type": "code",
      "source": [
        "for v in info.values():\n",
        "  print(v)"
      ],
      "metadata": {
        "colab": {
          "base_uri": "https://localhost:8080/"
        },
        "id": "-qOSSSd_98mc",
        "outputId": "962f416d-9df0-4a05-be82-910882351a6c"
      },
      "execution_count": 53,
      "outputs": [
        {
          "output_type": "stream",
          "name": "stdout",
          "text": [
            "太郎\n",
            "山田\n",
            "茨城県つくば市 99-99\n"
          ]
        }
      ]
    },
    {
      "cell_type": "markdown",
      "source": [
        "valuesメソッドによるすべての値の取得"
      ],
      "metadata": {
        "id": "9tYgJKGe-IVJ"
      }
    },
    {
      "cell_type": "code",
      "source": [
        "for i in info.items():\n",
        "  print(i)"
      ],
      "metadata": {
        "colab": {
          "base_uri": "https://localhost:8080/"
        },
        "id": "JLleu1fA-HEn",
        "outputId": "cabe2c03-a079-4f83-bf4d-952cd98197f2"
      },
      "execution_count": 54,
      "outputs": [
        {
          "output_type": "stream",
          "name": "stdout",
          "text": [
            "('firstname', '太郎')\n",
            "('lastname', '山田')\n",
            "('address', '茨城県つくば市 99-99')\n"
          ]
        }
      ]
    },
    {
      "cell_type": "markdown",
      "source": [
        "itemsメソッドによるすべての要素(キーと値のペアを格納したタプル)の取得"
      ],
      "metadata": {
        "id": "VJyHXfsP-c3j"
      }
    },
    {
      "cell_type": "code",
      "source": [
        "info.get('firstname')"
      ],
      "metadata": {
        "colab": {
          "base_uri": "https://localhost:8080/",
          "height": 36
        },
        "id": "rcqHJGEF-Rvw",
        "outputId": "19de717e-3b66-44cf-de3e-a29c05cfea98"
      },
      "execution_count": 55,
      "outputs": [
        {
          "output_type": "execute_result",
          "data": {
            "text/plain": [
              "'太郎'"
            ],
            "application/vnd.google.colaboratory.intrinsic+json": {
              "type": "string"
            }
          },
          "metadata": {},
          "execution_count": 55
        }
      ]
    },
    {
      "cell_type": "code",
      "source": [
        "info.get('tel')"
      ],
      "metadata": {
        "id": "M4AL7ZmJ-lh3"
      },
      "execution_count": 56,
      "outputs": []
    },
    {
      "cell_type": "code",
      "source": [
        "info['tel']='090-000-0000'"
      ],
      "metadata": {
        "id": "YxfPi4JF-npx"
      },
      "execution_count": 57,
      "outputs": []
    },
    {
      "cell_type": "code",
      "source": [
        "info"
      ],
      "metadata": {
        "colab": {
          "base_uri": "https://localhost:8080/"
        },
        "id": "aDIa4N4P-tbm",
        "outputId": "cddc92d4-c4de-46ee-fffa-6a8ac183fd2e"
      },
      "execution_count": 60,
      "outputs": [
        {
          "output_type": "execute_result",
          "data": {
            "text/plain": [
              "{'firstname': '太郎',\n",
              " 'lastname': '山田',\n",
              " 'address': '茨城県つくば市 99-99',\n",
              " 'tel': '090-000-0000'}"
            ]
          },
          "metadata": {},
          "execution_count": 60
        }
      ]
    },
    {
      "cell_type": "code",
      "source": [
        "info.get('tel')"
      ],
      "metadata": {
        "colab": {
          "base_uri": "https://localhost:8080/",
          "height": 36
        },
        "id": "v9PVptSe-wle",
        "outputId": "ffb74aa7-070b-4d6c-c83b-6d935bbc35f2"
      },
      "execution_count": 61,
      "outputs": [
        {
          "output_type": "execute_result",
          "data": {
            "text/plain": [
              "'090-000-0000'"
            ],
            "application/vnd.google.colaboratory.intrinsic+json": {
              "type": "string"
            }
          },
          "metadata": {},
          "execution_count": 61
        }
      ]
    },
    {
      "cell_type": "code",
      "source": [
        "del info['tel']"
      ],
      "metadata": {
        "id": "x62Hoxat_EJk"
      },
      "execution_count": 62,
      "outputs": []
    },
    {
      "cell_type": "code",
      "source": [
        "len(info)"
      ],
      "metadata": {
        "colab": {
          "base_uri": "https://localhost:8080/"
        },
        "id": "GnhILVtA_IHe",
        "outputId": "da0db64f-12a6-474c-91f8-d4f5d8d67717"
      },
      "execution_count": 63,
      "outputs": [
        {
          "output_type": "execute_result",
          "data": {
            "text/plain": [
              "3"
            ]
          },
          "metadata": {},
          "execution_count": 63
        }
      ]
    },
    {
      "cell_type": "code",
      "source": [
        "info"
      ],
      "metadata": {
        "colab": {
          "base_uri": "https://localhost:8080/"
        },
        "id": "IFjlfJyg_JqG",
        "outputId": "83d189bf-607f-44ce-bc47-6131c7123ac5"
      },
      "execution_count": 64,
      "outputs": [
        {
          "output_type": "execute_result",
          "data": {
            "text/plain": [
              "{'firstname': '太郎', 'lastname': '山田', 'address': '茨城県つくば市 99-99'}"
            ]
          },
          "metadata": {},
          "execution_count": 64
        }
      ]
    },
    {
      "cell_type": "code",
      "source": [
        "'age' in info"
      ],
      "metadata": {
        "colab": {
          "base_uri": "https://localhost:8080/"
        },
        "id": "JdbYnB1q_LXG",
        "outputId": "c6dbd730-3f3d-4ba3-d251-b12c209c4207"
      },
      "execution_count": 65,
      "outputs": [
        {
          "output_type": "execute_result",
          "data": {
            "text/plain": [
              "False"
            ]
          },
          "metadata": {},
          "execution_count": 65
        }
      ]
    },
    {
      "cell_type": "code",
      "source": [
        "'firstname' in info"
      ],
      "metadata": {
        "colab": {
          "base_uri": "https://localhost:8080/"
        },
        "id": "e3AInrMX_N9r",
        "outputId": "0a376756-0a2c-4bbc-fc0d-66c216dc2fc4"
      },
      "execution_count": 66,
      "outputs": [
        {
          "output_type": "execute_result",
          "data": {
            "text/plain": [
              "True"
            ]
          },
          "metadata": {},
          "execution_count": 66
        }
      ]
    },
    {
      "cell_type": "code",
      "source": [
        "data={'b':5, 'c':2, 'a':8, 'd':7}\n",
        "print(sorted(data.items()))"
      ],
      "metadata": {
        "colab": {
          "base_uri": "https://localhost:8080/"
        },
        "id": "bTKalxH7_Ro_",
        "outputId": "d282f062-b715-4b31-e0ee-41fa6dba0648"
      },
      "execution_count": 67,
      "outputs": [
        {
          "output_type": "stream",
          "name": "stdout",
          "text": [
            "[('a', 8), ('b', 5), ('c', 2), ('d', 7)]\n"
          ]
        }
      ]
    },
    {
      "cell_type": "markdown",
      "source": [
        "sortedメソッドを使うと、キーを基準に、要素を昇順に取得できる"
      ],
      "metadata": {
        "id": "sEENs3mt_m0y"
      }
    },
    {
      "cell_type": "code",
      "source": [
        "print(sorted(data.items(), key=lambda x:x[1]))"
      ],
      "metadata": {
        "colab": {
          "base_uri": "https://localhost:8080/"
        },
        "id": "jwryIcrO_lWD",
        "outputId": "c2c812dd-7eed-476b-ea42-a657dab57b54"
      },
      "execution_count": 69,
      "outputs": [
        {
          "output_type": "stream",
          "name": "stdout",
          "text": [
            "[('c', 2), ('b', 5), ('d', 7), ('a', 8)]\n"
          ]
        }
      ]
    },
    {
      "cell_type": "markdown",
      "source": [
        "sortedメソッドに、key=lambda x:x[1]を指定すると、値を基準とした昇順に取得できる"
      ],
      "metadata": {
        "id": "rNv8Y3TnAxSq"
      }
    },
    {
      "cell_type": "code",
      "source": [
        "a={'A', 'B', 'B', 'C', 'C', 'D'}\n",
        "a"
      ],
      "metadata": {
        "colab": {
          "base_uri": "https://localhost:8080/"
        },
        "id": "cyZt2D_QArLz",
        "outputId": "32263897-0a08-4659-a367-bf9921c6fc8c"
      },
      "execution_count": 70,
      "outputs": [
        {
          "output_type": "execute_result",
          "data": {
            "text/plain": [
              "{'A', 'B', 'C', 'D'}"
            ]
          },
          "metadata": {},
          "execution_count": 70
        }
      ]
    },
    {
      "cell_type": "markdown",
      "source": [
        "セットは、要素の重複を許さない、順序がない。リストは[], タプルは(), セットは{}"
      ],
      "metadata": {
        "id": "Oa-20k9JBT36"
      }
    },
    {
      "cell_type": "code",
      "source": [
        "data=[1,2,3]\n",
        "a=set(data)\n",
        "a"
      ],
      "metadata": {
        "colab": {
          "base_uri": "https://localhost:8080/"
        },
        "id": "wQARpYxOBStq",
        "outputId": "b60881ea-47e4-41bc-ad1d-ec3f344999b7"
      },
      "execution_count": 71,
      "outputs": [
        {
          "output_type": "execute_result",
          "data": {
            "text/plain": [
              "{1, 2, 3}"
            ]
          },
          "metadata": {},
          "execution_count": 71
        }
      ]
    },
    {
      "cell_type": "code",
      "source": [
        "set1={'A', 'B', 'C'}\n",
        "set2 ={'B','C'}"
      ],
      "metadata": {
        "id": "ZsEqKX9nBjo6"
      },
      "execution_count": 72,
      "outputs": []
    },
    {
      "cell_type": "code",
      "source": [
        "set1.issubset(set2)"
      ],
      "metadata": {
        "colab": {
          "base_uri": "https://localhost:8080/"
        },
        "id": "X7YkcRV7Brks",
        "outputId": "210da22f-6817-4461-eea4-2a1b3ce15a08"
      },
      "execution_count": 73,
      "outputs": [
        {
          "output_type": "execute_result",
          "data": {
            "text/plain": [
              "False"
            ]
          },
          "metadata": {},
          "execution_count": 73
        }
      ]
    },
    {
      "cell_type": "code",
      "source": [
        "set2.issubset(set1)"
      ],
      "metadata": {
        "colab": {
          "base_uri": "https://localhost:8080/"
        },
        "id": "EmSLn3RKBvv0",
        "outputId": "4a47c620-e88e-494b-c8fe-45676f384dc1"
      },
      "execution_count": 74,
      "outputs": [
        {
          "output_type": "execute_result",
          "data": {
            "text/plain": [
              "True"
            ]
          },
          "metadata": {},
          "execution_count": 74
        }
      ]
    },
    {
      "cell_type": "markdown",
      "source": [
        "set2は、set1に含まれている"
      ],
      "metadata": {
        "id": "e3Y70-MGB1uu"
      }
    },
    {
      "cell_type": "markdown",
      "source": [
        "セット同士の集合演算、\n",
        "set1 | set2　少なくともどちらか一方に含まれる要素からなるセットを得る"
      ],
      "metadata": {
        "id": "DBYN6Pg3CIGE"
      }
    },
    {
      "cell_type": "markdown",
      "source": [
        "set1 & set2 両方に含まれる要素からなるセットを得る"
      ],
      "metadata": {
        "id": "6v1uD0-gCYTi"
      }
    },
    {
      "cell_type": "markdown",
      "source": [
        "set1 - set2 set1からset2に含まれる要素を除いたセットを得る"
      ],
      "metadata": {
        "id": "k6X4J-95Cd67"
      }
    },
    {
      "cell_type": "markdown",
      "source": [
        "set1 ^ set2 どちらか一方にだけ含まれる要素からなるセットを得る、両方に含まれるセットは入らない"
      ],
      "metadata": {
        "id": "8oJ65h1GCmRu"
      }
    },
    {
      "cell_type": "code",
      "source": [
        "set1 = {'A', 'B','C'}\n",
        "set2 = {'A', 'B', 'D'}"
      ],
      "metadata": {
        "id": "ZDPcbqCvB0BM"
      },
      "execution_count": 75,
      "outputs": []
    },
    {
      "cell_type": "code",
      "source": [
        "set1 | set2"
      ],
      "metadata": {
        "colab": {
          "base_uri": "https://localhost:8080/"
        },
        "id": "Ph2dy6sxDBJr",
        "outputId": "c72325c7-ba48-47d2-833c-83fe58dd517a"
      },
      "execution_count": 76,
      "outputs": [
        {
          "output_type": "execute_result",
          "data": {
            "text/plain": [
              "{'A', 'B', 'C', 'D'}"
            ]
          },
          "metadata": {},
          "execution_count": 76
        }
      ]
    },
    {
      "cell_type": "code",
      "source": [
        "set1 & set2"
      ],
      "metadata": {
        "colab": {
          "base_uri": "https://localhost:8080/"
        },
        "id": "N_DoLivwDDsN",
        "outputId": "2480d6d8-5f55-42e9-f13b-edcf95d94fd4"
      },
      "execution_count": 77,
      "outputs": [
        {
          "output_type": "execute_result",
          "data": {
            "text/plain": [
              "{'A', 'B'}"
            ]
          },
          "metadata": {},
          "execution_count": 77
        }
      ]
    },
    {
      "cell_type": "code",
      "source": [
        "set1- set2"
      ],
      "metadata": {
        "colab": {
          "base_uri": "https://localhost:8080/"
        },
        "id": "aoNZaIJVDGtG",
        "outputId": "2687b7de-bc2d-476d-fd55-b82314c0fb15"
      },
      "execution_count": 78,
      "outputs": [
        {
          "output_type": "execute_result",
          "data": {
            "text/plain": [
              "{'C'}"
            ]
          },
          "metadata": {},
          "execution_count": 78
        }
      ]
    },
    {
      "cell_type": "code",
      "source": [
        "set1 ^ set2"
      ],
      "metadata": {
        "colab": {
          "base_uri": "https://localhost:8080/"
        },
        "id": "vDbjvPBwDLLa",
        "outputId": "b7ca8616-8702-4e41-b4ab-fbc683c18cd1"
      },
      "execution_count": 79,
      "outputs": [
        {
          "output_type": "execute_result",
          "data": {
            "text/plain": [
              "{'C', 'D'}"
            ]
          },
          "metadata": {},
          "execution_count": 79
        }
      ]
    },
    {
      "cell_type": "markdown",
      "source": [
        "変更可能(ミュータブル)、反復可能(イテラブル)、順序を持つ(シーケンス)"
      ],
      "metadata": {
        "id": "gXznPKKUgnJj"
      }
    },
    {
      "cell_type": "markdown",
      "source": [
        "ミュータブルな型:値を変更できる→list型、dict型、set型"
      ],
      "metadata": {
        "id": "GSXhaD0khu6c"
      }
    },
    {
      "cell_type": "markdown",
      "source": [
        "イミュータブルな型:値を変更できない→int型、float型、bool型、str型、tuple型→インスタンス(オブジェクト)そのものを取り換えないと値を変えられない。"
      ],
      "metadata": {
        "id": "oejgRdsyh6gf"
      }
    },
    {
      "cell_type": "code",
      "source": [
        "a=2\n",
        "id(a)"
      ],
      "metadata": {
        "colab": {
          "base_uri": "https://localhost:8080/"
        },
        "id": "p3mmEX3gDOtr",
        "outputId": "b87c162e-ec47-49f7-f55e-6cd66e2576eb"
      },
      "execution_count": 80,
      "outputs": [
        {
          "output_type": "execute_result",
          "data": {
            "text/plain": [
              "9793120"
            ]
          },
          "metadata": {},
          "execution_count": 80
        }
      ]
    },
    {
      "cell_type": "code",
      "source": [
        "a=3\n",
        "id(a)"
      ],
      "metadata": {
        "colab": {
          "base_uri": "https://localhost:8080/"
        },
        "id": "j17GiHgNiUB1",
        "outputId": "8ac3c12b-65fb-44df-9367-580e572cf859"
      },
      "execution_count": 81,
      "outputs": [
        {
          "output_type": "execute_result",
          "data": {
            "text/plain": [
              "9793152"
            ]
          },
          "metadata": {},
          "execution_count": 81
        }
      ]
    },
    {
      "cell_type": "code",
      "source": [
        "a=[1,2,3]\n",
        "id(a)"
      ],
      "metadata": {
        "colab": {
          "base_uri": "https://localhost:8080/"
        },
        "id": "g7UZW6pXiXV3",
        "outputId": "95c9c0d0-7913-4c61-cee5-da6a63241212"
      },
      "execution_count": 82,
      "outputs": [
        {
          "output_type": "execute_result",
          "data": {
            "text/plain": [
              "140153677863040"
            ]
          },
          "metadata": {},
          "execution_count": 82
        }
      ]
    },
    {
      "cell_type": "code",
      "source": [
        "a[0]=3\n",
        "a"
      ],
      "metadata": {
        "colab": {
          "base_uri": "https://localhost:8080/"
        },
        "id": "rwg04BgKiedo",
        "outputId": "89972968-bed3-4204-ee70-ccab37d2a566"
      },
      "execution_count": 83,
      "outputs": [
        {
          "output_type": "execute_result",
          "data": {
            "text/plain": [
              "[3, 2, 3]"
            ]
          },
          "metadata": {},
          "execution_count": 83
        }
      ]
    },
    {
      "cell_type": "code",
      "source": [
        "id(a)"
      ],
      "metadata": {
        "colab": {
          "base_uri": "https://localhost:8080/"
        },
        "id": "bheoFdWEiicj",
        "outputId": "8f1abe43-1343-41a7-a087-3697760ba737"
      },
      "execution_count": 84,
      "outputs": [
        {
          "output_type": "execute_result",
          "data": {
            "text/plain": [
              "140153677863040"
            ]
          },
          "metadata": {},
          "execution_count": 84
        }
      ]
    },
    {
      "cell_type": "code",
      "source": [
        "for a in 'Python':\n",
        "  print(a)"
      ],
      "metadata": {
        "colab": {
          "base_uri": "https://localhost:8080/"
        },
        "id": "iiOgZ82sij22",
        "outputId": "31be22dc-239a-419b-9a3a-240f68412ccc"
      },
      "execution_count": 85,
      "outputs": [
        {
          "output_type": "stream",
          "name": "stdout",
          "text": [
            "P\n",
            "y\n",
            "t\n",
            "h\n",
            "o\n",
            "n\n"
          ]
        }
      ]
    },
    {
      "cell_type": "code",
      "source": [
        "for a in {1,2,3}:\n",
        "  print(a)"
      ],
      "metadata": {
        "colab": {
          "base_uri": "https://localhost:8080/"
        },
        "id": "SquUssPUi54D",
        "outputId": "60318833-c704-4a2b-a174-259384a989ab"
      },
      "execution_count": 86,
      "outputs": [
        {
          "output_type": "stream",
          "name": "stdout",
          "text": [
            "1\n",
            "2\n",
            "3\n"
          ]
        }
      ]
    },
    {
      "cell_type": "code",
      "source": [
        "a='Python'\n",
        "a[2]"
      ],
      "metadata": {
        "colab": {
          "base_uri": "https://localhost:8080/",
          "height": 36
        },
        "id": "GkqqexD_i-uZ",
        "outputId": "17ed5636-a125-4fc1-aa7d-216a73acd4a1"
      },
      "execution_count": 87,
      "outputs": [
        {
          "output_type": "execute_result",
          "data": {
            "text/plain": [
              "'t'"
            ],
            "application/vnd.google.colaboratory.intrinsic+json": {
              "type": "string"
            }
          },
          "metadata": {},
          "execution_count": 87
        }
      ]
    },
    {
      "cell_type": "code",
      "source": [
        "a=(1,2,3)\n",
        "a[2]"
      ],
      "metadata": {
        "colab": {
          "base_uri": "https://localhost:8080/"
        },
        "id": "gvTtcPRijD-E",
        "outputId": "4ab5bf9a-2967-4c49-9096-6982955fa658"
      },
      "execution_count": 88,
      "outputs": [
        {
          "output_type": "execute_result",
          "data": {
            "text/plain": [
              "3"
            ]
          },
          "metadata": {},
          "execution_count": 88
        }
      ]
    },
    {
      "cell_type": "code",
      "source": [
        "a='Python'\n",
        "a[1:3]"
      ],
      "metadata": {
        "colab": {
          "base_uri": "https://localhost:8080/",
          "height": 36
        },
        "id": "Y_aLpcBCjHPS",
        "outputId": "2c6d5a70-2c17-400c-dac2-cf445e6e4b3e"
      },
      "execution_count": 89,
      "outputs": [
        {
          "output_type": "execute_result",
          "data": {
            "text/plain": [
              "'yt'"
            ],
            "application/vnd.google.colaboratory.intrinsic+json": {
              "type": "string"
            }
          },
          "metadata": {},
          "execution_count": 89
        }
      ]
    },
    {
      "cell_type": "code",
      "source": [
        "a=(0,1,2,3,4)\n",
        "a[2:5]"
      ],
      "metadata": {
        "colab": {
          "base_uri": "https://localhost:8080/"
        },
        "id": "ctrER9XDjN2O",
        "outputId": "ad519461-f58e-4617-c246-8bad5c794faf"
      },
      "execution_count": 90,
      "outputs": [
        {
          "output_type": "execute_result",
          "data": {
            "text/plain": [
              "(2, 3, 4)"
            ]
          },
          "metadata": {},
          "execution_count": 90
        }
      ]
    },
    {
      "cell_type": "code",
      "source": [
        "a='Python'\n",
        "a[:3]"
      ],
      "metadata": {
        "colab": {
          "base_uri": "https://localhost:8080/",
          "height": 36
        },
        "id": "5Cxlg3BSjUj2",
        "outputId": "f3386c54-d688-40ad-c393-33becf0574c7"
      },
      "execution_count": 91,
      "outputs": [
        {
          "output_type": "execute_result",
          "data": {
            "text/plain": [
              "'Pyt'"
            ],
            "application/vnd.google.colaboratory.intrinsic+json": {
              "type": "string"
            }
          },
          "metadata": {},
          "execution_count": 91
        }
      ]
    },
    {
      "cell_type": "code",
      "source": [
        "a=(0,1,2,3,4)\n",
        "a[2:]"
      ],
      "metadata": {
        "colab": {
          "base_uri": "https://localhost:8080/"
        },
        "id": "OiqND4vejYv-",
        "outputId": "eef5c831-d199-419c-d9a2-f2f5c4cac3c7"
      },
      "execution_count": 92,
      "outputs": [
        {
          "output_type": "execute_result",
          "data": {
            "text/plain": [
              "(2, 3, 4)"
            ]
          },
          "metadata": {},
          "execution_count": 92
        }
      ]
    },
    {
      "cell_type": "code",
      "source": [
        "list= [n*n for n in range(1, 11)]"
      ],
      "metadata": {
        "id": "sQg-LulRjm5E"
      },
      "execution_count": 94,
      "outputs": []
    },
    {
      "cell_type": "code",
      "source": [
        "list"
      ],
      "metadata": {
        "colab": {
          "base_uri": "https://localhost:8080/"
        },
        "id": "pDVyvu_tk9zo",
        "outputId": "c77507bf-1e3e-4f4a-a598-8391b18ee8d2"
      },
      "execution_count": 95,
      "outputs": [
        {
          "output_type": "execute_result",
          "data": {
            "text/plain": [
              "[1, 4, 9, 16, 25, 36, 49, 64, 81, 100]"
            ]
          },
          "metadata": {},
          "execution_count": 95
        }
      ]
    },
    {
      "cell_type": "code",
      "source": [
        "def say_hello():\n",
        "  print('こんにちは')\n",
        "  print('今日はよい天気ですね')"
      ],
      "metadata": {
        "id": "ruKIcLN2lImw"
      },
      "execution_count": 96,
      "outputs": []
    },
    {
      "cell_type": "code",
      "source": [
        "say_hello()\n",
        "say_hello()"
      ],
      "metadata": {
        "colab": {
          "base_uri": "https://localhost:8080/"
        },
        "id": "3NeIw25YmrDq",
        "outputId": "fdbe9037-1d49-461f-9e26-584ca4cf5590"
      },
      "execution_count": 98,
      "outputs": [
        {
          "output_type": "stream",
          "name": "stdout",
          "text": [
            "こんにちは\n",
            "今日はよい天気ですね\n",
            "こんにちは\n",
            "今日はよい天気ですね\n"
          ]
        }
      ]
    },
    {
      "cell_type": "code",
      "source": [
        "def function_a():\n",
        "  print('function_aの処理です')\n",
        "\n",
        "def function_b():\n",
        "  print('function_bの処理開始')\n",
        "  function_a()\n",
        "  print('function_bの処理終了')\n",
        "\n",
        "print('function_bを呼び出します')\n",
        "function_b()"
      ],
      "metadata": {
        "colab": {
          "base_uri": "https://localhost:8080/"
        },
        "id": "B1sXKz_ymuG3",
        "outputId": "c372120d-72fd-4a59-af3c-3bda2cd05ed9"
      },
      "execution_count": 99,
      "outputs": [
        {
          "output_type": "stream",
          "name": "stdout",
          "text": [
            "function_bを呼び出します\n",
            "function_bの処理開始\n",
            "function_aの処理です\n",
            "function_bの処理終了\n"
          ]
        }
      ]
    },
    {
      "cell_type": "code",
      "source": [
        "a=10\n",
        "\n",
        "def function_a():\n",
        "  global a\n",
        "  a=5\n",
        "\n",
        "function_a()\n",
        "print(a)"
      ],
      "metadata": {
        "colab": {
          "base_uri": "https://localhost:8080/"
        },
        "id": "CnqSiya_nZht",
        "outputId": "9e5a2430-6702-46fe-aec6-23deb041a9df"
      },
      "execution_count": 100,
      "outputs": [
        {
          "output_type": "stream",
          "name": "stdout",
          "text": [
            "5\n"
          ]
        }
      ]
    },
    {
      "cell_type": "code",
      "source": [
        "def countdown(start):\n",
        "  print('関数が受け取った値:', start)\n",
        "  print('カウントダウンをします')\n",
        "  counter=start\n",
        "  while counter >=0:\n",
        "    print(counter)\n",
        "    counter -= 1\n",
        "\n",
        "countdown(3)\n",
        "countdown(10)"
      ],
      "metadata": {
        "colab": {
          "base_uri": "https://localhost:8080/"
        },
        "id": "oUqdf8qTnvIy",
        "outputId": "44004608-80c9-4ff2-96be-7bc434962a7f"
      },
      "execution_count": 101,
      "outputs": [
        {
          "output_type": "stream",
          "name": "stdout",
          "text": [
            "関数が受け取った値: 3\n",
            "カウントダウンをします\n",
            "3\n",
            "2\n",
            "1\n",
            "0\n",
            "関数が受け取った値: 10\n",
            "カウントダウンをします\n",
            "10\n",
            "9\n",
            "8\n",
            "7\n",
            "6\n",
            "5\n",
            "4\n",
            "3\n",
            "2\n",
            "1\n",
            "0\n"
          ]
        }
      ]
    },
    {
      "cell_type": "code",
      "source": [
        "def countdown(start, end):\n",
        "  print('1つ目の引数で受け取った値:', start)\n",
        "  print('2つ目の引数で受け取った値:', end)\n",
        "  print('カウントダウンをします')\n",
        "  counter = start\n",
        "  while counter >= end:\n",
        "    print(counter)\n",
        "    counter -= 1\n",
        "\n",
        "countdown(7,3)\n",
        "  "
      ],
      "metadata": {
        "colab": {
          "base_uri": "https://localhost:8080/"
        },
        "id": "EvR5yGTrowWc",
        "outputId": "a812ebff-02ac-4b88-faae-6fa93c0180a4"
      },
      "execution_count": 102,
      "outputs": [
        {
          "output_type": "stream",
          "name": "stdout",
          "text": [
            "1つ目の引数で受け取った値: 7\n",
            "2つ目の引数で受け取った値: 3\n",
            "カウントダウンをします\n",
            "7\n",
            "6\n",
            "5\n",
            "4\n",
            "3\n"
          ]
        }
      ]
    },
    {
      "cell_type": "code",
      "source": [
        "def countdown(start, end=0):\n",
        "  counter=start\n",
        "  while counter >= end:\n",
        "    print(counter)\n",
        "    counter -= 1\n",
        "\n",
        "countdown(10)"
      ],
      "metadata": {
        "colab": {
          "base_uri": "https://localhost:8080/"
        },
        "id": "3nJo8vX2pene",
        "outputId": "f2ab849b-34a2-4707-d09a-806aa512231d"
      },
      "execution_count": 103,
      "outputs": [
        {
          "output_type": "stream",
          "name": "stdout",
          "text": [
            "10\n",
            "9\n",
            "8\n",
            "7\n",
            "6\n",
            "5\n",
            "4\n",
            "3\n",
            "2\n",
            "1\n",
            "0\n"
          ]
        }
      ]
    },
    {
      "cell_type": "code",
      "source": [
        "countdown(10,2)"
      ],
      "metadata": {
        "colab": {
          "base_uri": "https://localhost:8080/"
        },
        "id": "FolKo0g2pySh",
        "outputId": "38c2ab9b-f238-4ade-8c68-dc31f44cc896"
      },
      "execution_count": 104,
      "outputs": [
        {
          "output_type": "stream",
          "name": "stdout",
          "text": [
            "10\n",
            "9\n",
            "8\n",
            "7\n",
            "6\n",
            "5\n",
            "4\n",
            "3\n",
            "2\n"
          ]
        }
      ]
    },
    {
      "cell_type": "markdown",
      "source": [
        "デフォルト値のある引数は、後方に書く。デフォルト以外の引数を指定することもできる。"
      ],
      "metadata": {
        "id": "Ic8pBEjEqAzO"
      }
    },
    {
      "cell_type": "code",
      "source": [
        "def func_a(*args):\n",
        "  for a in args:\n",
        "    print(a)\n",
        "\n",
        "func_a(1,2)\n",
        "func_a(1,2,3,4)"
      ],
      "metadata": {
        "colab": {
          "base_uri": "https://localhost:8080/"
        },
        "id": "r793nWizp442",
        "outputId": "28380c25-a7c2-4943-e86f-215284cd9c43"
      },
      "execution_count": 105,
      "outputs": [
        {
          "output_type": "stream",
          "name": "stdout",
          "text": [
            "1\n",
            "2\n",
            "1\n",
            "2\n",
            "3\n",
            "4\n"
          ]
        }
      ]
    },
    {
      "cell_type": "markdown",
      "source": [
        "タプルで複数の値を引数として受け取る。引数の数に制限がないので可変長引数という。"
      ],
      "metadata": {
        "id": "V_6_-W3Dq1VX"
      }
    },
    {
      "cell_type": "code",
      "source": [
        "def func_b(**kwargs):\n",
        "  for k, v in kwargs:\n",
        "    print(k, v)"
      ],
      "metadata": {
        "id": "c5GqK3pTqz9N"
      },
      "execution_count": 112,
      "outputs": []
    },
    {
      "cell_type": "code",
      "source": [
        "func_b(a=1, b=2)\n",
        "func_b(c=3, d=4, e=5, f=6)"
      ],
      "metadata": {
        "colab": {
          "base_uri": "https://localhost:8080/",
          "height": 284
        },
        "id": "R_5HjMxxsN6v",
        "outputId": "5fe0d31b-4a27-466b-8af3-9da232322509"
      },
      "execution_count": 113,
      "outputs": [
        {
          "output_type": "error",
          "ename": "ValueError",
          "evalue": "ignored",
          "traceback": [
            "\u001b[0;31m---------------------------------------------------------------------------\u001b[0m",
            "\u001b[0;31mValueError\u001b[0m                                Traceback (most recent call last)",
            "\u001b[0;32m<ipython-input-113-064aeab1277a>\u001b[0m in \u001b[0;36m<module>\u001b[0;34m\u001b[0m\n\u001b[0;32m----> 1\u001b[0;31m \u001b[0mfunc_b\u001b[0m\u001b[0;34m(\u001b[0m\u001b[0ma\u001b[0m\u001b[0;34m=\u001b[0m\u001b[0;36m1\u001b[0m\u001b[0;34m,\u001b[0m \u001b[0mb\u001b[0m\u001b[0;34m=\u001b[0m\u001b[0;36m2\u001b[0m\u001b[0;34m)\u001b[0m\u001b[0;34m\u001b[0m\u001b[0;34m\u001b[0m\u001b[0m\n\u001b[0m\u001b[1;32m      2\u001b[0m \u001b[0mfunc_b\u001b[0m\u001b[0;34m(\u001b[0m\u001b[0mc\u001b[0m\u001b[0;34m=\u001b[0m\u001b[0;36m3\u001b[0m\u001b[0;34m,\u001b[0m \u001b[0md\u001b[0m\u001b[0;34m=\u001b[0m\u001b[0;36m4\u001b[0m\u001b[0;34m,\u001b[0m \u001b[0me\u001b[0m\u001b[0;34m=\u001b[0m\u001b[0;36m5\u001b[0m\u001b[0;34m,\u001b[0m \u001b[0mf\u001b[0m\u001b[0;34m=\u001b[0m\u001b[0;36m6\u001b[0m\u001b[0;34m)\u001b[0m\u001b[0;34m\u001b[0m\u001b[0;34m\u001b[0m\u001b[0m\n",
            "\u001b[0;32m<ipython-input-112-19b15561f149>\u001b[0m in \u001b[0;36mfunc_b\u001b[0;34m(**kwargs)\u001b[0m\n\u001b[1;32m      1\u001b[0m \u001b[0;32mdef\u001b[0m \u001b[0mfunc_b\u001b[0m\u001b[0;34m(\u001b[0m\u001b[0;34m**\u001b[0m\u001b[0mkwargs\u001b[0m\u001b[0;34m)\u001b[0m\u001b[0;34m:\u001b[0m\u001b[0;34m\u001b[0m\u001b[0;34m\u001b[0m\u001b[0m\n\u001b[0;32m----> 2\u001b[0;31m   \u001b[0;32mfor\u001b[0m \u001b[0mk\u001b[0m\u001b[0;34m,\u001b[0m \u001b[0mv\u001b[0m \u001b[0;32min\u001b[0m \u001b[0mkwargs\u001b[0m\u001b[0;34m:\u001b[0m\u001b[0;34m\u001b[0m\u001b[0;34m\u001b[0m\u001b[0m\n\u001b[0m\u001b[1;32m      3\u001b[0m     \u001b[0mprint\u001b[0m\u001b[0;34m(\u001b[0m\u001b[0mk\u001b[0m\u001b[0;34m,\u001b[0m \u001b[0mv\u001b[0m\u001b[0;34m)\u001b[0m\u001b[0;34m\u001b[0m\u001b[0;34m\u001b[0m\u001b[0m\n",
            "\u001b[0;31mValueError\u001b[0m: not enough values to unpack (expected 2, got 1)"
          ]
        }
      ]
    },
    {
      "cell_type": "markdown",
      "source": [
        "not enough values to unpack (expected 2, got 1)とエラーになる"
      ],
      "metadata": {
        "id": "4oYV6OOXu0ws"
      }
    },
    {
      "cell_type": "code",
      "source": [
        "def circle_area(r):\n",
        "  return r*r*3.14\n",
        "\n",
        "a=circle_area(2.5)\n",
        "print('半径2.5の円の面積は', a)"
      ],
      "metadata": {
        "colab": {
          "base_uri": "https://localhost:8080/"
        },
        "id": "Sbr3aNnPsj6J",
        "outputId": "8a2b0c29-381b-4077-8684-e26820f33678"
      },
      "execution_count": 114,
      "outputs": [
        {
          "output_type": "stream",
          "name": "stdout",
          "text": [
            "半径2.5の円の面積は 19.625\n"
          ]
        }
      ]
    },
    {
      "cell_type": "code",
      "source": [
        "def is_positive(i):\n",
        "  if i>0:\n",
        "    return True\n",
        "  else:\n",
        "    return False\n",
        "\n",
        "a= 10;\n",
        "if is_positive(a) == True:\n",
        "  print('aの値は正です')\n",
        "else:\n",
        "  print('aの値は負またはゼロです')\n"
      ],
      "metadata": {
        "colab": {
          "base_uri": "https://localhost:8080/"
        },
        "id": "Aoek4kztzoiY",
        "outputId": "a8b15878-3086-473f-e813-5fe2c7e30aad"
      },
      "execution_count": 117,
      "outputs": [
        {
          "output_type": "stream",
          "name": "stdout",
          "text": [
            "aの値は正です\n"
          ]
        }
      ]
    },
    {
      "cell_type": "code",
      "source": [
        "def is_positive(i):\n",
        "  return i>0\n",
        "\n",
        "a= -10\n",
        "if is_positive(a):\n",
        "  print('aの値は正です')\n",
        "else:\n",
        "  print('aの値は負またはゼロです')"
      ],
      "metadata": {
        "colab": {
          "base_uri": "https://localhost:8080/"
        },
        "id": "JJVrCrEa0Iyy",
        "outputId": "07b375a4-0c0c-4918-fc19-ece0f5ee7828"
      },
      "execution_count": 118,
      "outputs": [
        {
          "output_type": "stream",
          "name": "stdout",
          "text": [
            "aの値は負またはゼロです\n"
          ]
        }
      ]
    },
    {
      "cell_type": "code",
      "source": [
        "def get_two_numbers():\n",
        "  return(2,3)\n",
        "\n",
        "a,b = get_two_numbers()\n",
        "print(a,b)"
      ],
      "metadata": {
        "colab": {
          "base_uri": "https://localhost:8080/"
        },
        "id": "j3Xh4DTr0wVy",
        "outputId": "eeb252dd-c66d-47c6-9515-64c00f654c77"
      },
      "execution_count": 120,
      "outputs": [
        {
          "output_type": "stream",
          "name": "stdout",
          "text": [
            "2 3\n"
          ]
        }
      ]
    },
    {
      "cell_type": "markdown",
      "source": [
        "203ページまで"
      ],
      "metadata": {
        "id": "vBdYJCf91leT"
      }
    },
    {
      "cell_type": "code",
      "source": [],
      "metadata": {
        "id": "DEEj3AAG1IzZ"
      },
      "execution_count": null,
      "outputs": []
    }
  ]
}
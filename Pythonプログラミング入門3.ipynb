{
  "nbformat": 4,
  "nbformat_minor": 0,
  "metadata": {
    "colab": {
      "provenance": [],
      "authorship_tag": "ABX9TyMx+nTsT6TgyYCA2hWPeAix",
      "include_colab_link": true
    },
    "kernelspec": {
      "name": "python3",
      "display_name": "Python 3"
    },
    "language_info": {
      "name": "python"
    }
  },
  "cells": [
    {
      "cell_type": "markdown",
      "metadata": {
        "id": "view-in-github",
        "colab_type": "text"
      },
      "source": [
        "<a href=\"https://colab.research.google.com/github/itohmarina/syntax_training/blob/main/Python%E3%83%97%E3%83%AD%E3%82%B0%E3%83%A9%E3%83%9F%E3%83%B3%E3%82%B0%E5%85%A5%E9%96%803.ipynb\" target=\"_parent\"><img src=\"https://colab.research.google.com/assets/colab-badge.svg\" alt=\"Open In Colab\"/></a>"
      ]
    },
    {
      "cell_type": "code",
      "execution_count": 1,
      "metadata": {
        "colab": {
          "base_uri": "https://localhost:8080/"
        },
        "id": "137CCAN98Bfx",
        "outputId": "f53f9438-3cfd-4a20-9846-e3f30fe0d4f6"
      },
      "outputs": [
        {
          "output_type": "stream",
          "name": "stdout",
          "text": [
            "12\n",
            "1000\n"
          ]
        }
      ],
      "source": [
        "a = 12.9\n",
        "b = int(a)\n",
        "print(b)\n",
        "\n",
        "c = 1.0e3\n",
        "d = int(c)\n",
        "print(d)"
      ]
    },
    {
      "cell_type": "code",
      "source": [
        "e = '10'\n",
        "f = int(e)\n",
        "print(f)\n",
        "\n",
        "g = '12.3'\n",
        "h = float(g)\n",
        "print(h)\n",
        "\n",
        "i = 98.7\n",
        "j = str(i)\n",
        "print(j)\n",
        "print(type(j))"
      ],
      "metadata": {
        "colab": {
          "base_uri": "https://localhost:8080/"
        },
        "id": "DweaR8lp8mz9",
        "outputId": "4c322c9a-dfb1-45c0-bf23-3de438163110"
      },
      "execution_count": 2,
      "outputs": [
        {
          "output_type": "stream",
          "name": "stdout",
          "text": [
            "10\n",
            "12.3\n",
            "98.7\n",
            "<class 'str'>\n"
          ]
        }
      ]
    },
    {
      "cell_type": "code",
      "source": [
        "a = input('整数を入力してください：')\n",
        "b = int(a)\n",
        "c = b + 20\n",
        "print(c)"
      ],
      "metadata": {
        "colab": {
          "base_uri": "https://localhost:8080/"
        },
        "id": "3Ss2kbu69I1Y",
        "outputId": "e922cf99-2b40-4a4b-ccce-75cb3a5a0c6d"
      },
      "execution_count": 4,
      "outputs": [
        {
          "output_type": "stream",
          "name": "stdout",
          "text": [
            "整数を入力してください：10\n",
            "30\n"
          ]
        }
      ]
    },
    {
      "cell_type": "code",
      "source": [
        "a = int(input('a = '))\n",
        "b = int(input('b = '))\n",
        "c = int(input('c = '))\n",
        "d = (a + b * c) ** 2\n",
        "e = (a - b * c) ** 2\n",
        "print(d, e)"
      ],
      "metadata": {
        "colab": {
          "base_uri": "https://localhost:8080/"
        },
        "id": "F9aGqHSH9kxt",
        "outputId": "7a2eb9ac-db8e-4cd3-fce8-d7834eb3ed41"
      },
      "execution_count": 5,
      "outputs": [
        {
          "output_type": "stream",
          "name": "stdout",
          "text": [
            "a = 20\n",
            "b = 30\n",
            "c = 50\n",
            "2310400 2190400\n"
          ]
        }
      ]
    },
    {
      "cell_type": "code",
      "source": [
        "PI = 3.141592\n",
        "r = float(input('半径 = '))\n",
        "L = 2 * PI * r\n",
        "s = PI * r ** 2\n",
        "print(L, s)"
      ],
      "metadata": {
        "colab": {
          "base_uri": "https://localhost:8080/"
        },
        "id": "fhty2Z3--eHu",
        "outputId": "02abff4d-ab6f-4e2b-cf75-4e55ee5fe5e4"
      },
      "execution_count": 6,
      "outputs": [
        {
          "output_type": "stream",
          "name": "stdout",
          "text": [
            "半径 = 5\n",
            "31.41592 78.5398\n"
          ]
        }
      ]
    },
    {
      "cell_type": "code",
      "source": [
        "name = '林'\n",
        "age = 20\n",
        "print(f'同じクラスの{name}さんの年齢は{age}歳です。')"
      ],
      "metadata": {
        "colab": {
          "base_uri": "https://localhost:8080/"
        },
        "id": "cSh3vJYL_meZ",
        "outputId": "f72f00d0-dd80-45c5-b421-78b427d688f1"
      },
      "execution_count": 7,
      "outputs": [
        {
          "output_type": "stream",
          "name": "stdout",
          "text": [
            "同じクラスの林さんの年齢は20歳です。\n"
          ]
        }
      ]
    },
    {
      "cell_type": "code",
      "source": [
        "name = 'Hayashi'\n",
        "age = 20\n",
        "score = 80\n",
        "average = 75.245\n",
        "print(f'{name:10s}さんの年齢は{age:05d}です。\\n今日の数学の点数は{score:.1f}でした。\\n平均点は{average:.2f}です。')"
      ],
      "metadata": {
        "colab": {
          "base_uri": "https://localhost:8080/"
        },
        "id": "eFgKQ86RAB7n",
        "outputId": "191b2ba4-6420-4daa-c33f-1174b6e793be"
      },
      "execution_count": 8,
      "outputs": [
        {
          "output_type": "stream",
          "name": "stdout",
          "text": [
            "Hayashi   さんの年齢は00020です。\n",
            "今日の数学の点数は80.0でした。\n",
            "平均点は75.25です。\n"
          ]
        }
      ]
    },
    {
      "cell_type": "code",
      "source": [
        "PI = 3.141592\n",
        "r = float(input('半径 = '))\n",
        "L = 2 * PI * r\n",
        "s = PI * r ** 2\n",
        "print(f'円周の半径 = {L:.2f}, 円の面積 = {s:.2f}')"
      ],
      "metadata": {
        "colab": {
          "base_uri": "https://localhost:8080/"
        },
        "id": "ojmlOD9WBAPr",
        "outputId": "d006c1d8-d496-48a0-e103-8fbd0a06b5c3"
      },
      "execution_count": 9,
      "outputs": [
        {
          "output_type": "stream",
          "name": "stdout",
          "text": [
            "半径 = 5\n",
            "円周の半径 = 31.42, 円の面積 = 78.54\n"
          ]
        }
      ]
    },
    {
      "cell_type": "code",
      "source": [],
      "metadata": {
        "id": "M6hCsfJ7CeBn"
      },
      "execution_count": null,
      "outputs": []
    }
  ]
}
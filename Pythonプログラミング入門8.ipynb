{
  "nbformat": 4,
  "nbformat_minor": 0,
  "metadata": {
    "colab": {
      "provenance": [],
      "authorship_tag": "ABX9TyPfMu8ro1bssefpmlD1YrC8",
      "include_colab_link": true
    },
    "kernelspec": {
      "name": "python3",
      "display_name": "Python 3"
    },
    "language_info": {
      "name": "python"
    }
  },
  "cells": [
    {
      "cell_type": "markdown",
      "metadata": {
        "id": "view-in-github",
        "colab_type": "text"
      },
      "source": [
        "<a href=\"https://colab.research.google.com/github/itohmarina/syntax_training/blob/main/Python%E3%83%97%E3%83%AD%E3%82%B0%E3%83%A9%E3%83%9F%E3%83%B3%E3%82%B0%E5%85%A5%E9%96%808.ipynb\" target=\"_parent\"><img src=\"https://colab.research.google.com/assets/colab-badge.svg\" alt=\"Open In Colab\"/></a>"
      ]
    },
    {
      "cell_type": "code",
      "execution_count": 2,
      "metadata": {
        "colab": {
          "base_uri": "https://localhost:8080/"
        },
        "id": "vWzoiT8rkl2F",
        "outputId": "62897e28-e633-45b6-a372-992d46e6a1fc"
      },
      "outputs": [
        {
          "output_type": "stream",
          "name": "stdout",
          "text": [
            "Hi Python!\n"
          ]
        }
      ],
      "source": [
        "def hi():\n",
        "  print('Hi Python!')\n",
        "\n",
        "hi()\n"
      ]
    },
    {
      "cell_type": "code",
      "source": [
        "def square(x):\n",
        "  y = x ** 2\n",
        "  return y\n",
        "\n",
        "a = float(input('浮動小数点数を入力しなさい：'))\n",
        "b = square(a)\n",
        "print(f'a ** 2 = {b}')"
      ],
      "metadata": {
        "colab": {
          "base_uri": "https://localhost:8080/"
        },
        "id": "wkA9MD1xk4uM",
        "outputId": "c910374a-c99a-4ce4-bef1-20470b809025"
      },
      "execution_count": 4,
      "outputs": [
        {
          "output_type": "stream",
          "name": "stdout",
          "text": [
            "浮動小数点数を入力しなさい：5\n",
            "a ** 2 = 25.0\n"
          ]
        }
      ]
    },
    {
      "cell_type": "code",
      "source": [
        "def list_sum(x):\n",
        "  sum = 0\n",
        "  for i in x:\n",
        "    sum += i\n",
        "  return sum\n",
        "\n",
        "a = [1,23,4,56,7,89,123]\n",
        "b = list_sum(a)\n",
        "print(f'変数aに代入するリストの要素の和 = {b}')"
      ],
      "metadata": {
        "colab": {
          "base_uri": "https://localhost:8080/"
        },
        "id": "FncX3EBclHz8",
        "outputId": "50bfbebf-268f-460a-f664-9ff8aba56a3a"
      },
      "execution_count": 5,
      "outputs": [
        {
          "output_type": "stream",
          "name": "stdout",
          "text": [
            "変数aに代入するリストの要素の和 = 303\n"
          ]
        }
      ]
    },
    {
      "cell_type": "code",
      "source": [
        "def num(x, y):\n",
        "  z = y // x\n",
        "  return z\n",
        "\n",
        "a = num(30, 1000)\n",
        "print(f'みかんは{a}個買えます。')"
      ],
      "metadata": {
        "colab": {
          "base_uri": "https://localhost:8080/"
        },
        "id": "E8IuGZvOmF9q",
        "outputId": "b983c7a2-48e6-4221-b1a8-27a544804376"
      },
      "execution_count": 6,
      "outputs": [
        {
          "output_type": "stream",
          "name": "stdout",
          "text": [
            "みかんは33個買えます。\n"
          ]
        }
      ]
    },
    {
      "cell_type": "markdown",
      "source": [
        "//　は切り捨て除算"
      ],
      "metadata": {
        "id": "0_a_RNzMnZgv"
      }
    },
    {
      "cell_type": "code",
      "source": [
        "b = num(1000, 30)\n",
        "print(f'みかんは{b}個買えます。')"
      ],
      "metadata": {
        "colab": {
          "base_uri": "https://localhost:8080/"
        },
        "id": "W-dATMPhndID",
        "outputId": "ec47f282-9c6c-4244-b40b-a1e84a275fe6"
      },
      "execution_count": 7,
      "outputs": [
        {
          "output_type": "stream",
          "name": "stdout",
          "text": [
            "みかんは0個買えます。\n"
          ]
        }
      ]
    },
    {
      "cell_type": "code",
      "source": [
        "def func(a,b):\n",
        "  c = a + b\n",
        "  d = a - b\n",
        "  return c, d\n",
        "\n",
        "a = int (input('a: '))\n",
        "b = int (input('b: '))\n",
        "c, d = func(a, b)\n",
        "print(f' c = {c}, d = {d}')"
      ],
      "metadata": {
        "colab": {
          "base_uri": "https://localhost:8080/"
        },
        "id": "fWUSanu8p6XQ",
        "outputId": "9acbfb46-a81c-48da-882d-924671bd6463"
      },
      "execution_count": 8,
      "outputs": [
        {
          "output_type": "stream",
          "name": "stdout",
          "text": [
            "a: 6\n",
            "b: 3\n",
            " c = 9, d = 3\n"
          ]
        }
      ]
    },
    {
      "cell_type": "code",
      "source": [
        "def func1(x):\n",
        "  x[0] = 10\n",
        "  return x\n",
        "\n",
        "a = [1,2,3]\n",
        "b = func1(a)\n",
        "print(f'a = {a}')\n",
        "print(f'b = {b}')\n"
      ],
      "metadata": {
        "colab": {
          "base_uri": "https://localhost:8080/"
        },
        "id": "8ExvUkSDqiKp",
        "outputId": "ef7a29c7-58a0-474d-8c91-aaa2e115dcc8"
      },
      "execution_count": 9,
      "outputs": [
        {
          "output_type": "stream",
          "name": "stdout",
          "text": [
            "a = [10, 2, 3]\n",
            "b = [10, 2, 3]\n"
          ]
        }
      ]
    },
    {
      "cell_type": "markdown",
      "source": [
        "関数内で配列の要素変更すると、もとの配列の要素も変更される"
      ],
      "metadata": {
        "id": "t7TSIfLlrYjy"
      }
    },
    {
      "cell_type": "code",
      "source": [
        "def func2(x, y):\n",
        "  x = 20\n",
        "  y = 'sentence'\n",
        "  return x, y\n",
        "\n",
        "a = 10\n",
        "b = 'words'\n",
        "c, d = func2(a,b)\n",
        "print(f'a = {a}, b = {b}')\n",
        "print(f'c = {c}, d = {d}')"
      ],
      "metadata": {
        "colab": {
          "base_uri": "https://localhost:8080/"
        },
        "id": "M-vNStv_rM1N",
        "outputId": "aea64032-1efe-4a0c-fc6f-6b3c3980bf96"
      },
      "execution_count": 10,
      "outputs": [
        {
          "output_type": "stream",
          "name": "stdout",
          "text": [
            "a = 10, b = words\n",
            "c = 20, d = sentence\n"
          ]
        }
      ]
    },
    {
      "cell_type": "markdown",
      "source": [
        "数値や文字列は、関数内で変更されても、もとの変数内の値は変更されない"
      ],
      "metadata": {
        "id": "s0HoNgzPsZlJ"
      }
    },
    {
      "cell_type": "code",
      "source": [],
      "metadata": {
        "id": "HyUrxsxFsVRJ"
      },
      "execution_count": null,
      "outputs": []
    }
  ]
}
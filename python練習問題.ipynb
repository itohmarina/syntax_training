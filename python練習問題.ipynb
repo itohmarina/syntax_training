{
  "nbformat": 4,
  "nbformat_minor": 0,
  "metadata": {
    "colab": {
      "provenance": [],
      "authorship_tag": "ABX9TyPZtk85GIqdJT0kYvosYh2f",
      "include_colab_link": true
    },
    "kernelspec": {
      "name": "python3",
      "display_name": "Python 3"
    },
    "language_info": {
      "name": "python"
    }
  },
  "cells": [
    {
      "cell_type": "markdown",
      "metadata": {
        "id": "view-in-github",
        "colab_type": "text"
      },
      "source": [
        "<a href=\"https://colab.research.google.com/github/itohmarina/syntax_training/blob/main/python%E7%B7%B4%E7%BF%92%E5%95%8F%E9%A1%8C.ipynb\" target=\"_parent\"><img src=\"https://colab.research.google.com/assets/colab-badge.svg\" alt=\"Open In Colab\"/></a>"
      ]
    },
    {
      "cell_type": "markdown",
      "source": [
        "参考：https://joytas.net/programming/python/python%E6%BC%94%E7%BF%92%E5%95%8F%E9%A1%8C%E5%88%9D%E7%B4%9A"
      ],
      "metadata": {
        "id": "SyyoFXJo07Wy"
      }
    },
    {
      "cell_type": "code",
      "execution_count": 2,
      "metadata": {
        "colab": {
          "base_uri": "https://localhost:8080/"
        },
        "id": "URT0nS9U0yPf",
        "outputId": "d86a40f8-ec8d-416b-83d7-8d45c1f9e87d"
      },
      "outputs": [
        {
          "output_type": "stream",
          "name": "stdout",
          "text": [
            "サイコロを何回ふる？＞＞5\n",
            "[3, 3, 1, 1, 5]\n",
            "合計は 13 でした\n"
          ]
        }
      ],
      "source": [
        "import random\n",
        "num = int(input('サイコロを何回ふる？＞＞'))\n",
        "dices = [random.randint(1,6) for _ in range(num)]\n",
        "print(dices)\n",
        "print('合計は', sum(dices), 'でした')"
      ]
    },
    {
      "cell_type": "code",
      "source": [
        "import random\n",
        "num = int(input('サイコロを何回ふる? >> '))\n",
        "dices = [random.randint(1,6) for _ in range(num)]\n",
        "print(dices)\n",
        "print('出た目は', set(dices), 'の', len(set(dices)), '種類')"
      ],
      "metadata": {
        "colab": {
          "base_uri": "https://localhost:8080/"
        },
        "id": "hZYrD6F70zuE",
        "outputId": "d192f371-07cf-40e1-969e-0069e5f21d93"
      },
      "execution_count": 3,
      "outputs": [
        {
          "output_type": "stream",
          "name": "stdout",
          "text": [
            "サイコロを何回ふる? >> 5\n",
            "[3, 3, 1, 1, 5]\n",
            "出た目は {1, 3, 5} の 3 種類\n"
          ]
        }
      ]
    },
    {
      "cell_type": "code",
      "source": [
        "import random\n",
        "num = int(input('100~1000の範囲の偶数をいくつ生成する>>'))\n",
        "data = [random.randrange(100, 1000, 2) for _ in range(num)]\n",
        "data.sort(reverse=True)\n",
        "print(num, '個生成しました！降順に表示します', data)"
      ],
      "metadata": {
        "colab": {
          "base_uri": "https://localhost:8080/"
        },
        "id": "svZTFTFu3P4v",
        "outputId": "267ff47a-2dfe-4636-abab-bdf299a862bd"
      },
      "execution_count": 4,
      "outputs": [
        {
          "output_type": "stream",
          "name": "stdout",
          "text": [
            "100~1000の範囲の偶数をいくつ生成する>>5\n",
            "5 個生成しました！降順に表示します [834, 754, 514, 448, 412]\n"
          ]
        }
      ]
    },
    {
      "cell_type": "code",
      "source": [
        "import random\n",
        "while True:\n",
        "  user = int(input('手を入力[0:グー, 1:チョキ, 2:パー]>>'))\n",
        "  pc = random.randint(0, 2)\n",
        "  hands = ['グー', 'チョキ', 'パー']\n",
        "  print(f'あなたは{hands[user]}, PCは{hands[pc]}')\n",
        "  if user==pc:\n",
        "    print('あいこ')\n",
        "    continue\n",
        "  elif (user+3-pc)%3==1:\n",
        "    print('あなたの負け')\n",
        "  else:\n",
        "    print('あなたの勝ち')\n",
        "  break\n"
      ],
      "metadata": {
        "colab": {
          "base_uri": "https://localhost:8080/"
        },
        "id": "eXUMHyRB5TID",
        "outputId": "246558e7-b611-438d-c35d-2a463a270474"
      },
      "execution_count": 5,
      "outputs": [
        {
          "output_type": "stream",
          "name": "stdout",
          "text": [
            "手を入力[0:グー, 1:チョキ, 2:パー]>>2\n",
            "あなたはパー, PCはグー\n",
            "あなたの勝ち\n"
          ]
        }
      ]
    },
    {
      "cell_type": "code",
      "source": [
        "import random\n",
        "game_count=5\n",
        "balls = list(range(1,100))\n",
        "random.shuffle(balls)\n",
        "awin=bwin=0\n",
        "for i in range(game_count):\n",
        "  print(f'{i+1}回戦')\n",
        "  a,b = balls.pop(), balls.pop()\n",
        "  if a>b:awin+=1;winner='A'\n",
        "  else:bwin+=1;  winner='B'\n",
        "  print(f'A:{a},B:{b}...{winner}の勝ち')\n",
        "print('{}対{}で{}の勝ち'.format(max(awin,bwin),min(awin,bwin),'A' if awin > bwin else 'B'))"
      ],
      "metadata": {
        "id": "DjJZCljA8FMZ",
        "colab": {
          "base_uri": "https://localhost:8080/"
        },
        "outputId": "a58d50cf-e657-40f4-f675-72e8b5c78fe8"
      },
      "execution_count": 6,
      "outputs": [
        {
          "output_type": "stream",
          "name": "stdout",
          "text": [
            "1回戦\n",
            "A:79,B:89...Bの勝ち\n",
            "2回戦\n",
            "A:56,B:27...Aの勝ち\n",
            "3回戦\n",
            "A:3,B:61...Bの勝ち\n",
            "4回戦\n",
            "A:47,B:14...Aの勝ち\n",
            "5回戦\n",
            "A:85,B:4...Aの勝ち\n",
            "3対2でAの勝ち\n"
          ]
        }
      ]
    },
    {
      "cell_type": "markdown",
      "source": [
        "リスト.pop(要素のindex)で、リストから要素を取り出すことができる"
      ],
      "metadata": {
        "id": "cOF-DIoISOIa"
      }
    },
    {
      "cell_type": "markdown",
      "source": [
        "'文字列{}{}{}'.format(変数, 変数, 変数)"
      ],
      "metadata": {
        "id": "owZqJVPGT7GD"
      }
    },
    {
      "cell_type": "markdown",
      "source": [
        "'A' if awin>bwin else 'B' で、ifがtrueなら'A'、falseなら'B'になる"
      ],
      "metadata": {
        "id": "Rl2k_tEOUPPc"
      }
    },
    {
      "cell_type": "markdown",
      "source": [
        "参考: https://norari-kurari-way.com/python-lesson-plus1/"
      ],
      "metadata": {
        "id": "ao4Sk7GBb5nO"
      }
    },
    {
      "cell_type": "code",
      "source": [
        "l=['apple', 'banana', 'nut', 'mangosteen']\n",
        "sorted_l = sorted(l, key=len)\n",
        "print(sorted_l)"
      ],
      "metadata": {
        "colab": {
          "base_uri": "https://localhost:8080/"
        },
        "id": "RN028ZZsb-eq",
        "outputId": "5a370130-1356-446a-e187-019d251bd271"
      },
      "execution_count": 7,
      "outputs": [
        {
          "output_type": "stream",
          "name": "stdout",
          "text": [
            "['nut', 'apple', 'banana', 'mangosteen']\n"
          ]
        }
      ]
    },
    {
      "cell_type": "code",
      "source": [
        "str = input('文字を入力してください。＞')\n",
        "print(f'{str}の文字数は{len(str)}文字です')"
      ],
      "metadata": {
        "colab": {
          "base_uri": "https://localhost:8080/"
        },
        "id": "loNNHaDBcr4Y",
        "outputId": "1b409ae3-babe-4188-898a-abd2dad85d67"
      },
      "execution_count": 9,
      "outputs": [
        {
          "output_type": "stream",
          "name": "stdout",
          "text": [
            "文字を入力してください。＞tokyo\n",
            "tokyoの文字数は5文字です\n"
          ]
        }
      ]
    },
    {
      "cell_type": "code",
      "source": [
        "l=[100, \"220\", \"3\", 40, 444, True]\n",
        "a=[]\n",
        "\n",
        "for i in l:\n",
        "  if type(i) == int:\n",
        "    a.append(i)\n",
        "\n",
        "print(a)"
      ],
      "metadata": {
        "colab": {
          "base_uri": "https://localhost:8080/"
        },
        "id": "pPYvwxLYeEOc",
        "outputId": "f889fb3a-f79b-4309-d12b-d3544261edc7"
      },
      "execution_count": 11,
      "outputs": [
        {
          "output_type": "stream",
          "name": "stdout",
          "text": [
            "[100, 40, 444]\n"
          ]
        }
      ]
    },
    {
      "cell_type": "markdown",
      "source": [
        "もし数字なら、リストaにappendする"
      ],
      "metadata": {
        "id": "HmxHwHsyfYax"
      }
    },
    {
      "cell_type": "code",
      "source": [
        "t=(1,2,3,3,4,4,5,5,6,6)\n",
        "r=sorted(t, reverse=True)\n",
        "print(r)"
      ],
      "metadata": {
        "colab": {
          "base_uri": "https://localhost:8080/"
        },
        "id": "y0uvVuZDfft_",
        "outputId": "db4ddaf5-b535-48be-b009-79964bb8911e"
      },
      "execution_count": 12,
      "outputs": [
        {
          "output_type": "stream",
          "name": "stdout",
          "text": [
            "[6, 6, 5, 5, 4, 4, 3, 3, 2, 1]\n"
          ]
        }
      ]
    },
    {
      "cell_type": "code",
      "source": [
        "t = tuple(i for i in range(1,10) if i%3==0)\n",
        "\n",
        "print(t)"
      ],
      "metadata": {
        "colab": {
          "base_uri": "https://localhost:8080/"
        },
        "id": "eMVaYFUdg0Zd",
        "outputId": "4f693b51-a3e0-4de3-a972-057088bc91a4"
      },
      "execution_count": 14,
      "outputs": [
        {
          "output_type": "stream",
          "name": "stdout",
          "text": [
            "(3, 6, 9)\n"
          ]
        }
      ]
    },
    {
      "cell_type": "markdown",
      "source": [
        "タプルは、要素を追加・削除・変更できない。tuple(list)でリストなどの要素をもつタプルを生成。list(tuple)でタプルなどの要素をもつリストを生成。\n"
      ],
      "metadata": {
        "id": "sLwQi-OImssN"
      }
    },
    {
      "cell_type": "code",
      "source": [
        "num = int(input('指定の数字500を入力してください >'))\n",
        "if num==500:\n",
        "  print('正しく500が入力されています。')\n",
        "else:\n",
        "  print('500を入力して下さい。')"
      ],
      "metadata": {
        "colab": {
          "base_uri": "https://localhost:8080/"
        },
        "id": "FccCJMtNpmIK",
        "outputId": "15cf0a23-f629-415b-d8a2-8cc1ff3d5c89"
      },
      "execution_count": 16,
      "outputs": [
        {
          "output_type": "stream",
          "name": "stdout",
          "text": [
            "指定の数字500を入力してください >500\n",
            "正しく500が入力されています。\n"
          ]
        }
      ]
    },
    {
      "cell_type": "code",
      "source": [
        "r = int(input('二乗したい数字を入力 >'))\n",
        "\n",
        "def square(num = r):\n",
        "  return num**2\n",
        "\n",
        "square()"
      ],
      "metadata": {
        "colab": {
          "base_uri": "https://localhost:8080/"
        },
        "id": "4PTlYSSNr7lM",
        "outputId": "5bc11ccf-1b6a-4306-8bba-2f94ce8519dc"
      },
      "execution_count": 21,
      "outputs": [
        {
          "name": "stdout",
          "output_type": "stream",
          "text": [
            "二乗したい数字を入力 >8\n"
          ]
        },
        {
          "output_type": "execute_result",
          "data": {
            "text/plain": [
              "64"
            ]
          },
          "metadata": {},
          "execution_count": 21
        }
      ]
    },
    {
      "cell_type": "code",
      "source": [
        "name = input('あなたの名前は？')\n",
        "print(f'hello {name}')"
      ],
      "metadata": {
        "colab": {
          "base_uri": "https://localhost:8080/"
        },
        "id": "wDsWDbsZtZlO",
        "outputId": "bd10595e-ccb7-4490-f065-b8e04985637e"
      },
      "execution_count": 22,
      "outputs": [
        {
          "output_type": "stream",
          "name": "stdout",
          "text": [
            "あなたの名前は？tanaka\n",
            "hello tanaka\n"
          ]
        }
      ]
    },
    {
      "cell_type": "code",
      "source": [
        "import re\n",
        "pattern = \"(^[a-zA-Z0-9_.+-]+@[a-zA-Z0-9-]+\\.[a-zA-Z0-9-.]+$)\"\n",
        "\n",
        "r = input(\"メールアドレスを入力して下さい。>\")\n",
        "def mail_check(mail=r):\n",
        "  if re.match(pattern, mail):\n",
        "    print('メールアドレスの入力が完了しました。')\n",
        "  else:\n",
        "    print('メールアドレスが正しく入力されていません。')\n",
        "\n",
        "mail_check()"
      ],
      "metadata": {
        "colab": {
          "base_uri": "https://localhost:8080/"
        },
        "id": "G0BznxkYt6Fv",
        "outputId": "4c37d0cb-ce4a-402b-8325-8fc4bb30cd98"
      },
      "execution_count": 28,
      "outputs": [
        {
          "output_type": "stream",
          "name": "stdout",
          "text": [
            "メールアドレスを入力して下さい。>eee@dd\n",
            "メールアドレスが正しく入力されていません。\n"
          ]
        }
      ]
    },
    {
      "cell_type": "markdown",
      "source": [
        "^は直後の文字が先頭かどうか、\n",
        "[]は中にある文字のどれか、\n",
        "[]後の+は直前の文字の1回以上の繰り返し、\n",
        "$は行末で表す、\n",
        "\\.は.という文字を表す"
      ],
      "metadata": {
        "id": "RBIgWBS_v_4M"
      }
    },
    {
      "cell_type": "markdown",
      "source": [
        "reモジュールで正規表現の処理をする。re.match(パターンの文字列, 処理する文字列)"
      ],
      "metadata": {
        "id": "CyIeRgiSy9hV"
      }
    }
  ]
}
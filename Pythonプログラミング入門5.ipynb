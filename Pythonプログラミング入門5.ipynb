{
  "nbformat": 4,
  "nbformat_minor": 0,
  "metadata": {
    "colab": {
      "provenance": [],
      "authorship_tag": "ABX9TyNNEZ6E2yXbaKDfkYD/s+JA",
      "include_colab_link": true
    },
    "kernelspec": {
      "name": "python3",
      "display_name": "Python 3"
    },
    "language_info": {
      "name": "python"
    }
  },
  "cells": [
    {
      "cell_type": "markdown",
      "metadata": {
        "id": "view-in-github",
        "colab_type": "text"
      },
      "source": [
        "<a href=\"https://colab.research.google.com/github/itohmarina/syntax_training/blob/main/Python%E3%83%97%E3%83%AD%E3%82%B0%E3%83%A9%E3%83%9F%E3%83%B3%E3%82%B0%E5%85%A5%E9%96%805.ipynb\" target=\"_parent\"><img src=\"https://colab.research.google.com/assets/colab-badge.svg\" alt=\"Open In Colab\"/></a>"
      ]
    },
    {
      "cell_type": "code",
      "execution_count": 2,
      "metadata": {
        "colab": {
          "base_uri": "https://localhost:8080/"
        },
        "id": "tCnP7Ct9PRHM",
        "outputId": "b97e4580-bbd4-4961-9ab6-b36fdce78b75"
      },
      "outputs": [
        {
          "output_type": "stream",
          "name": "stdout",
          "text": [
            "True\n",
            "False\n"
          ]
        }
      ],
      "source": [
        "a1 = [10,20,30,40,50,60,70,80,90,100]\n",
        "a = 80 in a1\n",
        "print(a)\n",
        "\n",
        "a2 = ['日', '月', '火']\n",
        "b = '木' in a2\n",
        "print(b)"
      ]
    },
    {
      "cell_type": "markdown",
      "source": [
        "配列　in 配列　で　配列に要素が含まれているかを判定"
      ],
      "metadata": {
        "id": "ENWehV9QU_QI"
      }
    },
    {
      "cell_type": "code",
      "source": [
        "a = ['日','月','火','水','日','月','火','火','水']\n",
        "b = a.count('火')\n",
        "print(b)"
      ],
      "metadata": {
        "colab": {
          "base_uri": "https://localhost:8080/"
        },
        "id": "gqp8N5M0U8dd",
        "outputId": "3f0f763d-83ed-44f6-8aad-ebe57e726f51"
      },
      "execution_count": 3,
      "outputs": [
        {
          "output_type": "stream",
          "name": "stdout",
          "text": [
            "3\n"
          ]
        }
      ]
    },
    {
      "cell_type": "code",
      "source": [
        "a = range(10)\n",
        "print(a)\n",
        "print(type(a))"
      ],
      "metadata": {
        "colab": {
          "base_uri": "https://localhost:8080/"
        },
        "id": "CyNYBNfpU1Z7",
        "outputId": "8709adb1-8d65-412d-f948-dc3257061e7b"
      },
      "execution_count": 4,
      "outputs": [
        {
          "output_type": "stream",
          "name": "stdout",
          "text": [
            "range(0, 10)\n",
            "<class 'range'>\n"
          ]
        }
      ]
    },
    {
      "cell_type": "code",
      "source": [
        "b = list(range(0,10))\n",
        "print(b)\n",
        "print(type(b))"
      ],
      "metadata": {
        "colab": {
          "base_uri": "https://localhost:8080/"
        },
        "id": "CUuAxXuiWO87",
        "outputId": "8686dacf-c2ea-46ec-89f0-766f5b3e90d0"
      },
      "execution_count": 5,
      "outputs": [
        {
          "output_type": "stream",
          "name": "stdout",
          "text": [
            "[0, 1, 2, 3, 4, 5, 6, 7, 8, 9]\n",
            "<class 'list'>\n"
          ]
        }
      ]
    },
    {
      "cell_type": "markdown",
      "source": [
        "range型とlist型"
      ],
      "metadata": {
        "id": "RskgDei_Wmri"
      }
    },
    {
      "cell_type": "code",
      "source": [
        "a = int(input('年齢は？:'))\n",
        "if a == 15:\n",
        "  print('15歳です。')\n",
        "else:\n",
        "  print('15歳ではありません。')"
      ],
      "metadata": {
        "colab": {
          "base_uri": "https://localhost:8080/"
        },
        "id": "kPRmZai0Wbsf",
        "outputId": "93aa9ce5-3d4a-4d3e-daba-fc262b783fa6"
      },
      "execution_count": 8,
      "outputs": [
        {
          "output_type": "stream",
          "name": "stdout",
          "text": [
            "年齢は？:15\n",
            "15歳です。\n"
          ]
        }
      ]
    },
    {
      "cell_type": "code",
      "source": [
        "age = 15\n",
        "a = int(input('彼の年齢は？:'))\n",
        "if a == age:\n",
        "  print('彼は同い年です。')\n",
        "elif a > age:\n",
        "  print('彼は年上です。')\n",
        "else:\n",
        "  print('彼は年下です。')"
      ],
      "metadata": {
        "colab": {
          "base_uri": "https://localhost:8080/"
        },
        "id": "3IAVopAbcRl0",
        "outputId": "85615da5-bfcb-43a6-ff8a-323eb6151960"
      },
      "execution_count": 10,
      "outputs": [
        {
          "output_type": "stream",
          "name": "stdout",
          "text": [
            "彼の年齢は？:12\n",
            "彼は年下です。\n"
          ]
        }
      ]
    },
    {
      "cell_type": "code",
      "source": [],
      "metadata": {
        "id": "tfhGvl2qdEDQ"
      },
      "execution_count": null,
      "outputs": []
    }
  ]
}
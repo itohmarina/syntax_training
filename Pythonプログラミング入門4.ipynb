{
  "nbformat": 4,
  "nbformat_minor": 0,
  "metadata": {
    "colab": {
      "provenance": [],
      "authorship_tag": "ABX9TyNG8uxc0pLmAku3N7htKq5n",
      "include_colab_link": true
    },
    "kernelspec": {
      "name": "python3",
      "display_name": "Python 3"
    },
    "language_info": {
      "name": "python"
    }
  },
  "cells": [
    {
      "cell_type": "markdown",
      "metadata": {
        "id": "view-in-github",
        "colab_type": "text"
      },
      "source": [
        "<a href=\"https://colab.research.google.com/github/itohmarina/syntax_training/blob/main/Python%E3%83%97%E3%83%AD%E3%82%B0%E3%83%A9%E3%83%9F%E3%83%B3%E3%82%B0%E5%85%A5%E9%96%804.ipynb\" target=\"_parent\"><img src=\"https://colab.research.google.com/assets/colab-badge.svg\" alt=\"Open In Colab\"/></a>"
      ]
    },
    {
      "cell_type": "code",
      "execution_count": 1,
      "metadata": {
        "colab": {
          "base_uri": "https://localhost:8080/"
        },
        "id": "Yvcfvhz-SXLm",
        "outputId": "d23312b5-f12b-4df8-8149-860b6649e2b4"
      },
      "outputs": [
        {
          "output_type": "stream",
          "name": "stdout",
          "text": [
            "[10, 20, 30, 40, 50]\n",
            "['日', '月', '火', '水', '木', '金', '土']\n",
            "[]\n",
            "<class 'list'>\n"
          ]
        }
      ],
      "source": [
        "a1 = [10, 20, 30, 40, 50]\n",
        "a2 = ['日', '月', '火', '水', '木', '金', '土']\n",
        "a3 = []\n",
        "print(a1)\n",
        "print(a2)\n",
        "print(a3)\n",
        "print(type(a1))"
      ]
    },
    {
      "cell_type": "code",
      "source": [
        "a = [10, 20, 30, 40, 50]\n",
        "b = a[0] + a[3]\n",
        "c = a[0] + a[1] + a[2] + a[3] + a[4]\n",
        "print(f'a[0] = {a[0]} ')\n",
        "print(f'a[3] = {a[3]} ')\n",
        "print(f'a[0] + a[3] = {b}')\n",
        "print(f'a[0] + a[1] + a[2] + a[3] + a[4] = {c}')\n"
      ],
      "metadata": {
        "colab": {
          "base_uri": "https://localhost:8080/"
        },
        "id": "ENtn6m5XTTbU",
        "outputId": "73653701-974b-45bd-eb61-384c8f4b5c14"
      },
      "execution_count": 3,
      "outputs": [
        {
          "output_type": "stream",
          "name": "stdout",
          "text": [
            "a[0] = 10 \n",
            "a[3] = 40 \n",
            "a[0] + a[3] = 50\n",
            "a[0] + a[1] + a[2] + a[3] + a[4] = 150\n"
          ]
        }
      ]
    },
    {
      "cell_type": "code",
      "source": [
        "a = [10, 20, 30, 40, 50]\n",
        "print(f'a[-1] = {a[-1]}')\n",
        "print(f'a[-5] = {a[-5]}')\n"
      ],
      "metadata": {
        "colab": {
          "base_uri": "https://localhost:8080/"
        },
        "id": "Q_J-ut35UdrV",
        "outputId": "f4beae14-305b-4c9a-9463-504ca86ee5b8"
      },
      "execution_count": 4,
      "outputs": [
        {
          "output_type": "stream",
          "name": "stdout",
          "text": [
            "a[-1] = 50\n",
            "a[-5] = 10\n"
          ]
        }
      ]
    },
    {
      "cell_type": "code",
      "source": [
        "a = [0, 1, 2, 3, 4]\n",
        "a[3], a[1] = a[1], a[3]\n",
        "print(a)\n"
      ],
      "metadata": {
        "colab": {
          "base_uri": "https://localhost:8080/"
        },
        "id": "hiNYX2zgVObP",
        "outputId": "d4f910f1-6438-47f4-b24a-d5d900245fcc"
      },
      "execution_count": 6,
      "outputs": [
        {
          "output_type": "stream",
          "name": "stdout",
          "text": [
            "[0, 3, 2, 1, 4]\n"
          ]
        }
      ]
    },
    {
      "cell_type": "code",
      "source": [
        "a = [0, 1, 2, 3, 4]\n",
        "a[1], a[2], a[3], a[4], a[0] = a[0], a[1], a[2], a[3], a[4]\n",
        "print(a)"
      ],
      "metadata": {
        "colab": {
          "base_uri": "https://localhost:8080/"
        },
        "id": "qMtkuBHEVdQm",
        "outputId": "6cab977f-fc4b-487d-bd2d-3bf6244c67c4"
      },
      "execution_count": 7,
      "outputs": [
        {
          "output_type": "stream",
          "name": "stdout",
          "text": [
            "[4, 0, 1, 2, 3]\n"
          ]
        }
      ]
    },
    {
      "cell_type": "code",
      "source": [
        "a = [\n",
        "  [1, 2, 3, 4],\n",
        "  [5, 6, 7, 8],\n",
        "  [9, 10, 11, 12]\n",
        "]\n",
        "print(f'a = {a}')\n",
        "print(f'a[0] = {a[0]}')\n",
        "print(f'a[2] = {a[2]}')\n",
        "print(f'a[0][0] = {a[0][0]}')\n",
        "print(f'a[1][3] = {a[1][3]}')\n",
        "b = a[0][1] + a[1][2] + a[2][3]\n",
        "print(f'a[0][1] + a[1][2] + a[2][3] = {b}')"
      ],
      "metadata": {
        "colab": {
          "base_uri": "https://localhost:8080/"
        },
        "id": "ICcMUmJjWTaY",
        "outputId": "9c48c7e3-2bfb-4a0f-acc8-8e2c7ad572b7"
      },
      "execution_count": 10,
      "outputs": [
        {
          "output_type": "stream",
          "name": "stdout",
          "text": [
            "a = [[1, 2, 3, 4], [5, 6, 7, 8], [9, 10, 11, 12]]\n",
            "a[0] = [1, 2, 3, 4]\n",
            "a[2] = [9, 10, 11, 12]\n",
            "a[0][0] = 1\n",
            "a[1][3] = 8\n",
            "a[0][1] + a[1][2] + a[2][3] = 21\n"
          ]
        }
      ]
    },
    {
      "cell_type": "code",
      "source": [
        "a = ['国語', '算数', '理科', '社会']\n",
        "a[1] = '数学'\n",
        "print(f'a = {a}')"
      ],
      "metadata": {
        "colab": {
          "base_uri": "https://localhost:8080/"
        },
        "id": "PvpvSJ1EXx6y",
        "outputId": "4fd9e00e-f765-4ae3-c0cb-915c3dca19a3"
      },
      "execution_count": 11,
      "outputs": [
        {
          "output_type": "stream",
          "name": "stdout",
          "text": [
            "a = ['国語', '数学', '理科', '社会']\n"
          ]
        }
      ]
    },
    {
      "cell_type": "code",
      "source": [
        "a = ['赤', '青', '緑']\n",
        "a.append('黄')\n",
        "print(f'a = {a}')"
      ],
      "metadata": {
        "colab": {
          "base_uri": "https://localhost:8080/"
        },
        "id": "iSJgBlSGZp4I",
        "outputId": "df1e6301-75a7-4bd9-8782-bb3a4013771f"
      },
      "execution_count": 12,
      "outputs": [
        {
          "output_type": "stream",
          "name": "stdout",
          "text": [
            "a = ['赤', '青', '緑', '黄']\n"
          ]
        }
      ]
    },
    {
      "cell_type": "code",
      "source": [
        "a = [1,2,3,4,5]\n",
        "a.remove(3)\n",
        "print(f'a = {a}')"
      ],
      "metadata": {
        "colab": {
          "base_uri": "https://localhost:8080/"
        },
        "id": "TlIRQTeEbsd-",
        "outputId": "6bc1391a-f0ae-488a-ab29-d4cbd514e171"
      },
      "execution_count": 14,
      "outputs": [
        {
          "output_type": "stream",
          "name": "stdout",
          "text": [
            "a = [1, 2, 4, 5]\n"
          ]
        }
      ]
    },
    {
      "cell_type": "code",
      "source": [
        "a = ['日', '月', '火', '水', '木', '金', '土']\n",
        "print(len(a))"
      ],
      "metadata": {
        "colab": {
          "base_uri": "https://localhost:8080/"
        },
        "id": "Ln2xBCPMcepp",
        "outputId": "9c10f92d-c7dd-4834-bf73-c0d9f678ae56"
      },
      "execution_count": 15,
      "outputs": [
        {
          "output_type": "stream",
          "name": "stdout",
          "text": [
            "7\n"
          ]
        }
      ]
    },
    {
      "cell_type": "code",
      "source": [],
      "metadata": {
        "id": "QPPlH1oFc7OB"
      },
      "execution_count": null,
      "outputs": []
    }
  ]
}
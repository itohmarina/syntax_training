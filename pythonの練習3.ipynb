{
  "nbformat": 4,
  "nbformat_minor": 0,
  "metadata": {
    "colab": {
      "provenance": [],
      "authorship_tag": "ABX9TyMN+91wVUJIip08/oExULYT",
      "include_colab_link": true
    },
    "kernelspec": {
      "name": "python3",
      "display_name": "Python 3"
    },
    "language_info": {
      "name": "python"
    }
  },
  "cells": [
    {
      "cell_type": "markdown",
      "metadata": {
        "id": "view-in-github",
        "colab_type": "text"
      },
      "source": [
        "<a href=\"https://colab.research.google.com/github/itohmarina/syntax_training/blob/main/python%E3%81%AE%E7%B7%B4%E7%BF%923.ipynb\" target=\"_parent\"><img src=\"https://colab.research.google.com/assets/colab-badge.svg\" alt=\"Open In Colab\"/></a>"
      ]
    },
    {
      "cell_type": "markdown",
      "source": [
        "pythonの練習。参考：https://mitani.cs.tsukuba.ac.jp/book_support/python/\n",
        "204ページから"
      ],
      "metadata": {
        "id": "3kKsJarV572u"
      }
    },
    {
      "cell_type": "code",
      "execution_count": 2,
      "metadata": {
        "colab": {
          "base_uri": "https://localhost:8080/"
        },
        "id": "DtXzH91a5ywp",
        "outputId": "f14661cc-fb1c-4761-b685-1583be863c6e"
      },
      "outputs": [
        {
          "output_type": "stream",
          "name": "stdout",
          "text": [
            "価格は税抜き800円\n",
            "価格は税込み880円\n"
          ]
        }
      ],
      "source": [
        "def print_price(price, func):\n",
        "  print('価格は' + func(price))\n",
        "\n",
        "def price_without_tax(price):\n",
        "  return f'税抜き{price}円'\n",
        "\n",
        "def price_with_tax(price):\n",
        "  return f'税込み{int(price*1.1)}円'\n",
        "\n",
        "print_price(800, price_without_tax)\n",
        "print_price(800, price_with_tax)"
      ]
    },
    {
      "cell_type": "markdown",
      "source": [
        "高階関数：関数を引数で受け取る関数"
      ],
      "metadata": {
        "id": "iLmu8Kll7Lh1"
      }
    },
    {
      "cell_type": "markdown",
      "source": [
        "f文字列：　f'{}'で変数を文字列に変換する"
      ],
      "metadata": {
        "id": "qHvMibMM8TIv"
      }
    },
    {
      "cell_type": "code",
      "source": [
        "def price_without_tax(price):\n",
        "  return f'税抜き{price}円'"
      ],
      "metadata": {
        "id": "yEiqnVFe689Z"
      },
      "execution_count": 3,
      "outputs": []
    },
    {
      "cell_type": "code",
      "source": [
        "lambda price: f'税抜き{price}円'"
      ],
      "metadata": {
        "id": "freskbsv7kAd"
      },
      "execution_count": null,
      "outputs": []
    },
    {
      "cell_type": "markdown",
      "source": [
        "ラムダ式\n",
        "lambda 引数列:　戻り値"
      ],
      "metadata": {
        "id": "aaBN7fKB8dfT"
      }
    },
    {
      "cell_type": "code",
      "source": [
        "def print_price(price, func):\n",
        "  print('価格は' + func(price))\n",
        "\n",
        "print_price(800, lambda price: f'税抜き{price}円')\n",
        "print_price(800, lambda price: f'税込み{int(price*1.1)}円')"
      ],
      "metadata": {
        "colab": {
          "base_uri": "https://localhost:8080/"
        },
        "id": "5F5xWjzV8Y8l",
        "outputId": "b5730526-3a58-491e-cb2b-a95629297dc0"
      },
      "execution_count": 4,
      "outputs": [
        {
          "output_type": "stream",
          "name": "stdout",
          "text": [
            "価格は税抜き800円\n",
            "価格は税込み880円\n"
          ]
        }
      ]
    },
    {
      "cell_type": "code",
      "source": [
        "def print_hello(count):\n",
        "  for i in range(0, count):\n",
        "    print('Hello')\n",
        "\n",
        "print_hello(3)"
      ],
      "metadata": {
        "colab": {
          "base_uri": "https://localhost:8080/"
        },
        "id": "R02f2oa_-U7E",
        "outputId": "4f4afec9-7d10-4fb1-f486-0f3eb3862574"
      },
      "execution_count": 7,
      "outputs": [
        {
          "output_type": "stream",
          "name": "stdout",
          "text": [
            "Hello\n",
            "Hello\n",
            "Hello\n"
          ]
        }
      ]
    },
    {
      "cell_type": "code",
      "source": [
        "def get_rectangle_area(width, height):\n",
        "  return width*height\n",
        "\n",
        "get_rectangle_area(3,4)"
      ],
      "metadata": {
        "colab": {
          "base_uri": "https://localhost:8080/"
        },
        "id": "crF8ypaO-rQs",
        "outputId": "8d0c617d-dda3-4487-f770-ffe442d15c4f"
      },
      "execution_count": 9,
      "outputs": [
        {
          "output_type": "execute_result",
          "data": {
            "text/plain": [
              "12"
            ]
          },
          "metadata": {},
          "execution_count": 9
        }
      ]
    },
    {
      "cell_type": "code",
      "source": [
        "def get_message(name='名無し'):\n",
        "  print(f'こんにちは{name}さん')\n",
        "\n",
        "get_message('山本')"
      ],
      "metadata": {
        "colab": {
          "base_uri": "https://localhost:8080/"
        },
        "id": "Rzm6hu0N_LsD",
        "outputId": "f4ea3612-e09c-4fff-d611-1b22f7863697"
      },
      "execution_count": 13,
      "outputs": [
        {
          "output_type": "stream",
          "name": "stdout",
          "text": [
            "こんにちは山本さん\n"
          ]
        }
      ]
    },
    {
      "cell_type": "code",
      "source": [
        "def get_absolute_value(value):\n",
        "  if value < 0:\n",
        "    return -value\n",
        "  return value\n",
        "\n",
        "print(get_absolute_value(5.2))\n",
        "print(get_absolute_value(-3.3))"
      ],
      "metadata": {
        "colab": {
          "base_uri": "https://localhost:8080/"
        },
        "id": "8gg99CUz_lE8",
        "outputId": "ea508e75-582f-4efa-dd53-0497dabab5d7"
      },
      "execution_count": 14,
      "outputs": [
        {
          "output_type": "stream",
          "name": "stdout",
          "text": [
            "5.2\n",
            "3.3\n"
          ]
        }
      ]
    },
    {
      "cell_type": "code",
      "source": [
        "def get_tail(*args):\n",
        "  return args[-1]\n",
        "\n",
        "get_tail(3,5,8,2)"
      ],
      "metadata": {
        "colab": {
          "base_uri": "https://localhost:8080/"
        },
        "id": "Ae7fXKQ2AW1X",
        "outputId": "4231aa40-e468-43bc-8fa8-824923c43034"
      },
      "execution_count": 16,
      "outputs": [
        {
          "output_type": "execute_result",
          "data": {
            "text/plain": [
              "2"
            ]
          },
          "metadata": {},
          "execution_count": 16
        }
      ]
    },
    {
      "cell_type": "markdown",
      "source": [
        "クラスとは、オブジェクトの種類のこと"
      ],
      "metadata": {
        "id": "YMB7deG3A24D"
      }
    },
    {
      "cell_type": "code",
      "source": [
        "class StudentCard:\n",
        "  pass\n",
        "\n",
        "a = StudentCard()"
      ],
      "metadata": {
        "id": "juW5H589AsDx"
      },
      "execution_count": 17,
      "outputs": []
    },
    {
      "cell_type": "markdown",
      "source": [
        "passは何もしない命令"
      ],
      "metadata": {
        "id": "2jSHxunBBLXO"
      }
    },
    {
      "cell_type": "markdown",
      "source": [
        "クラスを定義すると、クラスのインスタンスを生成して変数に代入することができる"
      ],
      "metadata": {
        "id": "cqpu6RotBOJ1"
      }
    },
    {
      "cell_type": "code",
      "source": [
        "class StudentCard:\n",
        "  def __init__(self):\n",
        "    print('初期化メソッド内の処理です')\n",
        "    self.id = 0\n",
        "    self.name = '未定'\n",
        "\n",
        "a = StudentCard()\n",
        "b = StudentCard()"
      ],
      "metadata": {
        "colab": {
          "base_uri": "https://localhost:8080/"
        },
        "id": "DxUD7mvgBJvf",
        "outputId": "a01fa86e-96d7-41f9-8b7f-32809f231c53"
      },
      "execution_count": 19,
      "outputs": [
        {
          "output_type": "stream",
          "name": "stdout",
          "text": [
            "初期化メソッド内の処理です\n",
            "初期化メソッド内の処理です\n"
          ]
        }
      ]
    },
    {
      "cell_type": "code",
      "source": [
        "a.id = 1234\n",
        "a.name = '鈴木太郎'\n",
        "b.id = 1235\n",
        "b.name = '山田花子'"
      ],
      "metadata": {
        "id": "q0AL-lPCCTIQ"
      },
      "execution_count": 20,
      "outputs": []
    },
    {
      "cell_type": "markdown",
      "source": [
        "インスタンス変数の値を変更できました"
      ],
      "metadata": {
        "id": "N__3LTyRCjGE"
      }
    },
    {
      "cell_type": "code",
      "source": [
        "class StudentCard:\n",
        "  def __init__(self, id, name):\n",
        "    self.id = id\n",
        "    self.name = name\n",
        "\n",
        "a = StudentCard(1234, '鈴木太郎')\n",
        "b = StudentCard(1235, '山田花子')"
      ],
      "metadata": {
        "id": "9bV9FFnzCyke"
      },
      "execution_count": 21,
      "outputs": []
    },
    {
      "cell_type": "code",
      "source": [
        "class StudentCard:\n",
        "  def __init__(self, id, name):\n",
        "    self.id = id\n",
        "    self.name = name\n",
        "  \n",
        "  def print_info(self):\n",
        "    print('学籍番号:', self.id)\n",
        "    print('氏名:', self.name)\n",
        "\n",
        "a = StudentCard(1234, '鈴木太郎')\n",
        "b = StudentCard(1235, '山田花子')\n",
        "a.print_info()\n",
        "b.print_info()"
      ],
      "metadata": {
        "colab": {
          "base_uri": "https://localhost:8080/"
        },
        "id": "iHF_8235DOe5",
        "outputId": "cbf5b311-039e-4ece-d38d-6dbd053d3e90"
      },
      "execution_count": 24,
      "outputs": [
        {
          "output_type": "stream",
          "name": "stdout",
          "text": [
            "学籍番号: 1234\n",
            "氏名: 鈴木太郎\n",
            "学籍番号: 1235\n",
            "氏名: 山田花子\n"
          ]
        }
      ]
    },
    {
      "cell_type": "markdown",
      "source": [
        "クラスに定義していたメソッドを、クラスインスタンスから呼び出すことができる。"
      ],
      "metadata": {
        "id": "W40hQp1vEUra"
      }
    },
    {
      "cell_type": "code",
      "source": [
        "class SimpleCalc:\n",
        "  @classmethod\n",
        "  def get_triangle_area(cls, base, height):\n",
        "    return base * height / 2\n",
        "  \n",
        "print(SimpleCalc.get_triangle_area(10,5))"
      ],
      "metadata": {
        "colab": {
          "base_uri": "https://localhost:8080/"
        },
        "id": "o3NzN107DQow",
        "outputId": "e716678d-51b3-4a98-d6e3-84cffb37a4e1"
      },
      "execution_count": 25,
      "outputs": [
        {
          "output_type": "stream",
          "name": "stdout",
          "text": [
            "25.0\n"
          ]
        }
      ]
    },
    {
      "cell_type": "markdown",
      "source": [
        "クラス名.メソッド名()で実行できるメソッドを、クラスメソッドといい、第一引数は自分のクラスを表すcls。"
      ],
      "metadata": {
        "id": "jouOmWESFERQ"
      }
    },
    {
      "cell_type": "code",
      "source": [
        "from student_card import StudentCard\n",
        "\n",
        "a = StudentCard(1234, '鈴木太郎')\n",
        "a.print_info()"
      ],
      "metadata": {
        "colab": {
          "base_uri": "https://localhost:8080/",
          "height": 374
        },
        "id": "zGw_THQ_GFVG",
        "outputId": "cd9269b4-51d7-45a5-ab53-b11ca9daf89f"
      },
      "execution_count": 26,
      "outputs": [
        {
          "output_type": "error",
          "ename": "ModuleNotFoundError",
          "evalue": "ignored",
          "traceback": [
            "\u001b[0;31m---------------------------------------------------------------------------\u001b[0m",
            "\u001b[0;31mModuleNotFoundError\u001b[0m                       Traceback (most recent call last)",
            "\u001b[0;32m<ipython-input-26-7b61dd7a513f>\u001b[0m in \u001b[0;36m<module>\u001b[0;34m\u001b[0m\n\u001b[0;32m----> 1\u001b[0;31m \u001b[0;32mfrom\u001b[0m \u001b[0mstudent_card\u001b[0m \u001b[0;32mimport\u001b[0m \u001b[0mStudentCard\u001b[0m\u001b[0;34m\u001b[0m\u001b[0;34m\u001b[0m\u001b[0m\n\u001b[0m\u001b[1;32m      2\u001b[0m \u001b[0;34m\u001b[0m\u001b[0m\n\u001b[1;32m      3\u001b[0m \u001b[0ma\u001b[0m \u001b[0;34m=\u001b[0m \u001b[0mStudentCard\u001b[0m\u001b[0;34m(\u001b[0m\u001b[0;36m1234\u001b[0m\u001b[0;34m,\u001b[0m \u001b[0;34m'鈴木太郎'\u001b[0m\u001b[0;34m)\u001b[0m\u001b[0;34m\u001b[0m\u001b[0;34m\u001b[0m\u001b[0m\n\u001b[1;32m      4\u001b[0m \u001b[0ma\u001b[0m\u001b[0;34m.\u001b[0m\u001b[0mprint_info\u001b[0m\u001b[0;34m(\u001b[0m\u001b[0;34m)\u001b[0m\u001b[0;34m\u001b[0m\u001b[0;34m\u001b[0m\u001b[0m\n",
            "\u001b[0;31mModuleNotFoundError\u001b[0m: No module named 'student_card'",
            "",
            "\u001b[0;31m---------------------------------------------------------------------------\u001b[0;32m\nNOTE: If your import is failing due to a missing package, you can\nmanually install dependencies using either !pip or !apt.\n\nTo view examples of installing some common dependencies, click the\n\"Open Examples\" button below.\n\u001b[0;31m---------------------------------------------------------------------------\u001b[0m\n"
          ],
          "errorDetails": {
            "actions": [
              {
                "action": "open_url",
                "actionText": "Open Examples",
                "url": "/notebooks/snippets/importing_libraries.ipynb"
              }
            ]
          }
        }
      ]
    },
    {
      "cell_type": "markdown",
      "source": [
        "class StudentCard: をstudent_card.pyとして保存する。from student_card import StudentCard と記述して、クラスを定義したファイルをモジュールとして利用できる。"
      ],
      "metadata": {
        "id": "74YzTuxwGiBf"
      }
    },
    {
      "cell_type": "code",
      "source": [
        "class NameCard:\n",
        "  def __init__(self, name):\n",
        "    self.name = name\n",
        "\n",
        "if __name__ == '__main__':\n",
        "  a = NameCard('鈴木太郎')\n",
        "  print（a.name)"
      ],
      "metadata": {
        "id": "c2JMcF9hG-HF"
      },
      "execution_count": null,
      "outputs": []
    },
    {
      "cell_type": "markdown",
      "source": [
        "クラスNameCardをインポートしたとき、__name__変数が、'__main__'となるため、上記のように記述した場合、インポート時にはif __name__ == '__main__'以下は実行されない。"
      ],
      "metadata": {
        "id": "UlWQcFVLHrk0"
      }
    },
    {
      "cell_type": "markdown",
      "source": [
        "239ページまで。"
      ],
      "metadata": {
        "id": "jWB0yEQqIH5z"
      }
    }
  ]
}